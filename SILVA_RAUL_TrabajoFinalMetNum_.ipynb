{
  "nbformat": 4,
  "nbformat_minor": 0,
  "metadata": {
    "colab": {
      "name": "SILVA_RAUL_TrabajoFinalMetNum_.ipynb",
      "provenance": [],
      "collapsed_sections": [],
      "include_colab_link": true
    },
    "kernelspec": {
      "name": "python3",
      "display_name": "Python 3"
    }
  },
  "cells": [
    {
      "cell_type": "markdown",
      "metadata": {
        "id": "view-in-github",
        "colab_type": "text"
      },
      "source": [
        "<a href=\"https://colab.research.google.com/github/roilhi/MetNum_ITECI_2020/blob/gh-pages/SILVA_RAUL_TrabajoFinalMetNum_.ipynb\" target=\"_parent\"><img src=\"https://colab.research.google.com/assets/colab-badge.svg\" alt=\"Open In Colab\"/></a>"
      ]
    },
    {
      "cell_type": "markdown",
      "metadata": {
        "id": "tZ0BhM9O15Nm",
        "colab_type": "text"
      },
      "source": [
        "# TRABAJO FINAL METODOS NUMERICOS\n"
      ]
    },
    {
      "cell_type": "markdown",
      "metadata": {
        "id": "Gv2YsoObGfXE",
        "colab_type": "text"
      },
      "source": [
        "\n",
        "*  Maestro: Roilhi Frajo Ibarra Hernández\n",
        "*  Escuela: Universidad Ensenada\n",
        "*  Carrera: Ingeniería Industrial\n",
        "*  Materia: Metodos numéricos\n",
        "* Alumno: Raúl Silva Concha \n",
        "\n",
        "\n",
        "\n"
      ]
    },
    {
      "cell_type": "markdown",
      "metadata": {
        "id": "jYr3Zc13tX0Q",
        "colab_type": "text"
      },
      "source": [
        "*En el los siguientes codigos aplicaremos funciones,ciclos,graficos y libretas las cuales son necesarias para llevar a cabo estos procedimientos. \n",
        "utilizaremos (def) para funciones\n",
        "\n",
        "*   (def) para funciones\n",
        "*  (while,elif,else,if etc)para ciclos y condicionales\n",
        "*  (numpy,sympy )para matematicas simbolicas\n",
        "*   (matplot.lib)para representar graficos\n",
        "\n",
        "\n",
        "\n",
        "\n",
        "\n",
        "\n",
        "---\n",
        "\n"
      ]
    },
    {
      "cell_type": "markdown",
      "metadata": {
        "id": "eS1qaGxO46_D",
        "colab_type": "text"
      },
      "source": [
        "\n",
        "\n",
        "1. Unidad #1 Raices de *ecuaciones* \n",
        "\n",
        "                    Metodo de biseccion"
      ]
    },
    {
      "cell_type": "markdown",
      "metadata": {
        "id": "8oECZXpw2QHJ",
        "colab_type": "text"
      },
      "source": [
        "A continuacion se presenta un ejemplo el cual es Encontrar la solucion de la ecuacion $x^3-2x^2-1=0$"
      ]
    },
    {
      "cell_type": "code",
      "metadata": {
        "id": "7SvgzD3r2NhF",
        "colab_type": "code",
        "colab": {
          "base_uri": "https://localhost:8080/",
          "height": 34
        },
        "outputId": "508e1e98-acc8-4e0d-a091-f37229feb722"
      },
      "source": [
        "# implementacion del metodo de biseccion en python\n",
        "def f(x):\n",
        "  return x ** 3 - 2 *x **2 - 1\n",
        "a = 0   \n",
        "b = 4\n",
        "error = 10\n",
        "while error > 1e-8:\n",
        "  c = (a + b) / 2\n",
        "  fa = f(a)\n",
        "  fc = f(c) \n",
        "  if fc == 0:\n",
        "    raiz = c\n",
        "    break\n",
        "  elif fa * fc< 0 :\n",
        "    b = c \n",
        "  else:\n",
        "    a = c \n",
        "raiz = c\n",
        "error = abs (fc)\n",
        " \n",
        "print(raiz)"
      ],
      "execution_count": null,
      "outputs": [
        {
          "output_type": "stream",
          "text": [
            "2.2055694304005904\n"
          ],
          "name": "stdout"
        }
      ]
    },
    {
      "cell_type": "code",
      "metadata": {
        "id": "bY02bOSF7srO",
        "colab_type": "code",
        "colab": {
          "base_uri": "https://localhost:8080/",
          "height": 265
        },
        "outputId": "9d737fd6-3178-4e25-d53e-4146d977d21f"
      },
      "source": [
        "import matplotlib.pyplot as plt\n",
        "import numpy as np\n",
        " \n",
        "x = np.linspace(0, 4, 101)\n",
        "plt.plot(x, f(x))\n",
        "# Mostrar el punto de la raíz en la gráfica:\n",
        "plt.plot(raiz,0,'o',label='raíz encontrada') \n",
        "plt.grid()\n",
        "plt.show()"
      ],
      "execution_count": null,
      "outputs": [
        {
          "output_type": "display_data",
          "data": {
            "image/png": "[encoded data removed]",
            "text/plain": [
              "<Figure size 432x288 with 1 Axes>"
            ]
          },
          "metadata": {
            "tags": [],
            "needs_background": "light"
          }
        }
      ]
    },
    {
      "cell_type": "code",
      "metadata": {
        "id": "4aDN1NnPAGBD",
        "colab_type": "code",
        "colab": {
          "base_uri": "https://localhost:8080/",
          "height": 34
        },
        "outputId": "76cbda43-fc57-429d-880f-e9e018783ae5"
      },
      "source": [
        "f(raiz)"
      ],
      "execution_count": null,
      "outputs": [
        {
          "output_type": "execute_result",
          "data": {
            "text/plain": [
              "0.0"
            ]
          },
          "metadata": {
            "tags": []
          },
          "execution_count": 10
        }
      ]
    },
    {
      "cell_type": "code",
      "metadata": {
        "id": "IzE3vaRnJpzC",
        "colab_type": "code",
        "colab": {
          "base_uri": "https://localhost:8080/",
          "height": 34
        },
        "outputId": "1cded0e3-76e5-434d-f502-718c96a69642"
      },
      "source": [
        "f(2.2055694304005904)\n"
      ],
      "execution_count": null,
      "outputs": [
        {
          "output_type": "execute_result",
          "data": {
            "text/plain": [
              "0.0"
            ]
          },
          "metadata": {
            "tags": []
          },
          "execution_count": 11
        }
      ]
    },
    {
      "cell_type": "markdown",
      "metadata": {
        "id": "Dy36Jf-LM-Ej",
        "colab_type": "text"
      },
      "source": [
        "\n",
        "\n",
        "2. Unidad 2 Interpolacion y regresion numerica\n",
        "**Metodo de interpolacion de Lagrange**\n",
        "\n",
        "Como siguiente ejemplo se presento interpolacion lagrange\n",
        "Donde los valores asignados son :\n",
        "$$ xi = 1,3,5,7 $$\n",
        "$$ f(xi) = -2,1,2,3 $$\n",
        "\n"
      ]
    },
    {
      "cell_type": "code",
      "metadata": {
        "id": "eHdyhbRIUxD6",
        "colab_type": "code",
        "colab": {
          "base_uri": "https://localhost:8080/",
          "height": 431
        },
        "outputId": "bac054b6-2b1a-4635-a416-0ca88caff234"
      },
      "source": [
        "# EJemplo de Interpolación de Lagrange\n",
        "# divisoresL solo para mostrar valores\n",
        "import numpy as np\n",
        "import sympy as sym\n",
        "import matplotlib.pyplot as plt\n",
        "\n",
        "# A CONTINUACIÓN INGRESO , Datos de prueba\n",
        "xi = np.array([1, 3, 5, 7])\n",
        "fi = np.array([-2, 1, 2, 3])\n",
        "\n",
        "# PROCEDIMIENTO\n",
        "# Polinomio de Lagrange\n",
        "n = len(xi)\n",
        "x = sym.Symbol('x')\n",
        "polinomio = 0\n",
        "divisorL = np.zeros(n, dtype = float)\n",
        "for i in range(0,n,1):\n",
        "    # Termino de Lagrange\n",
        "    numerador = 1\n",
        "    denominador = 1\n",
        "    for j  in range(0,n,1):\n",
        "        if (j!=i):\n",
        "            numerador = numerador*(x-xi[j])\n",
        "            denominador = denominador*(xi[i]-xi[j])\n",
        "    terminoLi = numerador/denominador\n",
        "    polinomio = polinomio + terminoLi*fi[i]\n",
        "    divisorL[i] = denominador\n",
        "# simplifica el polinomio\n",
        "polisimple = polinomio.expand()\n",
        "# para evaluación numérica\n",
        "px = sym.lambdify(x,polisimple)\n",
        "\n",
        "# Puntos para la gráfica\n",
        "muestras = 101\n",
        "a = np.min(xi)\n",
        "b = np.max(xi)\n",
        "pxi = np.linspace(a,b,muestras)\n",
        "pfi = px(pxi)\n",
        "\n",
        "# Salida\n",
        "print('    valores de fi: ',fi)\n",
        "print('divisores en L(i): ',divisorL)\n",
        "print()\n",
        "print('Polinomio de Lagrange, expresiones')\n",
        "print(polinomio)\n",
        "print()\n",
        "print('Polinomio de Lagrange: ')\n",
        "print(polisimple)\n",
        "\n",
        "# Gráfica\n",
        "plt.plot(xi,fi,'o', label = 'Puntos')\n",
        "plt.plot(pxi,pfi, label = 'Polinomio')\n",
        "plt.legend()\n",
        "plt.xlabel('xi')\n",
        "plt.ylabel('fi')\n",
        "plt.title('Interpolación Lagrange')\n",
        "plt.show()"
      ],
      "execution_count": null,
      "outputs": [
        {
          "output_type": "stream",
          "text": [
            "    valores de fi:  [-2  1  2  3]\n",
            "divisores en L(i):  [-48.  16. -16.  48.]\n",
            "\n",
            "Polinomio de Lagrange, expresiones\n",
            "(x - 7)*(x - 5)*(x - 3)/24 + (x - 7)*(x - 5)*(x - 1)/16 - (x - 7)*(x - 3)*(x - 1)/8 + (x - 5)*(x - 3)*(x - 1)/16\n",
            "\n",
            "Polinomio de Lagrange: \n",
            "x**3/24 - 5*x**2/8 + 83*x/24 - 39/8\n"
          ],
          "name": "stdout"
        },
        {
          "output_type": "display_data",
          "data": {
            "image/png": "[encoded data removed]",
            "text/plain": [
              "<Figure size 432x288 with 1 Axes>"
            ]
          },
          "metadata": {
            "tags": [],
            "needs_background": "light"
          }
        }
      ]
    },
    {
      "cell_type": "markdown",
      "metadata": {
        "id": "EDJMJd0K9IWA",
        "colab_type": "text"
      },
      "source": [
        "\n",
        "\n",
        "3. Unidad 3   Itegracion y diferenciacion numericas\n",
        "**Metodo de trapecio**\n",
        "\n"
      ]
    },
    {
      "cell_type": "code",
      "metadata": {
        "id": "1aigFhAfM6Zy",
        "colab_type": "code",
        "colab": {}
      },
      "source": [
        ""
      ],
      "execution_count": null,
      "outputs": []
    },
    {
      "cell_type": "markdown",
      "metadata": {
        "id": "YauDefMc9CEt",
        "colab_type": "text"
      },
      "source": [
        ""
      ]
    },
    {
      "cell_type": "code",
      "metadata": {
        "id": "CFTDTW779DL2",
        "colab_type": "code",
        "colab": {
          "base_uri": "https://localhost:8080/",
          "height": 449
        },
        "outputId": "0ad3abd1-1cb3-4615-e133-726b05fc7ad0"
      },
      "source": [
        "#metodo de trapecio multiple\n",
        "\n",
        "import numpy as np\n",
        "import matplotlib.pyplot as plt\n",
        "\n",
        "def trapecio(n,x,fx,t):\n",
        "  sum=0\n",
        "  for i in range(1,n):\n",
        "    sum=sum+fx[i]\n",
        "  I=(x[n]-x[0])*(fx[n])/(2*t)\n",
        "  return I\n",
        "\n",
        "num=int(input(\"Numero de datos para analizar \"))\n",
        "h=float(input(\"ancho de loa trapecios \"))\n",
        "n=num\n",
        "x=np.zeros([n])\n",
        "fx=np.zeros([n])\n",
        "print(\"introduce los datos\")\n",
        "for i in range(0,n):\n",
        "  x[i]=input(\"x[\"+str(i)+\"]=\")\n",
        "  fx[i]=input(\"fx[\"+str(i)+\"]=\") \n",
        "\n",
        "#ajuste respecto a la posicion\n",
        "n=num-1\n",
        "t=(x[n]-x[0])/h\n",
        "print(\"el valor de la integral: \",trapecio(n,x,fx,t))\n",
        "#grafica\n",
        "plt.plot(x,fx)\n",
        "plt.ylabel('f(x)')\n",
        "plt.xlabel('x')\n",
        "plt.show()"
      ],
      "execution_count": null,
      "outputs": [
        {
          "output_type": "stream",
          "text": [
            "Numero de datos para analizar 3\n",
            "ancho de loa trapecios 2.666666667\n",
            "introduce los datos\n",
            "x[0]=-3\n",
            "fx[0]=-3375\n",
            "x[1]=-0.333333333\n",
            "fx[1]=-81.37037037\n",
            "x[2]=2.333333333\n",
            "fx[2]=254.037037\n",
            "el valor de la integral:  338.71604937567275\n"
          ],
          "name": "stdout"
        },
        {
          "output_type": "display_data",
          "data": {
            "image/png": "[encoded data removed]",
            "text/plain": [
              "<Figure size 432x288 with 1 Axes>"
            ]
          },
          "metadata": {
            "tags": [],
            "needs_background": "light"
          }
        }
      ]
    },
    {
      "cell_type": "markdown",
      "metadata": {
        "id": "peVTLvtbOCjS",
        "colab_type": "text"
      },
      "source": [
        "Eliminacion por metodo Gauss jordan //falta arreglar error"
      ]
    },
    {
      "cell_type": "code",
      "metadata": {
        "id": "s6qKgf7zOASn",
        "colab_type": "code",
        "colab": {
          "base_uri": "https://localhost:8080/",
          "height": 129
        },
        "outputId": "995e2c4c-2e57-4936-e9be-71a481c200bb"
      },
      "source": [
        "import numpy\n",
        "m=int(raw_input('Valor de m:'))\n",
        "n=int(raw_input('Valor de n:'))\n",
        "matrix = numpy.zeros((m,n))\n",
        "vector= numpy.zeros((n))\n",
        "x=numpy.zeros((m))\n",
        "print ('Introduce la matriz de coeficientes y el vector solución')\n",
        "for r in range(0,m):\n",
        "    for c in range(0,n):\n",
        "        matrix[(r),(c)]=(raw_input(\"Elemento a[\"+str(r+1)+\",\"+str(c+1)+\"]\"))\n",
        "    vector[(r)]=(raw_input('b['+str(r+1)+']: ')) \n",
        "print(matrix)\n",
        "\n",
        "for k in range (0,m):\n",
        "    for r in range(k+1,m):\n",
        "        factor=(matrix[r,k]/matrix[k,k])\n",
        "        vector[r]=vector[r]-(factor*vector[k])\n",
        "        for c in range(0,n):\n",
        "            matrix[r,c]=matrix[r,c]-(factor*matrix[k,c])\n",
        "\n",
        "#sustitución hacia atrás\n",
        "x[m-1]=vector[m-1]/matrix[m-1,m-1]\n",
        "print x[m-1]\n",
        "\n",
        "for r in range(m-2,-1,-1):\n",
        "   suma=0\n",
        "   for c in range(0,n):\n",
        "      suma=suma+matrix[r,c]*x[c]\n",
        "  x[r]=(vector[r]-suma)/matrix[r,r]\n",
        "\n",
        "\n",
        "print 'Resultado matriz'\n",
        "print(matrix)\n",
        "print 'Resultado del vector'\n",
        "print(vector)\n",
        "print 'Resultados: '\n",
        "print(x)"
      ],
      "execution_count": null,
      "outputs": [
        {
          "output_type": "error",
          "ename": "SyntaxError",
          "evalue": "ignored",
          "traceback": [
            "\u001b[0;36m  File \u001b[0;32m\"<ipython-input-9-47c87f10e73a>\"\u001b[0;36m, line \u001b[0;32m23\u001b[0m\n\u001b[0;31m    print x[m-1]\u001b[0m\n\u001b[0m          ^\u001b[0m\n\u001b[0;31mSyntaxError\u001b[0m\u001b[0;31m:\u001b[0m Missing parentheses in call to 'print'. Did you mean print(x[m-1])?\n"
          ]
        }
      ]
    },
    {
      "cell_type": "markdown",
      "metadata": {
        "id": "zZfUoTcsUvxe",
        "colab_type": "text"
      },
      "source": [
        "Eliminacion gaussiana \n",
        "\n",
        "4. Unidad 4 Sistema de ecuaciones lineales \n",
        "Para demostrar que:\n",
        "$$ x=2,y=1,z=-2 $$\n",
        "son las soluciones del sistema de ecuaciones lineales\n",
        "$$ x+2y+z=2 $$\n",
        "$$ 3x+8y+z=12 $$\n",
        "$$ 4y+z+2 $$\n"
      ]
    },
    {
      "cell_type": "code",
      "metadata": {
        "id": "1CFFEuRIPAWN",
        "colab_type": "code",
        "colab": {
          "base_uri": "https://localhost:8080/",
          "height": 34
        },
        "outputId": "12279730-1856-4b97-f70c-273dea389aeb"
      },
      "source": [
        "import numpy as np\n",
        "\n",
        "A=np.array([[1,2,1],\n",
        "            [3,8,1],\n",
        "            [1,4,1]])\n",
        "\n",
        "b=np.array([2,12,2])\n",
        "\n",
        "N=len(b)\n",
        "x=np.zeros(N)\n",
        "\n",
        "for i in range(N):\n",
        "  x[i]=b[i]/A[i][i]\n",
        "\n",
        "e=np.linalg.norm(A@x-b)  \n",
        "\n",
        "print(x,e)"
      ],
      "execution_count": null,
      "outputs": [
        {
          "output_type": "stream",
          "text": [
            "[2.  1.5 2. ] 12.36931687685298\n"
          ],
          "name": "stdout"
        }
      ]
    },
    {
      "cell_type": "markdown",
      "metadata": {
        "id": "WSKVHLt0Bunu",
        "colab_type": "text"
      },
      "source": [
        "A continuacion otro metodo de gaussjordan"
      ]
    },
    {
      "cell_type": "code",
      "metadata": {
        "id": "OXkX8-HrWdQs",
        "colab_type": "code",
        "colab": {
          "base_uri": "https://localhost:8080/",
          "height": 34
        },
        "outputId": "e6a94f98-2670-4f5d-c187-4090afbff28c"
      },
      "source": [
        "import numpy\n",
        "def gaussJordan(matriz, vector):\n",
        "\n",
        "    matrix = numpy.array(matriz, dtype=numpy.float64)\n",
        "    vector = numpy.array(vector, dtype=numpy.float64)\n",
        "\n",
        "    m = len(vector)\n",
        "    x = numpy.zeros(m)\n",
        "\n",
        "    for k in range(0, m):\n",
        "        for r in range(k+1, m):\n",
        "            factor=(matrix[r,k]/matrix[k,k])\n",
        "            vector[r]=vector[r]-(factor*vector[k])\n",
        "            for c in range(0,m):\n",
        "                matrix[r,c]=matrix[r,c]-(factor*matrix[k,c])\n",
        "\n",
        "    x[m-1]=vector[m-1]/matrix[m-1, m-1]\n",
        "\n",
        "    for r in range(m -1, -2, -1):\n",
        "        suma = 0\n",
        "        for c in range(0,m):\n",
        "            suma=suma+matrix[r,c]*x[c]\n",
        "        x[r]=(vector[r]-suma)/matrix[r, r]  \n",
        "    return x\n",
        "\n",
        "print(gaussJordan([[1,2,1],[3,8,1],[1,4,1]],[2,12,2]))"
      ],
      "execution_count": null,
      "outputs": [
        {
          "output_type": "stream",
          "text": [
            "[-4.  3. -3.]\n"
          ],
          "name": "stdout"
        }
      ]
    },
    {
      "cell_type": "markdown",
      "metadata": {
        "id": "SYmZKy8jE3LL",
        "colab_type": "text"
      },
      "source": [
        "calculo del error relativo porcentual \n",
        "\n",
        "$$\\epsilon_r = \\left \\lvert \\frac{V_r-Vn}{Vn}\\right\\rvert \\times 100 $$"
      ]
    },
    {
      "cell_type": "code",
      "metadata": {
        "id": "7UhxJFa-GwAk",
        "colab_type": "code",
        "colab": {}
      },
      "source": [
        "#FUNCION QUE CALCULE EL ERROR RELATIVO\n",
        "def ErrorRelativo(vreal,vnum):\n",
        "  epsilon = abs((vreal-vnum)/vreal)*100\n",
        "  return epsilon"
      ],
      "execution_count": null,
      "outputs": []
    },
    {
      "cell_type": "markdown",
      "metadata": {
        "id": "iFwF2tk9GviC",
        "colab_type": "text"
      },
      "source": [
        ""
      ]
    },
    {
      "cell_type": "code",
      "metadata": {
        "id": "KRJvDth3GMRM",
        "colab_type": "code",
        "colab": {}
      },
      "source": [
        ""
      ],
      "execution_count": null,
      "outputs": []
    }
  ]
}