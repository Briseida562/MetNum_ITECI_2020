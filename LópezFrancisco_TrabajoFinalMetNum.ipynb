{
  "nbformat": 4,
  "nbformat_minor": 0,
  "metadata": {
    "colab": {
      "name": "LópezFrancisco_TrabajoFinalMetNum.ipynb",
      "provenance": [],
      "collapsed_sections": [],
      "include_colab_link": true
    },
    "kernelspec": {
      "name": "python3",
      "display_name": "Python 3"
    }
  },
  "cells": [
    {
      "cell_type": "markdown",
      "metadata": {
        "id": "view-in-github",
        "colab_type": "text"
      },
      "source": [
        "<a href=\"https://colab.research.google.com/github/roilhi/MetNum_ITECI_2020/blob/gh-pages/L%C3%B3pezFrancisco_TrabajoFinalMetNum.ipynb\" target=\"_parent\"><img src=\"https://colab.research.google.com/assets/colab-badge.svg\" alt=\"Open In Colab\"/></a>"
      ]
    },
    {
      "cell_type": "markdown",
      "metadata": {
        "id": "1NZZSavuVTCd",
        "colab_type": "text"
      },
      "source": [
        "#**Metodos Numericos**\n"
      ]
    },
    {
      "cell_type": "markdown",
      "metadata": {
        "id": "M11eVuwGyaFr",
        "colab_type": "text"
      },
      "source": [
        "## Universidad de Ensenada ITECI Ingeniería Industrial"
      ]
    },
    {
      "cell_type": "markdown",
      "metadata": {
        "id": "H6gfkR8i8K8W",
        "colab_type": "text"
      },
      "source": [
        "ALUMNO: Francisco Javier López Rodríguez"
      ]
    },
    {
      "cell_type": "markdown",
      "metadata": {
        "id": "xDVaIfzHgfuc",
        "colab_type": "text"
      },
      "source": [
        "Introduccion\n",
        "\n",
        "\n",
        "*   En esta libreta de python podran encontrar un ejercicio de cada unidad vista durante la materia, se pueden encontrar ejercicios de ecuaciones y distintos metodos como el metodo de newton, interpolacion de newton, metodo de simpson 1/3 y metodo de Eliminación por Gauss-Jordan. cada uno con su error relatico como tambien podran observar la grafica de cada problema."
      ]
    },
    {
      "cell_type": "markdown",
      "metadata": {
        "id": "FV1MC7MRf59N",
        "colab_type": "text"
      },
      "source": [
        "Objetivos\n",
        "\n",
        "\n",
        "*   Aprender\n",
        "*   Practicar\n",
        "*   Programar"
      ]
    },
    {
      "cell_type": "markdown",
      "metadata": {
        "id": "T5djQsmsmE54",
        "colab_type": "text"
      },
      "source": [
        "**2) Seleccionar un ejercicio de cada unidad:**"
      ]
    },
    {
      "cell_type": "code",
      "metadata": {
        "id": "BVvaKVN5yx9D",
        "colab_type": "code",
        "colab": {}
      },
      "source": [
        "# Primero importamos las librerías necesarias\n",
        "import numpy as np #librería numérica \n",
        "import matplotlib.pyplot as plt #librería para las gráficas\n",
        "import pandas as pd"
      ],
      "execution_count": null,
      "outputs": []
    },
    {
      "cell_type": "markdown",
      "metadata": {
        "id": "LG9WoQpbV7EB",
        "colab_type": "text"
      },
      "source": [
        "\n",
        "1. **Unidad 1:** RAÍCES O SOLUCIONES DE ECUACIONES NO LINEALES:"
      ]
    },
    {
      "cell_type": "markdown",
      "metadata": {
        "id": "iTLZuHY2Vkxp",
        "colab_type": "text"
      },
      "source": [
        "**Metodo de Biseccion:** Hemos observado en el método gráfico que existe\n",
        "una raíz entre los valores a y b si entre f(a) y f(b)\n",
        "hay un cambio de signo.\n"
      ]
    },
    {
      "cell_type": "markdown",
      "metadata": {
        "id": "Ogf_AHDfpIWs",
        "colab_type": "text"
      },
      "source": [
        "En el método de bisección se divide a la mitad un intervalo [a, b]. Si hay un cambio\n",
        "de signo se evalúa la función en el punto medio."
      ]
    },
    {
      "cell_type": "markdown",
      "metadata": {
        "id": "PYHVGLC-3xjb",
        "colab_type": "text"
      },
      "source": [
        "Cálculo del error relativo porcentual: \n",
        "$$\\epsilon_r = \\left \\lvert \\frac{V_r-Vn}{Vr}\\right\\rvert \\times 100 $$"
      ]
    },
    {
      "cell_type": "code",
      "metadata": {
        "id": "SND0dUe27Ro5",
        "colab_type": "code",
        "colab": {}
      },
      "source": [
        "# Función que calcule el error relativo porcentual\n",
        "def ErrorRelativo(vreal,vnum):\n",
        "  epsilon = abs((vreal-vnum)/vreal)*100\n",
        "  return epsilon"
      ],
      "execution_count": null,
      "outputs": []
    },
    {
      "cell_type": "markdown",
      "metadata": {
        "id": "tK86iFu9zrVb",
        "colab_type": "text"
      },
      "source": [
        "*   Método de bisección\n",
        "Estimar la raíz de la función $f(x)=x-\\cos(x)$ en el intervalo $[0.5, 1]$"
      ]
    },
    {
      "cell_type": "code",
      "metadata": {
        "id": "YY2aIq4wzzNO",
        "colab_type": "code",
        "colab": {}
      },
      "source": [
        "# Valores iniciales\n",
        "a =0.5\n",
        "b = 1\n",
        "Vanalitico = 0.73909\n",
        "def fx(x_int):\n",
        "  fx = x_int-np.cos(x_int)\n",
        "  return fx"
      ],
      "execution_count": null,
      "outputs": []
    },
    {
      "cell_type": "code",
      "metadata": {
        "id": "Szy2bKbQ2iue",
        "colab_type": "code",
        "colab": {
          "base_uri": "https://localhost:8080/",
          "height": 204
        },
        "outputId": "e036f372-1715-4d23-b23f-cc122e6eb7bd"
      },
      "source": [
        "numIter = 0\n",
        "N = int(input('Defina un numero N de iteraciones '))\n",
        "x_old = 0\n",
        "while numIter<N: \n",
        "  x_i = (a+b)/2\n",
        "  if fx(a)*fx(x_i)<0:\n",
        "    b = x_i\n",
        "  elif fx(a)*fx(x_i)==0:\n",
        "    raizAproxBisec = x_i\n",
        "  else: \n",
        "    a = x_i\n",
        "  numIter = numIter+1\n",
        "  raizAproxBisec = x_i\n",
        "  ErrorBisec = ErrorRelativo(raizAproxBisec,x_old)\n",
        "  x_old = x_i\n",
        "  print(\"La raíz estimada por el método de bisección es =\",+raizAproxBisec, \"iteración i=\",+numIter)\n",
        "  print(\"El error relativo es =\",+ErrorBisec, \"iteración i=\",+numIter)"
      ],
      "execution_count": null,
      "outputs": [
        {
          "output_type": "stream",
          "text": [
            "Defina un numero N de iteraciones 5\n",
            "La raíz estimada por el método de bisección es = 0.75 iteración i= 1\n",
            "El error relativo es = 100.0 iteración i= 1\n",
            "La raíz estimada por el método de bisección es = 0.625 iteración i= 2\n",
            "El error relativo es = 20.0 iteración i= 2\n",
            "La raíz estimada por el método de bisección es = 0.6875 iteración i= 3\n",
            "El error relativo es = 9.090909090909092 iteración i= 3\n",
            "La raíz estimada por el método de bisección es = 0.71875 iteración i= 4\n",
            "El error relativo es = 4.3478260869565215 iteración i= 4\n",
            "La raíz estimada por el método de bisección es = 0.734375 iteración i= 5\n",
            "El error relativo es = 2.127659574468085 iteración i= 5\n"
          ],
          "name": "stdout"
        }
      ]
    },
    {
      "cell_type": "code",
      "metadata": {
        "id": "ID1doyBsOIgh",
        "colab_type": "code",
        "colab": {
          "base_uri": "https://localhost:8080/",
          "height": 297
        },
        "outputId": "01a4aa68-92c3-4423-84e4-ca99845370e4"
      },
      "source": [
        "# Datos para la graficación \n",
        "ejeX = np.linspace(0,2*np.pi,101)\n",
        "# Graficando la función\n",
        "plt.plot(ejeX,fx(ejeX), label='$f(x)$')\n",
        "# Graficar la raíz encontrada en el método\n",
        "plt.plot(raizAproxBisec,fx(raizAproxBisec),'o',label='raíz encontrada $x_i$')\n",
        "plt.xlabel('$x$')\n",
        "plt.ylabel('$f(x)$')\n",
        "plt.title('Raíz de la función $f(x)=x-cos(x)$ método de bisección')\n",
        "plt.legend() #muestra la leyenda\n",
        "plt.grid() #muestra la cuadrícula\n",
        "plt.show() #Muestra la gráfica"
      ],
      "execution_count": null,
      "outputs": [
        {
          "output_type": "display_data",
          "data": {
            "image/png": "[encoded data removed]",
            "text/plain": [
              "<Figure size 432x288 with 1 Axes>"
            ]
          },
          "metadata": {
            "tags": [],
            "needs_background": "light"
          }
        }
      ]
    },
    {
      "cell_type": "code",
      "metadata": {
        "id": "9MiegzQ6aiKq",
        "colab_type": "code",
        "colab": {
          "base_uri": "https://localhost:8080/",
          "height": 34
        },
        "outputId": "122d0132-b2b4-44a5-e5e9-e3c30ddbd040"
      },
      "source": [
        "%%html\n",
        "<a href=\"https://classroom.google.com/c/MTE2ODQ2NjE3NTcz/m/MTI2MDQ4OTAyODI1/details\" target=\"_blank\">video aquí sobre la explicacion de este tema en classroom</a>"
      ],
      "execution_count": null,
      "outputs": [
        {
          "output_type": "display_data",
          "data": {
            "text/html": [
              "<a href=\"https://classroom.google.com/c/MTE2ODQ2NjE3NTcz/m/MTI2MDQ4OTAyODI1/details\" target=\"_blank\">video aquí sobre la explicacion de este tema en classroom</a>"
            ],
            "text/plain": [
              "<IPython.core.display.HTML object>"
            ]
          },
          "metadata": {
            "tags": []
          }
        }
      ]
    },
    {
      "cell_type": "markdown",
      "metadata": {
        "id": "X7MZHnIoJ6iq",
        "colab_type": "text"
      },
      "source": [
        "2. **Unidad 2:** INTERPOLACIÓN Y REGRESIÓN NUMÉRICAS:"
      ]
    },
    {
      "cell_type": "markdown",
      "metadata": {
        "id": "BqVrF_hdLJ8m",
        "colab_type": "text"
      },
      "source": [
        "**Interpolacion de Newton:** Es de gran utilidad para la ingeniería el concepto de “interpolación”. Se\n",
        "trata de trazar curvas que puedan “ajustar” o predecir una función\n",
        "continua dado un registro de valores discretos."
      ]
    },
    {
      "cell_type": "markdown",
      "metadata": {
        "id": "XtL1w9NAicCh",
        "colab_type": "text"
      },
      "source": [
        "Datos Discretos:"
      ]
    },
    {
      "cell_type": "code",
      "metadata": {
        "id": "Tnqlz5trihZ1",
        "colab_type": "code",
        "colab": {
          "base_uri": "https://localhost:8080/",
          "height": 235
        },
        "outputId": "f3ef00c1-239c-4535-84de-b13b816ef44f"
      },
      "source": [
        "import pandas as pd\n",
        "datos = pd.DataFrame({ \"i\": [0, 1, 2, 3, 4, 5], \"Xi\" : [1.6, 2, 2.5, 3.2, 4, 4.5], \"F(Xi)\" : [2, 8, 14, 15, 8, 2]}, index=[\"X1\", \"X2\", \"X3\", \"X4\", \"X5\", \"X6\"])\n",
        "datos"
      ],
      "execution_count": null,
      "outputs": [
        {
          "output_type": "execute_result",
          "data": {
            "text/html": [
              "<div>\n",
              "<style scoped>\n",
              "    .dataframe tbody tr th:only-of-type {\n",
              "        vertical-align: middle;\n",
              "    }\n",
              "\n",
              "    .dataframe tbody tr th {\n",
              "        vertical-align: top;\n",
              "    }\n",
              "\n",
              "    .dataframe thead th {\n",
              "        text-align: right;\n",
              "    }\n",
              "</style>\n",
              "<table border=\"1\" class=\"dataframe\">\n",
              "  <thead>\n",
              "    <tr style=\"text-align: right;\">\n",
              "      <th></th>\n",
              "      <th>i</th>\n",
              "      <th>Xi</th>\n",
              "      <th>F(Xi)</th>\n",
              "    </tr>\n",
              "  </thead>\n",
              "  <tbody>\n",
              "    <tr>\n",
              "      <th>X1</th>\n",
              "      <td>0</td>\n",
              "      <td>1.6</td>\n",
              "      <td>2</td>\n",
              "    </tr>\n",
              "    <tr>\n",
              "      <th>X2</th>\n",
              "      <td>1</td>\n",
              "      <td>2.0</td>\n",
              "      <td>8</td>\n",
              "    </tr>\n",
              "    <tr>\n",
              "      <th>X3</th>\n",
              "      <td>2</td>\n",
              "      <td>2.5</td>\n",
              "      <td>14</td>\n",
              "    </tr>\n",
              "    <tr>\n",
              "      <th>X4</th>\n",
              "      <td>3</td>\n",
              "      <td>3.2</td>\n",
              "      <td>15</td>\n",
              "    </tr>\n",
              "    <tr>\n",
              "      <th>X5</th>\n",
              "      <td>4</td>\n",
              "      <td>4.0</td>\n",
              "      <td>8</td>\n",
              "    </tr>\n",
              "    <tr>\n",
              "      <th>X6</th>\n",
              "      <td>5</td>\n",
              "      <td>4.5</td>\n",
              "      <td>2</td>\n",
              "    </tr>\n",
              "  </tbody>\n",
              "</table>\n",
              "</div>"
            ],
            "text/plain": [
              "    i   Xi  F(Xi)\n",
              "X1  0  1.6      2\n",
              "X2  1  2.0      8\n",
              "X3  2  2.5     14\n",
              "X4  3  3.2     15\n",
              "X5  4  4.0      8\n",
              "X6  5  4.5      2"
            ]
          },
          "metadata": {
            "tags": []
          },
          "execution_count": 113
        }
      ]
    },
    {
      "cell_type": "code",
      "metadata": {
        "id": "7awMsP1ix8Bk",
        "colab_type": "code",
        "colab": {
          "base_uri": "https://localhost:8080/",
          "height": 286
        },
        "outputId": "762f1f97-c7c0-4d24-fbc0-3b98ac136034"
      },
      "source": [
        "datos.plot.bar()"
      ],
      "execution_count": null,
      "outputs": [
        {
          "output_type": "execute_result",
          "data": {
            "text/plain": [
              "<matplotlib.axes._subplots.AxesSubplot at 0x7fe2a1360390>"
            ]
          },
          "metadata": {
            "tags": []
          },
          "execution_count": 114
        },
        {
          "output_type": "display_data",
          "data": {
            "image/png": "[encoded data removed]",
            "text/plain": [
              "<Figure size 432x288 with 1 Axes>"
            ]
          },
          "metadata": {
            "tags": [],
            "needs_background": "light"
          }
        }
      ]
    },
    {
      "cell_type": "markdown",
      "metadata": {
        "id": "ARf3CRh5yD6b",
        "colab_type": "text"
      },
      "source": [
        "*   Método de Interpolacíon de Newton:"
      ]
    },
    {
      "cell_type": "markdown",
      "metadata": {
        "id": "SEMz7eApzPe6",
        "colab_type": "text"
      },
      "source": [
        "N=1"
      ]
    },
    {
      "cell_type": "markdown",
      "metadata": {
        "id": "zeInNMPXMzuE",
        "colab_type": "text"
      },
      "source": [
        "Evaluar en la función $f(x)=f[x_1,x_0]=\\frac{f(x_1)-f(x_0)}{x_1-x_0}=\\frac{8-2}{2-1.6}=\\frac{6}{0.4}=15$   "
      ]
    },
    {
      "cell_type": "markdown",
      "metadata": {
        "id": "G1TNGCe3yA_C",
        "colab_type": "text"
      },
      "source": [
        "Evaluar en la función $f(x)=f[x_2,x_1]=\\frac{f(x_2)-f(x_1)}{x_2-x_1}=\\frac{14-8}{2.5-2}=\\frac{6}{0.5}=12$"
      ]
    },
    {
      "cell_type": "markdown",
      "metadata": {
        "id": "amZDSHYkzSuy",
        "colab_type": "text"
      },
      "source": [
        "Evaluar en la función $f(x)=f[x_3,x_2]=\\frac{f(x_3)-f(x_2)}{x_3-x_2}=\\frac{15-14}{3.2-2.5}=\\frac{1}{0.7}=1.4285$"
      ]
    },
    {
      "cell_type": "markdown",
      "metadata": {
        "id": "Dzx4VQ-pzZvq",
        "colab_type": "text"
      },
      "source": [
        "N=2"
      ]
    },
    {
      "cell_type": "markdown",
      "metadata": {
        "id": "-4opMCv2zZ4q",
        "colab_type": "text"
      },
      "source": [
        "Evaluar en la función $f(x)=f[x_2,x_1,x_0]=\\frac{f(x_2,x_1)-f(x_1,x_0)}{x_2-x_0}=\\frac{12-15}{12.5-1.6}=\\frac{-3}{0.9}=-3.3333$"
      ]
    },
    {
      "cell_type": "markdown",
      "metadata": {
        "id": "L_vlIYeJzaBX",
        "colab_type": "text"
      },
      "source": [
        "Evaluar en la función $f(x)=f[x_3,x_2,x_1]=\\frac{f(x_3,x_2)-f(x_2,x_1)}{x_3-x_1}=\\frac{1.4285-12}{3.2-2}=\\frac{-10.5715}{1.2}=-8.8095$"
      ]
    },
    {
      "cell_type": "markdown",
      "metadata": {
        "id": "nya7D0YPzgZS",
        "colab_type": "text"
      },
      "source": [
        "N=3"
      ]
    },
    {
      "cell_type": "markdown",
      "metadata": {
        "id": "3MschdzuzgyZ",
        "colab_type": "text"
      },
      "source": [
        "Evaluar en la función  $f(x)=f[x_3,x_2,x_1,x_0]=\\frac{f(x_3,x_2,x_1)-f(x_2,x_1,x_0)}{x_3-x_0}=\\frac{-8.8095-(-3.3333)}{3.2-1.6}=\\frac{-8.8095+3.3333}{1.6}=\\frac{-5.4762}{1.6}-3.4226$"
      ]
    },
    {
      "cell_type": "markdown",
      "metadata": {
        "id": "CRswsC42zmyb",
        "colab_type": "text"
      },
      "source": [
        "$b_1=f[x_1,x_0]=15$"
      ]
    },
    {
      "cell_type": "markdown",
      "metadata": {
        "id": "PP5sGZr6znAq",
        "colab_type": "text"
      },
      "source": [
        "$b_2=f[x_2,x_1,x_0]=-3.3333$"
      ]
    },
    {
      "cell_type": "markdown",
      "metadata": {
        "id": "Wg373EvhznLb",
        "colab_type": "text"
      },
      "source": [
        "$b_3=f[x_3,x_2,x_1,x_0]=-3.4226$"
      ]
    },
    {
      "cell_type": "code",
      "metadata": {
        "id": "_6mDOKak0g1p",
        "colab_type": "code",
        "colab": {
          "base_uri": "https://localhost:8080/",
          "height": 336
        },
        "outputId": "d646380b-d37f-485a-85e5-c8d0855c8a21"
      },
      "source": [
        "%%html\n",
        "<iframe width=\"560\" height=\"315\" src=\"https://www.youtube.com/watch?v=tzNWBdAWiao&t=1505s\" frameborder=\"0\" allow=\"accelerometer; autoplay; encrypted-media; gyr\"<br>"
      ],
      "execution_count": null,
      "outputs": [
        {
          "output_type": "display_data",
          "data": {
            "text/html": [
              "<iframe width=\"560\" height=\"315\" src=\"https://www.youtube.com/watch?v=tzNWBdAWiao&t=1505s\" frameborder=\"0\" allow=\"accelerometer; autoplay; encrypted-media; gyr\"<br>"
            ],
            "text/plain": [
              "<IPython.core.display.HTML object>"
            ]
          },
          "metadata": {
            "tags": []
          }
        }
      ]
    },
    {
      "cell_type": "code",
      "metadata": {
        "id": "4OX7RHHP98Eq",
        "colab_type": "code",
        "colab": {
          "base_uri": "https://localhost:8080/",
          "height": 34
        },
        "outputId": "9f8fcc79-bab9-433d-eb40-4b168dbb6bd7"
      },
      "source": [
        "%%html\n",
        "<a href=\"https://classroom.google.com/c/MTE2ODQ2NjE3NTcz/m/MTE4MzY5NzY3NTc2/details\" target=\"_blank\">video aquí sobre la explicacion de este tema en classroom</a>"
      ],
      "execution_count": null,
      "outputs": [
        {
          "output_type": "display_data",
          "data": {
            "text/html": [
              "<a href=\"https://classroom.google.com/c/MTE2ODQ2NjE3NTcz/m/MTE4MzY5NzY3NTc2/details\" target=\"_blank\">video aquí sobre la explicacion de este tema en classroom</a>"
            ],
            "text/plain": [
              "<IPython.core.display.HTML object>"
            ]
          },
          "metadata": {
            "tags": []
          }
        }
      ]
    },
    {
      "cell_type": "markdown",
      "metadata": {
        "id": "O0XsxSt3_c9a",
        "colab_type": "text"
      },
      "source": [
        "3. **Unidad 3:** INTEGRACIÓN Y DIFERENCIACIÓN NUMERICAS:"
      ]
    },
    {
      "cell_type": "markdown",
      "metadata": {
        "id": "ACEctEmEAyIE",
        "colab_type": "text"
      },
      "source": [
        "**Método de simpson 1/3:** Se toma la ecuación de Newton-Cotes pero ahora la aproximación es\n",
        "con un polinomio de orden 2 (parábola), este puede ser representado\n",
        "por un polinomio de Lagrange."
      ]
    },
    {
      "cell_type": "markdown",
      "metadata": {
        "id": "bNHHxo1GLLMF",
        "colab_type": "text"
      },
      "source": [
        "$I=(b-a)\\frac{f(x_0)+4f(x_1)+f(x_2)}{6}=$"
      ]
    },
    {
      "cell_type": "markdown",
      "metadata": {
        "id": "8YFa6tW8PuC7",
        "colab_type": "text"
      },
      "source": [
        "$x_1=\\frac{b-a}{2}=$"
      ]
    },
    {
      "cell_type": "markdown",
      "metadata": {
        "id": "JJWBpAIKPjE7",
        "colab_type": "text"
      },
      "source": [
        "$x_1=\\frac{1.57-0}{2}=\\frac{1.57}{2}=0.785$"
      ]
    },
    {
      "cell_type": "code",
      "metadata": {
        "id": "Vtj2tAVvADIk",
        "colab_type": "code",
        "colab": {
          "base_uri": "https://localhost:8080/",
          "height": 142
        },
        "outputId": "3a27e0f1-9d8b-4c14-83a2-9cf75053bec6"
      },
      "source": [
        "import pandas as pd\n",
        "datos = pd.DataFrame({ \"X\" : [0, 1.57, 0.785], \"F(X)\" : [9, 6, 8.12]}, index=[\"X0=\",\"X2=\", \"X1=\"])\n",
        "datos"
      ],
      "execution_count": null,
      "outputs": [
        {
          "output_type": "execute_result",
          "data": {
            "text/html": [
              "<div>\n",
              "<style scoped>\n",
              "    .dataframe tbody tr th:only-of-type {\n",
              "        vertical-align: middle;\n",
              "    }\n",
              "\n",
              "    .dataframe tbody tr th {\n",
              "        vertical-align: top;\n",
              "    }\n",
              "\n",
              "    .dataframe thead th {\n",
              "        text-align: right;\n",
              "    }\n",
              "</style>\n",
              "<table border=\"1\" class=\"dataframe\">\n",
              "  <thead>\n",
              "    <tr style=\"text-align: right;\">\n",
              "      <th></th>\n",
              "      <th>X</th>\n",
              "      <th>F(X)</th>\n",
              "    </tr>\n",
              "  </thead>\n",
              "  <tbody>\n",
              "    <tr>\n",
              "      <th>X0=</th>\n",
              "      <td>0.000</td>\n",
              "      <td>9.00</td>\n",
              "    </tr>\n",
              "    <tr>\n",
              "      <th>X2=</th>\n",
              "      <td>1.570</td>\n",
              "      <td>6.00</td>\n",
              "    </tr>\n",
              "    <tr>\n",
              "      <th>X1=</th>\n",
              "      <td>0.785</td>\n",
              "      <td>8.12</td>\n",
              "    </tr>\n",
              "  </tbody>\n",
              "</table>\n",
              "</div>"
            ],
            "text/plain": [
              "         X  F(X)\n",
              "X0=  0.000  9.00\n",
              "X2=  1.570  6.00\n",
              "X1=  0.785  8.12"
            ]
          },
          "metadata": {
            "tags": []
          },
          "execution_count": 117
        }
      ]
    },
    {
      "cell_type": "markdown",
      "metadata": {
        "id": "ofMh9NMQQnOq",
        "colab_type": "text"
      },
      "source": [
        "$I=(1.57-0)\\frac{9+4(8.12)+6}{6}= 12.4239$"
      ]
    },
    {
      "cell_type": "markdown",
      "metadata": {
        "id": "tVoWe7neRcuh",
        "colab_type": "text"
      },
      "source": [
        "$I= 12.4239$"
      ]
    },
    {
      "cell_type": "markdown",
      "metadata": {
        "id": "DYRygKXfSJT_",
        "colab_type": "text"
      },
      "source": [
        "Cálculo del error relativo porcentual: \n",
        "$$\\epsilon_r = \\left \\lvert \\frac{V_r-Vn}{Vr}\\right\\rvert \\times 100 $$"
      ]
    },
    {
      "cell_type": "code",
      "metadata": {
        "id": "l4GaPF-HRWwz",
        "colab_type": "code",
        "colab": {}
      },
      "source": [
        "# Función que calcule el error relativo porcentual\n",
        "def ErrorRelativo(vreal,vnum):\n",
        "  epsilon = abs((12.4247-12.4239)/12.4247)*100\n",
        "  return epsilon"
      ],
      "execution_count": null,
      "outputs": []
    },
    {
      "cell_type": "code",
      "metadata": {
        "id": "sVMbLGKHSVs3",
        "colab_type": "code",
        "colab": {
          "base_uri": "https://localhost:8080/",
          "height": 34
        },
        "outputId": "1bfe6a63-ef51-48c8-c627-ea6b82c4237f"
      },
      "source": [
        "  ErrorBisec = ErrorRelativo(raizAproxBisec,x_old)\n",
        "  x_old = x_i\n",
        "  print(\"El error relativo es =\",+ErrorBisec)"
      ],
      "execution_count": null,
      "outputs": [
        {
          "output_type": "stream",
          "text": [
            "El error relativo es = 0.006438787254419921\n"
          ],
          "name": "stdout"
        }
      ]
    },
    {
      "cell_type": "code",
      "metadata": {
        "id": "se1vU7IrSx6i",
        "colab_type": "code",
        "colab": {
          "base_uri": "https://localhost:8080/",
          "height": 297
        },
        "outputId": "6387e89c-6b0d-49c0-e775-5b51b9aa8bff"
      },
      "source": [
        "# Datos para la graficación \n",
        "ejeX = (7.9133*1.57,20)\n",
        "# Graficando la función\n",
        "plt.plot(ejeX,fx(ejeX), label='$I$')\n",
        "# Graficar la raíz encontrada en el método\n",
        "plt.plot(raizAproxBisec,fx(raizAproxBisec),'o',label='funcion $x_1$')\n",
        "plt.xlabel('$x$')\n",
        "plt.ylabel('$f(x)$')\n",
        "plt.title(\"$I=(b-a)\\frac{f(x_0)+4f(x_1)+f(x_2)}{6}=$ método de simpson 1/3\")\n",
        "plt.legend() #muestra la leyenda\n",
        "plt.grid() #muestra la cuadrícula\n",
        "plt.show() #Muestra la gráfica"
      ],
      "execution_count": null,
      "outputs": [
        {
          "output_type": "display_data",
          "data": {
            "image/png": "[encoded data removed]",
            "text/plain": [
              "<Figure size 432x288 with 1 Axes>"
            ]
          },
          "metadata": {
            "tags": [],
            "needs_background": "light"
          }
        }
      ]
    },
    {
      "cell_type": "code",
      "metadata": {
        "id": "3tXlOVpRpZQn",
        "colab_type": "code",
        "colab": {
          "base_uri": "https://localhost:8080/",
          "height": 336
        },
        "outputId": "2347c34a-bd13-49d4-b628-b809cc4591eb"
      },
      "source": [
        "%%html\n",
        "<iframe width=\"560\" height=\"315\" src=\"https://www.youtube.com/watch?v=oDrpEQtf7Hc\" frameborder=\"0\" allow=\"accelerometer; autoplay; encrypted-media; gyr\"<br>"
      ],
      "execution_count": null,
      "outputs": [
        {
          "output_type": "display_data",
          "data": {
            "text/html": [
              "<iframe width=\"560\" height=\"315\" src=\"https://www.youtube.com/watch?v=oDrpEQtf7Hc\" frameborder=\"0\" allow=\"accelerometer; autoplay; encrypted-media; gyr\"<br>"
            ],
            "text/plain": [
              "<IPython.core.display.HTML object>"
            ]
          },
          "metadata": {
            "tags": []
          }
        }
      ]
    },
    {
      "cell_type": "code",
      "metadata": {
        "id": "5_sNvDUhvi2m",
        "colab_type": "code",
        "colab": {
          "base_uri": "https://localhost:8080/",
          "height": 34
        },
        "outputId": "128a0ed0-7970-433a-e949-1183029bae67"
      },
      "source": [
        "%%html\n",
        "<img width=\"500px\" src=\"https://www.youtube.com/watch?v=oDrpEQtf7Hc&t=1s\"></img>"
      ],
      "execution_count": null,
      "outputs": [
        {
          "output_type": "display_data",
          "data": {
            "text/html": [
              "<img width=\"500px\" src=\"https://www.youtube.com/watch?v=oDrpEQtf7Hc&t=1s\"></img>"
            ],
            "text/plain": [
              "<IPython.core.display.HTML object>"
            ]
          },
          "metadata": {
            "tags": []
          }
        }
      ]
    },
    {
      "cell_type": "code",
      "metadata": {
        "id": "cK2vG0Y2ZPOe",
        "colab_type": "code",
        "colab": {
          "base_uri": "https://localhost:8080/",
          "height": 34
        },
        "outputId": "a92b8090-48e8-4d9d-e177-d5ab7260ff08"
      },
      "source": [
        "%%html\n",
        "<a href=\"https://drive.google.com/file/d/1f43vOSorWx2JNkcli7lZfCjCY2DqtOwh/view\" target=\"_blank\">video aquí sobre la explicacion de este tema en classroom</a>"
      ],
      "execution_count": null,
      "outputs": [
        {
          "output_type": "display_data",
          "data": {
            "text/html": [
              "<a href=\"https://drive.google.com/file/d/1f43vOSorWx2JNkcli7lZfCjCY2DqtOwh/view\" target=\"_blank\">video aquí sobre la explicacion de este tema en classroom</a>"
            ],
            "text/plain": [
              "<IPython.core.display.HTML object>"
            ]
          },
          "metadata": {
            "tags": []
          }
        }
      ]
    },
    {
      "cell_type": "markdown",
      "metadata": {
        "id": "byiBfQrkZGSU",
        "colab_type": "text"
      },
      "source": [
        "4. **Unidad 4:** SOLUCIÓN DE SISTEMAS DE ECUACIONES LINEALES:"
      ]
    },
    {
      "cell_type": "markdown",
      "metadata": {
        "id": "NAC_VFCy9LOC",
        "colab_type": "text"
      },
      "source": [
        "Los sistemas de ecuaciones lineales están conformados por un conjunto\n",
        "de expresiones de primer grado. Encontrar su solución, en ingeniería,\n",
        "resuelve los siguientes problemas:\n",
        "\n",
        "\n",
        "\n",
        "*   Encontrar las magnitudes de las fuerzas de reacción en un objeto o tensión de las cuerdas que sujetan a una masa para mantenerla en equilibro.\n",
        "\n",
        "*   Encontrar las magnitudes de las corrientes eléctricas que\n",
        "circulan a través de las mallas de un circuito eléctrico.\n",
        "\n",
        "*   Encontrar la transformación de rotación en una imagen para girarla con cierto ángulo."
      ]
    },
    {
      "cell_type": "markdown",
      "metadata": {
        "id": "K5PLu9gwAP5N",
        "colab_type": "text"
      },
      "source": [
        "Sistema de Ecuaciones Visto en Clase:"
      ]
    },
    {
      "cell_type": "markdown",
      "metadata": {
        "id": "Hp3lcQw9-ztQ",
        "colab_type": "text"
      },
      "source": [
        "$3x_1-0.1x_2-0.2x_3=7.85$"
      ]
    },
    {
      "cell_type": "markdown",
      "metadata": {
        "id": "HQDMwRye_3ez",
        "colab_type": "text"
      },
      "source": [
        "$0.1x_1+7x_2-0.3x_3=-19.3$"
      ]
    },
    {
      "cell_type": "markdown",
      "metadata": {
        "id": "Wi_oNzw3_3nq",
        "colab_type": "text"
      },
      "source": [
        "$0.3x_1-0.2x_2-10x_3=71.4$"
      ]
    },
    {
      "cell_type": "code",
      "metadata": {
        "id": "I-S0VKWUB5Gx",
        "colab_type": "code",
        "colab": {
          "base_uri": "https://localhost:8080/",
          "height": 142
        },
        "outputId": "af3a977e-0d84-4c7d-bcdd-03eb2ced4d87"
      },
      "source": [
        "import pandas as pd\n",
        "datos = pd.DataFrame({ \"X1\" : [3, -0.1, -0.2], \"X2\" : [0.1, 7, -0.3], \"X3\" : [0.3, -0.2, -10]}, index=[\"A\", \"A\", \"A\"])\n",
        "datos"
      ],
      "execution_count": null,
      "outputs": [
        {
          "output_type": "execute_result",
          "data": {
            "text/html": [
              "<div>\n",
              "<style scoped>\n",
              "    .dataframe tbody tr th:only-of-type {\n",
              "        vertical-align: middle;\n",
              "    }\n",
              "\n",
              "    .dataframe tbody tr th {\n",
              "        vertical-align: top;\n",
              "    }\n",
              "\n",
              "    .dataframe thead th {\n",
              "        text-align: right;\n",
              "    }\n",
              "</style>\n",
              "<table border=\"1\" class=\"dataframe\">\n",
              "  <thead>\n",
              "    <tr style=\"text-align: right;\">\n",
              "      <th></th>\n",
              "      <th>X1</th>\n",
              "      <th>X2</th>\n",
              "      <th>X3</th>\n",
              "    </tr>\n",
              "  </thead>\n",
              "  <tbody>\n",
              "    <tr>\n",
              "      <th>A</th>\n",
              "      <td>3.0</td>\n",
              "      <td>0.1</td>\n",
              "      <td>0.3</td>\n",
              "    </tr>\n",
              "    <tr>\n",
              "      <th>A</th>\n",
              "      <td>-0.1</td>\n",
              "      <td>7.0</td>\n",
              "      <td>-0.2</td>\n",
              "    </tr>\n",
              "    <tr>\n",
              "      <th>A</th>\n",
              "      <td>-0.2</td>\n",
              "      <td>-0.3</td>\n",
              "      <td>-10.0</td>\n",
              "    </tr>\n",
              "  </tbody>\n",
              "</table>\n",
              "</div>"
            ],
            "text/plain": [
              "    X1   X2    X3\n",
              "A  3.0  0.1   0.3\n",
              "A -0.1  7.0  -0.2\n",
              "A -0.2 -0.3 -10.0"
            ]
          },
          "metadata": {
            "tags": []
          },
          "execution_count": 124
        }
      ]
    },
    {
      "cell_type": "code",
      "metadata": {
        "id": "15xtLJJJDLa_",
        "colab_type": "code",
        "colab": {
          "base_uri": "https://localhost:8080/",
          "height": 142
        },
        "outputId": "3d30b8b3-6eb8-4033-ffb0-0fe9e7d99449"
      },
      "source": [
        "import pandas as pd\n",
        "datos = pd.DataFrame({ \"X\" : [\"X1\", \"X2\", \"X3\"]}, index=[\"X=\", \"X=\", \"X=\"])\n",
        "datos"
      ],
      "execution_count": null,
      "outputs": [
        {
          "output_type": "execute_result",
          "data": {
            "text/html": [
              "<div>\n",
              "<style scoped>\n",
              "    .dataframe tbody tr th:only-of-type {\n",
              "        vertical-align: middle;\n",
              "    }\n",
              "\n",
              "    .dataframe tbody tr th {\n",
              "        vertical-align: top;\n",
              "    }\n",
              "\n",
              "    .dataframe thead th {\n",
              "        text-align: right;\n",
              "    }\n",
              "</style>\n",
              "<table border=\"1\" class=\"dataframe\">\n",
              "  <thead>\n",
              "    <tr style=\"text-align: right;\">\n",
              "      <th></th>\n",
              "      <th>X</th>\n",
              "    </tr>\n",
              "  </thead>\n",
              "  <tbody>\n",
              "    <tr>\n",
              "      <th>X=</th>\n",
              "      <td>X1</td>\n",
              "    </tr>\n",
              "    <tr>\n",
              "      <th>X=</th>\n",
              "      <td>X2</td>\n",
              "    </tr>\n",
              "    <tr>\n",
              "      <th>X=</th>\n",
              "      <td>X3</td>\n",
              "    </tr>\n",
              "  </tbody>\n",
              "</table>\n",
              "</div>"
            ],
            "text/plain": [
              "     X\n",
              "X=  X1\n",
              "X=  X2\n",
              "X=  X3"
            ]
          },
          "metadata": {
            "tags": []
          },
          "execution_count": 125
        }
      ]
    },
    {
      "cell_type": "code",
      "metadata": {
        "id": "d24X-4K4GBbh",
        "colab_type": "code",
        "colab": {
          "base_uri": "https://localhost:8080/",
          "height": 142
        },
        "outputId": "57fee06d-d89c-4bcc-97e4-7a3ecd52b0a0"
      },
      "source": [
        "import pandas as pd\n",
        "datos = pd.DataFrame({ \"b\": [7.85, -19.3, 71.4]}, index=[\"b=\", \"b=\", \"b=\"])\n",
        "datos"
      ],
      "execution_count": null,
      "outputs": [
        {
          "output_type": "execute_result",
          "data": {
            "text/html": [
              "<div>\n",
              "<style scoped>\n",
              "    .dataframe tbody tr th:only-of-type {\n",
              "        vertical-align: middle;\n",
              "    }\n",
              "\n",
              "    .dataframe tbody tr th {\n",
              "        vertical-align: top;\n",
              "    }\n",
              "\n",
              "    .dataframe thead th {\n",
              "        text-align: right;\n",
              "    }\n",
              "</style>\n",
              "<table border=\"1\" class=\"dataframe\">\n",
              "  <thead>\n",
              "    <tr style=\"text-align: right;\">\n",
              "      <th></th>\n",
              "      <th>b</th>\n",
              "    </tr>\n",
              "  </thead>\n",
              "  <tbody>\n",
              "    <tr>\n",
              "      <th>b=</th>\n",
              "      <td>7.85</td>\n",
              "    </tr>\n",
              "    <tr>\n",
              "      <th>b=</th>\n",
              "      <td>-19.30</td>\n",
              "    </tr>\n",
              "    <tr>\n",
              "      <th>b=</th>\n",
              "      <td>71.40</td>\n",
              "    </tr>\n",
              "  </tbody>\n",
              "</table>\n",
              "</div>"
            ],
            "text/plain": [
              "        b\n",
              "b=   7.85\n",
              "b= -19.30\n",
              "b=  71.40"
            ]
          },
          "metadata": {
            "tags": []
          },
          "execution_count": 126
        }
      ]
    },
    {
      "cell_type": "code",
      "metadata": {
        "id": "CalHHJTIHNz6",
        "colab_type": "code",
        "colab": {
          "base_uri": "https://localhost:8080/",
          "height": 142
        },
        "outputId": "bf253965-80eb-4d09-b73b-84735b6e26ca"
      },
      "source": [
        "import pandas as pd\n",
        "datos = pd.DataFrame({ \"(0)\" : [0, 0, 0]}, index=[\"X1\", \"X2\", \"X3\"])\n",
        "datos"
      ],
      "execution_count": null,
      "outputs": [
        {
          "output_type": "execute_result",
          "data": {
            "text/html": [
              "<div>\n",
              "<style scoped>\n",
              "    .dataframe tbody tr th:only-of-type {\n",
              "        vertical-align: middle;\n",
              "    }\n",
              "\n",
              "    .dataframe tbody tr th {\n",
              "        vertical-align: top;\n",
              "    }\n",
              "\n",
              "    .dataframe thead th {\n",
              "        text-align: right;\n",
              "    }\n",
              "</style>\n",
              "<table border=\"1\" class=\"dataframe\">\n",
              "  <thead>\n",
              "    <tr style=\"text-align: right;\">\n",
              "      <th></th>\n",
              "      <th>(0)</th>\n",
              "    </tr>\n",
              "  </thead>\n",
              "  <tbody>\n",
              "    <tr>\n",
              "      <th>X1</th>\n",
              "      <td>0</td>\n",
              "    </tr>\n",
              "    <tr>\n",
              "      <th>X2</th>\n",
              "      <td>0</td>\n",
              "    </tr>\n",
              "    <tr>\n",
              "      <th>X3</th>\n",
              "      <td>0</td>\n",
              "    </tr>\n",
              "  </tbody>\n",
              "</table>\n",
              "</div>"
            ],
            "text/plain": [
              "    (0)\n",
              "X1    0\n",
              "X2    0\n",
              "X3    0"
            ]
          },
          "metadata": {
            "tags": []
          },
          "execution_count": 127
        }
      ]
    },
    {
      "cell_type": "markdown",
      "metadata": {
        "id": "j6RQ7iHlJYIr",
        "colab_type": "text"
      },
      "source": [
        "(1)"
      ]
    },
    {
      "cell_type": "markdown",
      "metadata": {
        "id": "5Gf58LN_HEAW",
        "colab_type": "text"
      },
      "source": [
        "$X_1(1)=\\frac{-(-0.1)(0)-(-0.2)(0)+7.85}3=2.61$"
      ]
    },
    {
      "cell_type": "markdown",
      "metadata": {
        "id": "WafbeXFrIrdF",
        "colab_type": "text"
      },
      "source": [
        "$X_2(1)=\\frac{-(0.1)(0)-(-0.3)(0)-19.3}7=-2.75$"
      ]
    },
    {
      "cell_type": "markdown",
      "metadata": {
        "id": "nsv8cgdpIrla",
        "colab_type": "text"
      },
      "source": [
        "$X_3(1)=\\frac{-(0.3)(0)-(-0.2)(0)+71.4}{10}=7.14$"
      ]
    },
    {
      "cell_type": "markdown",
      "metadata": {
        "id": "l949xcmLIruS",
        "colab_type": "text"
      },
      "source": [
        "(2)"
      ]
    },
    {
      "cell_type": "markdown",
      "metadata": {
        "id": "rHzFe1_RIr4j",
        "colab_type": "text"
      },
      "source": [
        "$X_1(2)=\\frac{-(-0.1)(-2.75)-(-0.2)(7.14)+7.85}3=3.00$"
      ]
    },
    {
      "cell_type": "markdown",
      "metadata": {
        "id": "ZntulEnDIsDq",
        "colab_type": "text"
      },
      "source": [
        "$X_2(2)=\\frac{-(0.1)(2.61)-(-0.3)(7.14)-19.3}7=-2.48$"
      ]
    },
    {
      "cell_type": "markdown",
      "metadata": {
        "id": "EH7Rk8H8KL0V",
        "colab_type": "text"
      },
      "source": [
        "$X_3(2)=\\frac{-(0.3)(2.61)-(-0.2)(-2.75)+71.4}{10}=7.05$"
      ]
    },
    {
      "cell_type": "markdown",
      "metadata": {
        "id": "nYiERz6TLdyt",
        "colab_type": "text"
      },
      "source": [
        "Cálculo del error relativo porcentual: \n",
        "$$\\epsilon_r = \\left \\lvert \\frac{V_r-Vn}{Vr}\\right\\rvert \\times 100 $$"
      ]
    },
    {
      "cell_type": "code",
      "metadata": {
        "id": "U72gNrYbLSHM",
        "colab_type": "code",
        "colab": {}
      },
      "source": [
        "# Función que calcule el error relativo porcentual\n",
        "def ErrorRelativo(vreal,vnum):\n",
        "  epsilon = abs((3-2.61)/3)*100\n",
        "  return epsilon"
      ],
      "execution_count": null,
      "outputs": []
    },
    {
      "cell_type": "code",
      "metadata": {
        "id": "LMsU335cLwcG",
        "colab_type": "code",
        "colab": {
          "base_uri": "https://localhost:8080/",
          "height": 34
        },
        "outputId": "8130ef2e-0dcd-409c-9c61-220adc11d280"
      },
      "source": [
        "  ErrorBisec = ErrorRelativo(raizAproxBisec,x_old)\n",
        "  x_old = x_i\n",
        "  print(\"Er1= El error relativo es =\",+ErrorBisec)"
      ],
      "execution_count": null,
      "outputs": [
        {
          "output_type": "stream",
          "text": [
            "Er1= El error relativo es = 13.000000000000004\n"
          ],
          "name": "stdout"
        }
      ]
    },
    {
      "cell_type": "code",
      "metadata": {
        "id": "MEVzaztoPQTW",
        "colab_type": "code",
        "colab": {}
      },
      "source": [
        "# Función que calcule el error relativo porcentual\n",
        "def ErrorRelativo(vreal,vnum):\n",
        "  epsilon = abs((-2.48+2.75)/-2.48)*100\n",
        "  return epsilon"
      ],
      "execution_count": null,
      "outputs": []
    },
    {
      "cell_type": "code",
      "metadata": {
        "id": "oIrA_65cPQci",
        "colab_type": "code",
        "colab": {
          "base_uri": "https://localhost:8080/",
          "height": 34
        },
        "outputId": "9c356365-5c1e-4ae7-c319-1fce55470f67"
      },
      "source": [
        "  ErrorBisec = ErrorRelativo(raizAproxBisec,x_old)\n",
        "  x_old = x_i\n",
        "  print(\"Er2= El error relativo es =\",+ErrorBisec)"
      ],
      "execution_count": null,
      "outputs": [
        {
          "output_type": "stream",
          "text": [
            "Er2= El error relativo es = 10.88709677419355\n"
          ],
          "name": "stdout"
        }
      ]
    },
    {
      "cell_type": "code",
      "metadata": {
        "id": "bZxVIn50P0Hn",
        "colab_type": "code",
        "colab": {}
      },
      "source": [
        "# Función que calcule el error relativo porcentual\n",
        "def ErrorRelativo(vreal,vnum):\n",
        "  epsilon = abs((7-7.14)/7)*100\n",
        "  return epsilon"
      ],
      "execution_count": null,
      "outputs": []
    },
    {
      "cell_type": "code",
      "metadata": {
        "id": "0KFrIb4mQKkV",
        "colab_type": "code",
        "colab": {
          "base_uri": "https://localhost:8080/",
          "height": 34
        },
        "outputId": "80ebcd1b-e50c-4afc-ca53-564f57ca6b54"
      },
      "source": [
        "  ErrorBisec = ErrorRelativo(raizAproxBisec,x_old)\n",
        "  x_old = x_i\n",
        "  print(\"Er3= El error relativo es =\",+ErrorBisec)"
      ],
      "execution_count": null,
      "outputs": [
        {
          "output_type": "stream",
          "text": [
            "Er3= El error relativo es = 1.9999999999999956\n"
          ],
          "name": "stdout"
        }
      ]
    },
    {
      "cell_type": "markdown",
      "metadata": {
        "id": "9R073SD-L9b7",
        "colab_type": "text"
      },
      "source": [
        "(3)"
      ]
    },
    {
      "cell_type": "markdown",
      "metadata": {
        "id": "scd0jdpBMC1Y",
        "colab_type": "text"
      },
      "source": [
        "$X_1(3)=\\frac{-(-0.1)(-2.48)-(-0.2)(7)+7.85}3=3.00$"
      ]
    },
    {
      "cell_type": "markdown",
      "metadata": {
        "id": "Wzfj3fqyMEKD",
        "colab_type": "text"
      },
      "source": [
        "$X_2(3)=\\frac{-(0.1)(3)-(-0.3)(7)-19.3}7=-2.5$"
      ]
    },
    {
      "cell_type": "markdown",
      "metadata": {
        "id": "isPmDgIVMEY0",
        "colab_type": "text"
      },
      "source": [
        "$X_3(3)=\\frac{-(0.3)(3)-(-0.2)(-2.48)+71.4}{10}=7$"
      ]
    },
    {
      "cell_type": "markdown",
      "metadata": {
        "id": "NHUlJZE5MGHc",
        "colab_type": "text"
      },
      "source": [
        "Cálculo del error relativo porcentual: \n",
        "$$\\epsilon_r = \\left \\lvert \\frac{V_r-Vn}{Vr}\\right\\rvert \\times 100 $$"
      ]
    },
    {
      "cell_type": "code",
      "metadata": {
        "id": "hRmbxYx8Qnaj",
        "colab_type": "code",
        "colab": {}
      },
      "source": [
        "# Función que calcule el error relativo porcentual\n",
        "def ErrorRelativo(vreal,vnum):\n",
        "  epsilon = abs((3.7690-3)/3.7690)*100\n",
        "  return epsilon"
      ],
      "execution_count": null,
      "outputs": []
    },
    {
      "cell_type": "code",
      "metadata": {
        "id": "B-9UjuBHQnjp",
        "colab_type": "code",
        "colab": {
          "base_uri": "https://localhost:8080/",
          "height": 34
        },
        "outputId": "be23196b-72c7-4ac2-b895-a727ad548163"
      },
      "source": [
        "  ErrorBisec = ErrorRelativo(raizAproxBisec,x_old)\n",
        "  x_old = x_i\n",
        "  print(\"Er1= El error relativo es =\",+ErrorBisec)"
      ],
      "execution_count": null,
      "outputs": [
        {
          "output_type": "stream",
          "text": [
            "Er1= El error relativo es = 20.40328999734678\n"
          ],
          "name": "stdout"
        }
      ]
    },
    {
      "cell_type": "code",
      "metadata": {
        "id": "3HwFXkOyQ51L",
        "colab_type": "code",
        "colab": {}
      },
      "source": [
        "# Función que calcule el error relativo porcentual\n",
        "def ErrorRelativo(vreal,vnum):\n",
        "  epsilon = abs((-2.48+2.5)/-2.48)*100\n",
        "  return epsilon"
      ],
      "execution_count": null,
      "outputs": []
    },
    {
      "cell_type": "code",
      "metadata": {
        "id": "cnGXYIKqQ5_C",
        "colab_type": "code",
        "colab": {
          "base_uri": "https://localhost:8080/",
          "height": 34
        },
        "outputId": "3f394d8f-d711-44c2-a9f1-8303b0e11cc2"
      },
      "source": [
        "  ErrorBisec = ErrorRelativo(raizAproxBisec,x_old)\n",
        "  x_old = x_i\n",
        "  print(\"Er2= El error relativo es =\",+ErrorBisec)"
      ],
      "execution_count": null,
      "outputs": [
        {
          "output_type": "stream",
          "text": [
            "Er2= El error relativo es = 0.8064516129032264\n"
          ],
          "name": "stdout"
        }
      ]
    },
    {
      "cell_type": "code",
      "metadata": {
        "id": "DFnhixADQ6Ir",
        "colab_type": "code",
        "colab": {}
      },
      "source": [
        "# Función que calcule el error relativo porcentual\n",
        "def ErrorRelativo(vreal,vnum):\n",
        "  epsilon = abs((7.05-7)/7.05)*100\n",
        "  return epsilon"
      ],
      "execution_count": null,
      "outputs": []
    },
    {
      "cell_type": "code",
      "metadata": {
        "id": "Dg--soxBQ6Sb",
        "colab_type": "code",
        "colab": {
          "base_uri": "https://localhost:8080/",
          "height": 34
        },
        "outputId": "3b448c10-d15f-4197-b3e9-0fde35f49ff0"
      },
      "source": [
        "  ErrorBisec = ErrorRelativo(raizAproxBisec,x_old)\n",
        "  x_old = x_i\n",
        "  print(\"Er3= El error relativo es =\",+ErrorBisec)"
      ],
      "execution_count": null,
      "outputs": [
        {
          "output_type": "stream",
          "text": [
            "Er3= El error relativo es = 0.7092198581560258\n"
          ],
          "name": "stdout"
        }
      ]
    },
    {
      "cell_type": "markdown",
      "metadata": {
        "id": "RN5KhNVTM7Gk",
        "colab_type": "text"
      },
      "source": [
        "(4)"
      ]
    },
    {
      "cell_type": "markdown",
      "metadata": {
        "id": "nO9ghz86TFB7",
        "colab_type": "text"
      },
      "source": [
        "$X_1(4)=\\frac{-(-0.1)(-2.5)-(-0.2)(7)+7.85}3=3.76$"
      ]
    },
    {
      "cell_type": "markdown",
      "metadata": {
        "id": "P24ZANJ3TFlT",
        "colab_type": "text"
      },
      "source": [
        "$X_2(4)=\\frac{-(0.1)(3.76)-(-0.3)(7)-19.3}7=-2.5$"
      ]
    },
    {
      "cell_type": "markdown",
      "metadata": {
        "id": "9JSGWO7yTFwx",
        "colab_type": "text"
      },
      "source": [
        "$X_3(4)=\\frac{-(0.3)(3.76)-(-0.2)(-2.5)+71.4}{10}=6.9772$"
      ]
    },
    {
      "cell_type": "markdown",
      "metadata": {
        "id": "uPApcuE3VaCQ",
        "colab_type": "text"
      },
      "source": [
        "Cálculo del error relativo porcentual: \n",
        "$$\\epsilon_r = \\left \\lvert \\frac{V_r-Vn}{Vr}\\right\\rvert \\times 100 $$"
      ]
    },
    {
      "cell_type": "code",
      "metadata": {
        "id": "NfADOp6kVRF_",
        "colab_type": "code",
        "colab": {}
      },
      "source": [
        "# Función que calcule el error relativo porcentual\n",
        "def ErrorRelativo(vreal,vnum):\n",
        "  epsilon = abs((3-3.76)/3)*100\n",
        "  return epsilon"
      ],
      "execution_count": null,
      "outputs": []
    },
    {
      "cell_type": "code",
      "metadata": {
        "id": "2fVkj-ZeVeMD",
        "colab_type": "code",
        "colab": {
          "base_uri": "https://localhost:8080/",
          "height": 34
        },
        "outputId": "281f2731-7189-48a0-d78d-1061739fea6c"
      },
      "source": [
        "  ErrorBisec = ErrorRelativo(raizAproxBisec,x_old)\n",
        "  x_old = x_i\n",
        "  print(\"Er1= El error relativo es =\",+ErrorBisec)"
      ],
      "execution_count": null,
      "outputs": [
        {
          "output_type": "stream",
          "text": [
            "Er1= El error relativo es = 25.333333333333325\n"
          ],
          "name": "stdout"
        }
      ]
    },
    {
      "cell_type": "code",
      "metadata": {
        "id": "h4F29057VhNX",
        "colab_type": "code",
        "colab": {}
      },
      "source": [
        "# Función que calcule el error relativo porcentual\n",
        "def ErrorRelativo(vreal,vnum):\n",
        "  epsilon = abs((-2.5+2.503)/-2.5)*100\n",
        "  return epsilon"
      ],
      "execution_count": null,
      "outputs": []
    },
    {
      "cell_type": "code",
      "metadata": {
        "id": "ClqKcGnZV4nc",
        "colab_type": "code",
        "colab": {
          "base_uri": "https://localhost:8080/",
          "height": 34
        },
        "outputId": "3648aa8c-5e96-4b94-be1d-772ab61ea79b"
      },
      "source": [
        "  ErrorBisec = ErrorRelativo(raizAproxBisec,x_old)\n",
        "  x_old = x_i\n",
        "  print(\"Er2= El error relativo es =\",+ErrorBisec)"
      ],
      "execution_count": null,
      "outputs": [
        {
          "output_type": "stream",
          "text": [
            "Er2= El error relativo es = 0.12000000000000455\n"
          ],
          "name": "stdout"
        }
      ]
    },
    {
      "cell_type": "code",
      "metadata": {
        "id": "F8RYpmcEV76b",
        "colab_type": "code",
        "colab": {}
      },
      "source": [
        "# Función que calcule el error relativo porcentual\n",
        "def ErrorRelativo(vreal,vnum):\n",
        "  epsilon = abs((6.97-7)/6.97)*100\n",
        "  return epsilon"
      ],
      "execution_count": null,
      "outputs": []
    },
    {
      "cell_type": "code",
      "metadata": {
        "id": "ndl97DmZV8Nr",
        "colab_type": "code",
        "colab": {
          "base_uri": "https://localhost:8080/",
          "height": 34
        },
        "outputId": "6aac7f4e-b0b8-4ba6-e09b-67c79fbdb751"
      },
      "source": [
        "  ErrorBisec = ErrorRelativo(raizAproxBisec,x_old)\n",
        "  x_old = x_i\n",
        "  print(\"Er= El error relativo es =\",+ErrorBisec)"
      ],
      "execution_count": null,
      "outputs": [
        {
          "output_type": "stream",
          "text": [
            "Er= El error relativo es = 0.43041606886657463\n"
          ],
          "name": "stdout"
        }
      ]
    },
    {
      "cell_type": "code",
      "metadata": {
        "id": "ONC6Zmhyqp6a",
        "colab_type": "code",
        "colab": {
          "base_uri": "https://localhost:8080/",
          "height": 336
        },
        "outputId": "67bf1bda-5b4b-461b-f2ff-5b2d0a918112"
      },
      "source": [
        "%%html\n",
        "<iframe width=\"560\" height=\"315\" src=\"https://www.youtube.com/watch?v=UV6WYhthq7k\" frameborder=\"0\" allow=\"accelerometer; autoplay; encrypted-media; gyr\"<br>"
      ],
      "execution_count": null,
      "outputs": [
        {
          "output_type": "display_data",
          "data": {
            "text/html": [
              "<iframe width=\"560\" height=\"315\" src=\"https://www.youtube.com/watch?v=UV6WYhthq7k\" frameborder=\"0\" allow=\"accelerometer; autoplay; encrypted-media; gyr\"<br>"
            ],
            "text/plain": [
              "<IPython.core.display.HTML object>"
            ]
          },
          "metadata": {
            "tags": []
          }
        }
      ]
    },
    {
      "cell_type": "code",
      "metadata": {
        "id": "frtIYoCBswfl",
        "colab_type": "code",
        "colab": {
          "base_uri": "https://localhost:8080/",
          "height": 34
        },
        "outputId": "15ece7fb-9d5a-4c67-f2ff-db1c61d98275"
      },
      "source": [
        "%%html\n",
        "<img width=\"500px\" src=\"https://www.youtube.com/watch?v=UV6WYhthq7k\"></img>"
      ],
      "execution_count": null,
      "outputs": [
        {
          "output_type": "display_data",
          "data": {
            "text/html": [
              "<img width=\"500px\" src=\"https://www.youtube.com/watch?v=UV6WYhthq7k\"></img>"
            ],
            "text/plain": [
              "<IPython.core.display.HTML object>"
            ]
          },
          "metadata": {
            "tags": []
          }
        }
      ]
    },
    {
      "cell_type": "code",
      "metadata": {
        "id": "4AP9miq6oxNc",
        "colab_type": "code",
        "colab": {
          "base_uri": "https://localhost:8080/",
          "height": 34
        },
        "outputId": "1a5655ad-4306-49c7-b26e-c95bbe88132b"
      },
      "source": [
        "%%html\n",
        "<a href=\"https://drive.google.com/file/d/1K7d7cEYDo17i0L49UTXkNIJFe2o2TJs5/view\" target=\"_blank\">video aquí sobre la explicacion de este tema en classroom</a>"
      ],
      "execution_count": null,
      "outputs": [
        {
          "output_type": "display_data",
          "data": {
            "text/html": [
              "<a href=\"https://drive.google.com/file/d/1K7d7cEYDo17i0L49UTXkNIJFe2o2TJs5/view\" target=\"_blank\">video aquí sobre la explicacion de este tema en classroom</a>"
            ],
            "text/plain": [
              "<IPython.core.display.HTML object>"
            ]
          },
          "metadata": {
            "tags": []
          }
        }
      ]
    },
    {
      "cell_type": "markdown",
      "metadata": {
        "id": "blwuQEivWtmf",
        "colab_type": "text"
      },
      "source": [
        "#Tipos de Variables#"
      ]
    },
    {
      "cell_type": "markdown",
      "metadata": {
        "id": "0l4klXcLad1I",
        "colab_type": "text"
      },
      "source": [
        "\n",
        "\n",
        "*   print (\"hola\")\n",
        "\n"
      ]
    },
    {
      "cell_type": "markdown",
      "metadata": {
        "id": "MsU0H5DsbwjN",
        "colab_type": "text"
      },
      "source": [
        "\n",
        "\n",
        "*   Celda\n",
        "\n"
      ]
    },
    {
      "cell_type": "markdown",
      "metadata": {
        "id": "ZwLlCahacHBW",
        "colab_type": "text"
      },
      "source": [
        "\n",
        "\n",
        "*   Todo lo que esta entre comillas (\" \")\n",
        "\n"
      ]
    },
    {
      "cell_type": "markdown",
      "metadata": {
        "id": "VGWSq0hucaD0",
        "colab_type": "text"
      },
      "source": [
        "\n",
        "\n",
        "*   Ha estos se les conoce como punto flotante\n",
        "\n"
      ]
    },
    {
      "cell_type": "markdown",
      "metadata": {
        "id": "69cOza7Ncxf2",
        "colab_type": "text"
      },
      "source": [
        "\n",
        "\n",
        "*   Ha estos se les conoce como numeros enteros\n",
        "\n"
      ]
    },
    {
      "cell_type": "markdown",
      "metadata": {
        "id": "9ejGuHZ0dBmz",
        "colab_type": "text"
      },
      "source": [
        "\n",
        "\n",
        "*   Los booleanos son\n",
        "\n"
      ]
    },
    {
      "cell_type": "markdown",
      "metadata": {
        "id": "mIS58zMmdXN2",
        "colab_type": "text"
      },
      "source": [
        "\n",
        "\n",
        "*   Esta es la forma correcta para agregar una ecuacion\n",
        "\n"
      ]
    },
    {
      "cell_type": "markdown",
      "metadata": {
        "id": "vqpX7dNpdxAW",
        "colab_type": "text"
      },
      "source": [
        "Los superindices se ponen con este simbolo ^"
      ]
    },
    {
      "cell_type": "markdown",
      "metadata": {
        "id": "SVhZa1CzeVBF",
        "colab_type": "text"
      },
      "source": [
        "\n",
        "\n",
        "*   Los Subindices se ponen con el guion bajo (_)\n",
        "\n"
      ]
    },
    {
      "cell_type": "markdown",
      "metadata": {
        "id": "3c7xy5Upe1wr",
        "colab_type": "text"
      },
      "source": [
        "\n",
        "\n",
        "*   La diagonal invertida $\\pi\n",
        "\n"
      ]
    },
    {
      "cell_type": "markdown",
      "metadata": {
        "id": "KtRjRABcgPKO",
        "colab_type": "text"
      },
      "source": [
        "\n",
        "\n",
        "*   Para las fracciones \\frac\n",
        "\n"
      ]
    },
    {
      "cell_type": "markdown",
      "metadata": {
        "id": "JeOUExlZhFY9",
        "colab_type": "text"
      },
      "source": [
        "\n",
        "\n",
        "*   \\pm\n",
        "\n"
      ]
    },
    {
      "cell_type": "markdown",
      "metadata": {
        "id": "WaAc9RTbhXea",
        "colab_type": "text"
      },
      "source": [
        "\n",
        "\n",
        "*   \\sqrt\n",
        "\n"
      ]
    },
    {
      "cell_type": "markdown",
      "metadata": {
        "id": "YZbkzWQRiKk_",
        "colab_type": "text"
      },
      "source": [
        "\n",
        "\n",
        "*   \\times\n",
        "\n"
      ]
    },
    {
      "cell_type": "markdown",
      "metadata": {
        "id": "uliT3T9Miky1",
        "colab_type": "text"
      },
      "source": [
        "*   \\geq"
      ]
    },
    {
      "cell_type": "markdown",
      "metadata": {
        "id": "6CC02-rLjAQs",
        "colab_type": "text"
      },
      "source": [
        "*   \\leq"
      ]
    },
    {
      "cell_type": "markdown",
      "metadata": {
        "id": "SBSy9SrhjY20",
        "colab_type": "text"
      },
      "source": [
        "\n",
        "\n",
        "*   \\int\n",
        "\n"
      ]
    },
    {
      "cell_type": "markdown",
      "metadata": {
        "id": "3_EHsoWqktfv",
        "colab_type": "text"
      },
      "source": [
        "#Conclusión:"
      ]
    },
    {
      "cell_type": "markdown",
      "metadata": {
        "id": "7dWNgp2wk3Wc",
        "colab_type": "text"
      },
      "source": [
        "\n",
        "\n",
        "*   Mi conclusión es que para ser un buen programador se necesita más que 1 mes de clases, creo que cumplí con los objetivos de este trabajo, aunque es muy importante mencionar que me hace falta mucho por aprender. Google colab es una herramienta de programación muy interesante, me gustaría no dejar esto por terminado, si no, seguir buscando información o tutoriales de programación en este tipo de programas, ya que son de demasiada utilidad en la carrera como ingeniero industrial, creo que tener una buena habilidad en esta herramienta me dará un plus en mi experiencia laboral.\n",
        "\n"
      ]
    },
    {
      "cell_type": "markdown",
      "metadata": {
        "id": "Gb_vNoidmR4q",
        "colab_type": "text"
      },
      "source": [
        "#Observaciones del curso:"
      ]
    },
    {
      "cell_type": "markdown",
      "metadata": {
        "id": "hGmsMw8ImZED",
        "colab_type": "text"
      },
      "source": [
        "\n",
        "\n",
        "*   Logré observar que fue un curso muy rápido, pero bien aprovechado, al principio le batallé un poco, pero a como fueron pasando los días pude mejorar en mis trabajos. Es muy importante mencionar que el docente que impartió este curso estuvo con toda la disponibilidad de aclararnos dudas y fue muy tolerante con la entrega de trabajos. Por ultimo quiero dar gracias por el esfuerzo del profe de apoyarnos en sus tiempos libres para contestar dudas y resolver las mismas.\n",
        "\n"
      ]
    },
    {
      "cell_type": "markdown",
      "metadata": {
        "id": "6gshUFYNoWDL",
        "colab_type": "text"
      },
      "source": [
        "#FIN DEL DOCUMENTO"
      ]
    }
  ]
}