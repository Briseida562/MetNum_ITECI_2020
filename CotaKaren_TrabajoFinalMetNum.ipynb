{
  "nbformat": 4,
  "nbformat_minor": 0,
  "metadata": {
    "colab": {
      "name": "CotaKaren_TrabajoFinalMetNum.ipynb",
      "provenance": [],
      "collapsed_sections": [],
      "include_colab_link": true
    },
    "kernelspec": {
      "name": "python3",
      "display_name": "Python 3"
    }
  },
  "cells": [
    {
      "cell_type": "markdown",
      "metadata": {
        "id": "view-in-github",
        "colab_type": "text"
      },
      "source": [
        "<a href=\"https://colab.research.google.com/github/roilhi/MetNum_ITECI_2020/blob/gh-pages/CotaKaren_TrabajoFinalMetNum.ipynb\" target=\"_parent\"><img src=\"https://colab.research.google.com/assets/colab-badge.svg\" alt=\"Open In Colab\"/></a>"
      ]
    },
    {
      "cell_type": "markdown",
      "metadata": {
        "id": "iudgI88pN1mS",
        "colab_type": "text"
      },
      "source": [
        "# Universidad de Ensenada\n",
        "\n",
        "**Curso de Métodos Numéricos**\n",
        "\n",
        "*Repaso y Programación de algunos métodos vistos*\n",
        "\n",
        "**Karen Nohemy Cota Quezada**"
      ]
    },
    {
      "cell_type": "markdown",
      "metadata": {
        "id": "wiiChBn9Hi90",
        "colab_type": "text"
      },
      "source": [
        "Unidad 1: Raíces de ecuaciones."
      ]
    },
    {
      "cell_type": "code",
      "metadata": {
        "id": "rOaf5gYrH2qi",
        "colab_type": "code",
        "colab": {}
      },
      "source": [
        "# Primero importamos las librerías necesarias\n",
        "import numpy as np # Librería numérica\n",
        "import sympy # Procesamiento simbólico\n",
        "import matplotlib.pyplot as plt # Librería para las gráficas"
      ],
      "execution_count": null,
      "outputs": []
    },
    {
      "cell_type": "markdown",
      "metadata": {
        "id": "OdviivubJWRE",
        "colab_type": "text"
      },
      "source": [
        "Cálculo del error relativo porcentual, nos servirá para todos los métodos.\n",
        "$$\\epsilon_r = \\left \\lvert \\frac {V_r-Vn}{Vn} \\right \\rvert \\times 100$$"
      ]
    },
    {
      "cell_type": "code",
      "metadata": {
        "id": "RNw-MTkDMmR8",
        "colab_type": "code",
        "colab": {}
      },
      "source": [
        "# Función que calcule el error relativo porcentual\n",
        "def ErrorRelativo (vreal, vnum):\n",
        "  epsilon = abs((vreal-vnum)/vreal)*100\n",
        "  return epsilon"
      ],
      "execution_count": null,
      "outputs": []
    },
    {
      "cell_type": "markdown",
      "metadata": {
        "id": "mwSJYa83ODIY",
        "colab_type": "text"
      },
      "source": [
        "\n",
        "\n",
        "*   Método de bisección\n",
        "\n",
        "Estimar la raíz de la función $f(x)=x-\\cos(x)$ en el intervalo $[0.5, 1]$\n"
      ]
    },
    {
      "cell_type": "code",
      "metadata": {
        "id": "p-qNZ24WNuXB",
        "colab_type": "code",
        "colab": {}
      },
      "source": [
        "# Valores iniciales\n",
        "a =0.5\n",
        "b =1\n",
        "Vanalítico =0.73909\n",
        "def fx(x_int):\n",
        "  fx = x_int-np.cos(x_int)\n",
        "  return fx"
      ],
      "execution_count": null,
      "outputs": []
    },
    {
      "cell_type": "code",
      "metadata": {
        "id": "75gTytebQY2x",
        "colab_type": "code",
        "colab": {
          "base_uri": "https://localhost:8080/",
          "height": 374
        },
        "outputId": "d2a6c6a7-9d67-4ca1-fc42-410dd233cc98"
      },
      "source": [
        "numIter = 0\n",
        "N = int(input('Defina un número N de iteraciones'))\n",
        "x_old =0\n",
        "while numIter<N:\n",
        "  x_i = (a+b)/2\n",
        "  if fx(a)*fx(x_i)<0:\n",
        "    b = x_i\n",
        "  elif fx(a)*fx(x_i)==0:\n",
        "    raizAproxBisec = x_i\n",
        "  else:\n",
        "    a = x_i\n",
        "  numIter = numIter+1\n",
        "  raizAproxBisec = x_i\n",
        "  ErrorBisec = ErrorRelativo(raizAproxBisec,x_old)\n",
        "  x_old = x_i\n",
        "  print(\"La raíz estimada por el método de bisección es =\",+raizAproxBisec, \"iteración i =\",+numIter)\n",
        "  print(\"El error relativo es =\",+ErrorBisec, \"iteración i =\",+numIter)"
      ],
      "execution_count": null,
      "outputs": [
        {
          "output_type": "stream",
          "text": [
            "Defina un número N de iteraciones10\n",
            "La raíz estimada por el método de bisección es = 0.75 iteración i = 1\n",
            "El error relativo es = 100.0 iteración i = 1\n",
            "La raíz estimada por el método de bisección es = 0.625 iteración i = 2\n",
            "El error relativo es = 20.0 iteración i = 2\n",
            "La raíz estimada por el método de bisección es = 0.6875 iteración i = 3\n",
            "El error relativo es = 9.090909090909092 iteración i = 3\n",
            "La raíz estimada por el método de bisección es = 0.71875 iteración i = 4\n",
            "El error relativo es = 4.3478260869565215 iteración i = 4\n",
            "La raíz estimada por el método de bisección es = 0.734375 iteración i = 5\n",
            "El error relativo es = 2.127659574468085 iteración i = 5\n",
            "La raíz estimada por el método de bisección es = 0.7421875 iteración i = 6\n",
            "El error relativo es = 1.0526315789473684 iteración i = 6\n",
            "La raíz estimada por el método de bisección es = 0.73828125 iteración i = 7\n",
            "El error relativo es = 0.5291005291005291 iteración i = 7\n",
            "La raíz estimada por el método de bisección es = 0.740234375 iteración i = 8\n",
            "El error relativo es = 0.2638522427440633 iteración i = 8\n",
            "La raíz estimada por el método de bisección es = 0.7392578125 iteración i = 9\n",
            "El error relativo es = 0.13210039630118892 iteración i = 9\n",
            "La raíz estimada por el método de bisección es = 0.73876953125 iteración i = 10\n",
            "El error relativo es = 0.06609385327164573 iteración i = 10\n"
          ],
          "name": "stdout"
        }
      ]
    },
    {
      "cell_type": "code",
      "metadata": {
        "id": "kjKgy_8cZW9I",
        "colab_type": "code",
        "colab": {
          "base_uri": "https://localhost:8080/",
          "height": 297
        },
        "outputId": "029e7503-c5f6-4127-c7e4-8c735c604908"
      },
      "source": [
        "# Datos para la graficación\n",
        "ejeX = np.linspace(0,2*np.pi,101)\n",
        "# Graficando la función\n",
        "plt.plot(ejeX,fx(ejeX), label='$f(x)$')\n",
        "# Graficar la raíz encontrada en el método\n",
        "plt.plot(raizAproxBisec,fx(raizAproxBisec), 'o', label= 'raíz encontrada $x_i$')\n",
        "plt.xlabel('$x$')\n",
        "plt.ylabel('$f(x)$')\n",
        "plt.title('Raíz de la función $f(x)=x-cos(x)$ método de bisección')\n",
        "plt.legend() # Muestra la leyenda\n",
        "plt.grid() # Muestra la cuadrícula\n",
        "plt.show() # Muestra la gráfica"
      ],
      "execution_count": null,
      "outputs": [
        {
          "output_type": "display_data",
          "data": {
            "image/png": "[encoded data removed]",
            "text/plain": [
              "<Figure size 432x288 with 1 Axes>"
            ]
          },
          "metadata": {
            "tags": [],
            "needs_background": "light"
          }
        }
      ]
    },
    {
      "cell_type": "markdown",
      "metadata": {
        "id": "GekGMGmGr5ny",
        "colab_type": "text"
      },
      "source": [
        "Unidad 2: Interpolación Numérica"
      ]
    },
    {
      "cell_type": "markdown",
      "metadata": {
        "id": "rq6ZMJoQiEU4",
        "colab_type": "text"
      },
      "source": [
        "\n",
        "\n",
        "*   Método de interpolación de Lagrange\n",
        "\n",
        "\n"
      ]
    },
    {
      "cell_type": "markdown",
      "metadata": {
        "id": "AstXbapSmDVB",
        "colab_type": "text"
      },
      "source": [
        "\n",
        "Se reformula el polinomio de Newton evitando el cálculo de las diferencias divididas.\n",
        "\n",
        "$f_n(x)=\\sum_{i=1}^{n}L_i(x)f(x_i)$\n",
        "\n",
        "Donde los valores Li's son los coeficientes de Lagrange y se calculan mediante.\n",
        "\n",
        "\n",
        "$L_i(x)=\\prod_{j=0\\;\\;j\\neq i}^{n}\\frac{x-x_j}{x_i-x_j}$"
      ]
    },
    {
      "cell_type": "code",
      "metadata": {
        "id": "JudzzjF6I3mn",
        "colab_type": "code",
        "colab": {}
      },
      "source": [
        "import sympy\n",
        "import numpy as np\n",
        "import matplotlib.pyplot as plt\n",
        "plt.style.use('ggplot')"
      ],
      "execution_count": null,
      "outputs": []
    },
    {
      "cell_type": "code",
      "metadata": {
        "id": "YlrTIjDWN0qD",
        "colab_type": "code",
        "colab": {}
      },
      "source": [
        "def arg_prod(i, j):\n",
        "    \"\"\" Argumento de las bases polinómicas de \n",
        "    Lagrange.\n",
        "    \"\"\"\n",
        "    # Variable simbólica\n",
        "    x_sim = sympy.symbols('x')\n",
        "    return (x_sim-x[i]) / (x[j]-x[i]) if i != j else 1\n",
        "\n",
        "def interpolacion_lagrange(x, y, num_puntos=100):\n",
        "    \"\"\" Estima la curva generada por el polinomio de lagrange que \n",
        "    interpola los puntos datos\n",
        "    \n",
        "    args:\n",
        "        x (np.array): Datos del eje x\n",
        "        y (np.array): Datos del eje y\n",
        "        num_puntos (int): Número de puntos estimados a partir del polinomio\n",
        "    \n",
        "    returns:\n",
        "        Puntos (x, y) estimados a partir del polinomio encontrado. Tupla\n",
        "    \"\"\"\n",
        "    # Variable simbólica\n",
        "    x_sim = sympy.symbols('x')\n",
        "    \n",
        "    # Número de puntos ingresados\n",
        "    points = len(x)\n",
        "    \n",
        "    # Bases polinómicas lj = [l1, l2, ..., lk]\n",
        "    lj = []\n",
        "    for k in range(points):\n",
        "        lk = np.prod([arg_prod(i, k) for i in range(points)])\n",
        "        lj.append(lk)\n",
        "\n",
        "    # Polinomio de lagrange\n",
        "    pol = sum(y*lj)\n",
        "    \n",
        "    # Se generan los datos x, y a partir del polinomio encontrado\n",
        "    x_test = np.linspace(min(x), max(x), num_puntos)\n",
        "    y_pol = [pol.subs(x_sim, i) for i in x_test]\n",
        "    \n",
        "    return x_test, y_pol\n"
      ],
      "execution_count": null,
      "outputs": []
    },
    {
      "cell_type": "code",
      "metadata": {
        "id": "BpDTVoluN1pU",
        "colab_type": "code",
        "colab": {
          "base_uri": "https://localhost:8080/",
          "height": 282
        },
        "outputId": "92025d0e-2671-4632-9439-2468f7583af2"
      },
      "source": [
        "# Datos\n",
        "x = np.linspace(-np.pi, np.pi, 4)\n",
        "y = np.array([np.sin(i) for i in x])\n",
        "\n",
        "# Puntos generados por el polinomio de Lagrange\n",
        "x_test, y_pol = interpolacion_lagrange(x, y)\n",
        "\n",
        "# Gráfica\n",
        "plt.plot(x_test, y_pol)\n",
        "plt.scatter(x, y)\n",
        "plt.legend(['Lagrange', 'Datos'], loc='best')"
      ],
      "execution_count": null,
      "outputs": [
        {
          "output_type": "execute_result",
          "data": {
            "text/plain": [
              "<matplotlib.legend.Legend at 0x7f2930460cc0>"
            ]
          },
          "metadata": {
            "tags": []
          },
          "execution_count": 6
        },
        {
          "output_type": "display_data",
          "data": {
            "image/png": "[encoded data removed]",
            "text/plain": [
              "<Figure size 432x288 with 1 Axes>"
            ]
          },
          "metadata": {
            "tags": []
          }
        }
      ]
    },
    {
      "cell_type": "code",
      "metadata": {
        "id": "1IUVIA1JN7x3",
        "colab_type": "code",
        "colab": {
          "base_uri": "https://localhost:8080/",
          "height": 282
        },
        "outputId": "cb001c7a-3302-477e-b1e0-848da901c94a"
      },
      "source": [
        "# Datos\n",
        "x = np.linspace(-np.pi, np.pi, 15)\n",
        "y = np.array([np.sin(i) for i in x])\n",
        "\n",
        "# Puntos generados por el polinomio de Lagrange\n",
        "x_test, y_pol = interpolacion_lagrange(x, y)\n",
        "\n",
        "# Gráfica\n",
        "plt.plot(x_test, y_pol)\n",
        "plt.scatter(x, y)\n",
        "plt.legend(['Lagrange', 'Datos'], loc='best')"
      ],
      "execution_count": null,
      "outputs": [
        {
          "output_type": "execute_result",
          "data": {
            "text/plain": [
              "<matplotlib.legend.Legend at 0x7f292fe15668>"
            ]
          },
          "metadata": {
            "tags": []
          },
          "execution_count": 9
        },
        {
          "output_type": "display_data",
          "data": {
            "image/png": "[encoded data removed]",
            "text/plain": [
              "<Figure size 432x288 with 1 Axes>"
            ]
          },
          "metadata": {
            "tags": []
          }
        }
      ]
    },
    {
      "cell_type": "code",
      "metadata": {
        "id": "_xkis6DOOM_w",
        "colab_type": "code",
        "colab": {
          "base_uri": "https://localhost:8080/",
          "height": 282
        },
        "outputId": "44668f9d-bf29-466e-f9c4-33c525c97d0b"
      },
      "source": [
        "# Datos \n",
        "x = np.array([-3.2300, 2.0000, -1.0023, 0.0000, 2.1230, \n",
        "              -3.5120, 0.1223, 5.6420, -2.2574, 5.3410])\n",
        "y = np.array([-3.4360, 3.4120, 0.9300, 1.5960, 0.0000, \n",
        "              0.9315,  4.1230, 0.0140, -0.2320, 2.123])\n",
        "\n",
        "# Puntos generados por el polinomio de Lagrange\n",
        "x_test, y_pol = interpolacion_lagrange(x, y)\n",
        "\n",
        "# Gráfica\n",
        "plt.plot(x_test, y_pol)\n",
        "plt.scatter(x, y)\n",
        "plt.legend(['Lagrange', 'Datos'], loc='best')"
      ],
      "execution_count": null,
      "outputs": [
        {
          "output_type": "execute_result",
          "data": {
            "text/plain": [
              "<matplotlib.legend.Legend at 0x7f292fdc96a0>"
            ]
          },
          "metadata": {
            "tags": []
          },
          "execution_count": 12
        },
        {
          "output_type": "display_data",
          "data": {
            "image/png": "[encoded data removed]",
            "text/plain": [
              "<Figure size 432x288 with 1 Axes>"
            ]
          },
          "metadata": {
            "tags": []
          }
        }
      ]
    },
    {
      "cell_type": "markdown",
      "metadata": {
        "id": "E8QHLGVhOqTL",
        "colab_type": "text"
      },
      "source": [
        "Unidad 3: Diferenciación e integración numérica\n"
      ]
    },
    {
      "cell_type": "markdown",
      "metadata": {
        "id": "r6-z-xRDtd4h",
        "colab_type": "text"
      },
      "source": [
        "\n",
        "\n",
        "*   Método del trapecio\n",
        "\n",
        "Se tiene cuando la función polinomios que aproxima a Newton-Cotes es un polinomio de orden 1 (lineal).\n",
        "\n",
        "Regla del trapecio:\n",
        "\n",
        "$I≈(b-a)\\frac {f(a)+f(b)} {2}$"
      ]
    },
    {
      "cell_type": "code",
      "metadata": {
        "id": "-gjtJobEO4MH",
        "colab_type": "code",
        "colab": {}
      },
      "source": [
        "def f(x):\n",
        "  return (x*x)\n",
        "\n",
        "  def trapecio_simple (a,b):\n",
        "    if (b>a):\n",
        "      return 0.5*(f(a)+f(b))*(b-a)\n",
        "\n",
        "    def trapecio_compuesto (a,b):\n",
        "      i=a\n",
        "      h=1E-6\n",
        "      area= 0.0\n",
        "      while (i<=b):\n",
        "        if (i+h<=b):\n",
        "          area = area+trapecio_simple(i,i+h)\n",
        "          i= i+h\n",
        "          return area\n",
        "\n",
        "          if __name__ == \"__main__\":\n",
        "            print (\"Area =\") +str(trapecio_simple(0,1))"
      ],
      "execution_count": null,
      "outputs": []
    },
    {
      "cell_type": "markdown",
      "metadata": {
        "id": "bcJEV_pIpa7G",
        "colab_type": "text"
      },
      "source": [
        "Unidad 4: Sistemas de ecuaciones lineales."
      ]
    },
    {
      "cell_type": "markdown",
      "metadata": {
        "id": "o92DgeZGI4DO",
        "colab_type": "text"
      },
      "source": [
        "\n",
        "\n",
        "*   Método de eliminación de Gauss Jordan\n",
        "\n",
        "Demostrar que $x=2, y=1, z=-2$ son las soluciones del sistema de ecuaciones lineales:\n",
        "\n",
        "\n",
        "$x+2y+z= 2$\n",
        "\n",
        "$3x+8y+z = 1$\n",
        "\n",
        " $4y+z = -2$\n"
      ]
    },
    {
      "cell_type": "code",
      "metadata": {
        "id": "HC3se2bMoHit",
        "colab_type": "code",
        "colab": {
          "base_uri": "https://localhost:8080/",
          "height": 372
        },
        "outputId": "d687c4cc-23f3-442c-f5f5-4c8fbf986f53"
      },
      "source": [
        "# Método de Gauss-Jordan\n",
        "# Solución a Sistemas de Ecuaciones\n",
        "\n",
        "import numpy as np\n",
        "\n",
        "# INGRESO\n",
        "A = np.array([[1,2,1],\n",
        "              [3,8,1],\n",
        "              [0,4,1]])\n",
        "\n",
        "B = np.array([[2],\n",
        "              [12],\n",
        "              [2]])\n",
        "\n",
        "# PROCEDIMIENTO\n",
        "casicero = 1e-15 # Considerar como 0\n",
        "# Evitar truncamiento en operaciones\n",
        "A = np.array(A,dtype=float) \n",
        "\n",
        "# Matriz aumentada\n",
        "AB = np.concatenate((A,B),axis=1)\n",
        "AB0 = np.copy(AB)\n",
        "\n",
        "# Pivoteo parcial por filas\n",
        "tamano = np.shape(AB)\n",
        "n = tamano[0]\n",
        "m = tamano[1]\n",
        "\n",
        "# Para cada fila en AB\n",
        "for i in range(0,n-1,1):\n",
        "    # columna desde diagonal i en adelante\n",
        "    columna = abs(AB[i:,i])\n",
        "    dondemax = np.argmax(columna)\n",
        "    \n",
        "    # dondemax no está en diagonal\n",
        "    if (dondemax !=0):\n",
        "        # intercambia filas\n",
        "        temporal = np.copy(AB[i,:])\n",
        "        AB[i,:] = AB[dondemax+i,:]\n",
        "        AB[dondemax+i,:] = temporal\n",
        "AB1 = np.copy(AB)\n",
        "\n",
        "# eliminacion hacia adelante\n",
        "for i in range(0,n-1,1):\n",
        "    pivote = AB[i,i]\n",
        "    adelante = i+1\n",
        "    for k in range(adelante,n,1):\n",
        "        factor = AB[k,i]/pivote\n",
        "        AB[k,:] = AB[k,:] - AB[i,:]*factor\n",
        "AB2 = np.copy(AB)\n",
        "\n",
        "# elimina hacia atras\n",
        "ultfila = n-1\n",
        "ultcolumna = m-1\n",
        "for i in range(ultfila,0-1,-1):\n",
        "    pivote = AB[i,i]\n",
        "    atras = i-1 \n",
        "    for k in range(atras,0-1,-1):\n",
        "        factor = AB[k,i]/pivote\n",
        "        AB[k,:] = AB[k,:] - AB[i,:]*factor\n",
        "    # diagonal a unos\n",
        "    AB[i,:] = AB[i,:]/AB[i,i]\n",
        "X = np.copy(AB[:,ultcolumna])\n",
        "X = np.transpose([X])\n",
        "\n",
        "\n",
        "# SALIDA\n",
        "print('Matriz aumentada:')\n",
        "print(AB0)\n",
        "print('Pivoteo parcial por filas')\n",
        "print(AB1)\n",
        "print('eliminacion hacia adelante')\n",
        "print(AB2)\n",
        "print('eliminación hacia atrás')\n",
        "print(AB)\n",
        "print('solución de X: ')\n",
        "print(X)"
      ],
      "execution_count": null,
      "outputs": [
        {
          "output_type": "stream",
          "text": [
            "Matriz aumentada:\n",
            "[[ 1.  2.  1.  2.]\n",
            " [ 3.  8.  1. 12.]\n",
            " [ 0.  4.  1.  2.]]\n",
            "Pivoteo parcial por filas\n",
            "[[ 3.  8.  1. 12.]\n",
            " [ 0.  4.  1.  2.]\n",
            " [ 1.  2.  1.  2.]]\n",
            "eliminacion hacia adelante\n",
            "[[ 3.          8.          1.         12.        ]\n",
            " [ 0.          4.          1.          2.        ]\n",
            " [ 0.          0.          0.83333333 -1.66666667]]\n",
            "eliminación hacia atrás\n",
            "[[ 1.  0.  0.  2.]\n",
            " [ 0.  1.  0.  1.]\n",
            " [ 0.  0.  1. -2.]]\n",
            "solución de X: \n",
            "[[ 2.]\n",
            " [ 1.]\n",
            " [-2.]]\n"
          ],
          "name": "stdout"
        }
      ]
    },
    {
      "cell_type": "markdown",
      "metadata": {
        "id": "Se2wtZNPzK39",
        "colab_type": "text"
      },
      "source": [
        "Al final de este ejercicio se comprobó que el valor de $x=2, y=1, z=-2$."
      ]
    },
    {
      "cell_type": "code",
      "metadata": {
        "id": "8GtRd67lgbHU",
        "colab_type": "code",
        "colab": {}
      },
      "source": [
        ""
      ],
      "execution_count": null,
      "outputs": []
    }
  ]
}