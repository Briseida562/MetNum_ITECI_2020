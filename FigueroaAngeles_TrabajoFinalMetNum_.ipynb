{
  "nbformat": 4,
  "nbformat_minor": 0,
  "metadata": {
    "kernelspec": {
      "display_name": "Python 3",
      "language": "python",
      "name": "python3"
    },
    "language_info": {
      "codemirror_mode": {
        "name": "ipython",
        "version": 3
      },
      "file_extension": ".py",
      "mimetype": "text/x-python",
      "name": "python",
      "nbconvert_exporter": "python",
      "pygments_lexer": "ipython3",
      "version": "3.8.3"
    },
    "colab": {
      "name": "FigueroaAngeles_TrabajoFinalMetNum..ipynb",
      "provenance": [],
      "include_colab_link": true
    }
  },
  "cells": [
    {
      "cell_type": "markdown",
      "metadata": {
        "id": "view-in-github",
        "colab_type": "text"
      },
      "source": [
        "<a href=\"https://colab.research.google.com/github/roilhi/MetNum_ITECI_2020/blob/gh-pages/FigueroaAngeles_TrabajoFinalMetNum_.ipynb\" target=\"_parent\"><img src=\"https://colab.research.google.com/assets/colab-badge.svg\" alt=\"Open In Colab\"/></a>"
      ]
    },
    {
      "cell_type": "markdown",
      "metadata": {
        "id": "aGFiwnLfrIAV",
        "colab_type": "text"
      },
      "source": [
        "Universidad de Ensenada ITECI"
      ]
    },
    {
      "cell_type": "markdown",
      "metadata": {
        "id": "fWuJMUXtrIAW",
        "colab_type": "text"
      },
      "source": [
        "Métodos numéricos"
      ]
    },
    {
      "cell_type": "markdown",
      "metadata": {
        "id": "lUAa4wtMrIAX",
        "colab_type": "text"
      },
      "source": [
        "Angeles Figueroa Martinez"
      ]
    },
    {
      "cell_type": "markdown",
      "metadata": {
        "id": "g4mfJ578rIAX",
        "colab_type": "text"
      },
      "source": [
        "Proyecto Final"
      ]
    },
    {
      "cell_type": "code",
      "metadata": {
        "id": "l3tklyHKrIAY",
        "colab_type": "code",
        "colab": {}
      },
      "source": [
        "#Librerias necesarias\n",
        "import math\n",
        "import numpy as np\n",
        "import matplotlib.pyplot as plt\n",
        "import sympy as sp\n",
        "from sympy import Eq, solve_linear_system, Matrix\n",
        "from sympy.interactive import printing\n",
        "printing.init_printing(use_latex=True)"
      ],
      "execution_count": null,
      "outputs": []
    },
    {
      "cell_type": "markdown",
      "metadata": {
        "id": "JtWiNsgGrIAc",
        "colab_type": "text"
      },
      "source": [
        "Calculo del error relativo porcentual"
      ]
    },
    {
      "cell_type": "markdown",
      "metadata": {
        "id": "RXZ5tTpnrIAc",
        "colab_type": "text"
      },
      "source": [
        "$$\\epsilon_r = \\left \\lvert \\frac{V_r-Vn}{Vr}\\right\\rvert \\times 100 $$"
      ]
    },
    {
      "cell_type": "markdown",
      "metadata": {
        "id": "iLg9k-r-rIAd",
        "colab_type": "text"
      },
      "source": [
        "Unidad 1 Raíz de ecuaciones"
      ]
    },
    {
      "cell_type": "markdown",
      "metadata": {
        "id": "axt2xRbGrIAd",
        "colab_type": "text"
      },
      "source": [
        "Método Bisección"
      ]
    },
    {
      "cell_type": "markdown",
      "metadata": {
        "id": "UYlal9HArIAe",
        "colab_type": "text"
      },
      "source": [
        "Este método , que se utiliza para resolver ecuaciones de una variable, está basado en el «Teorema de los Valores Intermedios» (TVM), en el cual se establece que toda función continua $f$, en un intervalo cerrado $[a,b]$, toma todos los valores que se hallan entre $f(a)$ y $f(b)$, de tal forma que la ecuación $f(x)=0$ tiene una sola raíz que verifica $f(a).f(b)<0$"
      ]
    },
    {
      "cell_type": "markdown",
      "metadata": {
        "id": "skCYCfxZrIAe",
        "colab_type": "text"
      },
      "source": [
        "Ejercicio 1 Calcule la aproximación a la raíz en el intervalo [-2,-1]"
      ]
    },
    {
      "cell_type": "markdown",
      "metadata": {
        "id": "Jp0nbZzErIAf",
        "colab_type": "text"
      },
      "source": [
        "Función $f(x)=x^3+4x^2-6$"
      ]
    },
    {
      "cell_type": "code",
      "metadata": {
        "id": "ORqDxGMLrIAf",
        "colab_type": "code",
        "colab": {}
      },
      "source": [
        "def f(x): \n",
        "    return x**3+4*x**2-6"
      ],
      "execution_count": null,
      "outputs": []
    },
    {
      "cell_type": "markdown",
      "metadata": {
        "id": "W_GemDGqrIAi",
        "colab_type": "text"
      },
      "source": [
        "Valor Teorico"
      ]
    },
    {
      "cell_type": "code",
      "metadata": {
        "id": "Od0l8IgjrIAj",
        "colab_type": "code",
        "colab": {}
      },
      "source": [
        "VT=-1.5720"
      ],
      "execution_count": null,
      "outputs": []
    },
    {
      "cell_type": "markdown",
      "metadata": {
        "id": "TXL_l3XCrIAl",
        "colab_type": "text"
      },
      "source": [
        "Programa"
      ]
    },
    {
      "cell_type": "code",
      "metadata": {
        "id": "-WESRcKXrIAm",
        "colab_type": "code",
        "colab": {},
        "outputId": "7426b79d-6918-447e-9554-465158fc5c0a"
      },
      "source": [
        "def bisection (a,b,tol):\n",
        "    xl=a\n",
        "    xr=b\n",
        "    while (np.abs(xl-xr)>tol):\n",
        "        c=(xl+xr)/2.0\n",
        "        prod=f(xl)*f(c)\n",
        "        if prod > tol:\n",
        "            xl=c\n",
        "        else:\n",
        "            if prod < tol:\n",
        "                xr=c\n",
        "    return c\n",
        "answer= bisection (-2,-1,1.0e-4)\n",
        "print (\"El método de bisección arroja la aproximación de la raiz x=\", answer)"
      ],
      "execution_count": null,
      "outputs": [
        {
          "output_type": "stream",
          "text": [
            "El método de bisección arroja la aproximación de la raiz x= -1.57366943359375\n"
          ],
          "name": "stdout"
        }
      ]
    },
    {
      "cell_type": "code",
      "metadata": {
        "id": "osRjXO9MrIAp",
        "colab_type": "code",
        "colab": {}
      },
      "source": [
        "def ErrorRelativo(VT,answer):\n",
        "    epsilon= abs((VT-answer)/VT)*100\n",
        "    return epsilon"
      ],
      "execution_count": null,
      "outputs": []
    },
    {
      "cell_type": "code",
      "metadata": {
        "id": "tZ_jjxTrrIAs",
        "colab_type": "code",
        "colab": {},
        "outputId": "d48865ad-33e9-4870-cf68-9e7f3e83daec"
      },
      "source": [
        "ErrorRelativo(VT,answer)"
      ],
      "execution_count": null,
      "outputs": [
        {
          "output_type": "execute_result",
          "data": {
            "image/png": "[encoded data removed]",
            "text/latex": "$\\displaystyle 0.10619806576017406$",
            "text/plain": [
              "0.10619806576017406"
            ]
          },
          "metadata": {
            "tags": []
          },
          "execution_count": 10
        }
      ]
    },
    {
      "cell_type": "markdown",
      "metadata": {
        "id": "uNfVL8uxrIAv",
        "colab_type": "text"
      },
      "source": [
        "Gráfico"
      ]
    },
    {
      "cell_type": "code",
      "metadata": {
        "id": "3_O4xxkarIAw",
        "colab_type": "code",
        "colab": {},
        "outputId": "2968209a-05c8-4dd1-e327-61b2761094c2"
      },
      "source": [
        "x=np.linspace(-2,5,100)\n",
        "plt.plot(x,f(x))\n",
        "plt.plot(answer,0,'o',label='Raíz')\n",
        "plt.grid()\n",
        "plt.legend()\n",
        "plt.show()"
      ],
      "execution_count": null,
      "outputs": [
        {
          "output_type": "display_data",
          "data": {
            "image/png": "[encoded data removed]",
            "text/plain": [
              "<Figure size 432x288 with 1 Axes>"
            ]
          },
          "metadata": {
            "tags": [],
            "needs_background": "light"
          }
        }
      ]
    },
    {
      "cell_type": "markdown",
      "metadata": {
        "id": "rtMraAxKrIAy",
        "colab_type": "text"
      },
      "source": [
        "Unidad 2 Interpolación y regresión lineal"
      ]
    },
    {
      "cell_type": "markdown",
      "metadata": {
        "id": "8PxulF8QrIAz",
        "colab_type": "text"
      },
      "source": [
        "Método de mínimos cuadrados"
      ]
    },
    {
      "cell_type": "markdown",
      "metadata": {
        "id": "1H8LVfJCrIAz",
        "colab_type": "text"
      },
      "source": [
        "El método de mínimos cuadrados proporciona una forma de encontrar la mejor estimación, suponiendo que los errores (es decir, las diferencias con respecto al valor verdadero) sean aleatorias e imparciales.Este método se utiliza comúnmente para analizar una serie de datos que se obtengan de algún estudio, con el fin de expresar su comportamiento de manera lineal y así minimizar los errores de la data tomada.\n",
        "Su expresión general se basa en la ecuación de una recta $y = mx + b$. Donde $m$ es la pendiente y $b$ el punto de corte, y vienen expresadas de la siguiente manera:\n",
        "    $$m=\\frac{n\\sum (xy)-\\sum x(\\sum y)}{n(\\sum x^{2}-\\left | \\sum x ^{2}\\right |}$$\n",
        "    $$\\frac{b=\\sum y(\\sum x^{2})-\\sum x(\\sum (x)(y))}{(n)\\sum x^{2}-\\left | \\sum x \\right |^{2}}$$\n",
        "    $Σ$ es el símbolo sumatoria de todos los términos, mientas $(x, y)$ son los datos en estudio y n la cantidad de datos que existen. El método de mínimos cuadrados calcula a partir de los $N$ pares de datos experimentales $(x, y)$, los valores $m$ y $b$ que mejor ajustan los datos a una recta. Se entiende por el mejor ajuste aquella recta que hace mínimas las distancias d de los puntos medidos a la recta."
      ]
    },
    {
      "cell_type": "markdown",
      "metadata": {
        "id": "OdK6t3LWrIA0",
        "colab_type": "text"
      },
      "source": [
        "Ejercicio 2 Calcular la regresión lineal de la función $f (x) = a_0 + a_1x$ mediante el método de mínimos cuadrados"
      ]
    },
    {
      "cell_type": "markdown",
      "metadata": {
        "id": "sKrHOJZZrIA0",
        "colab_type": "text"
      },
      "source": [
        "Datos discretos"
      ]
    },
    {
      "cell_type": "code",
      "metadata": {
        "id": "nOf_NOTwrIA1",
        "colab_type": "code",
        "colab": {}
      },
      "source": [
        "x= [1,2,3,4,5,6]\n",
        "y= [5.04,8.12,10.64,13.18,16.20,20.04]"
      ],
      "execution_count": null,
      "outputs": []
    },
    {
      "cell_type": "markdown",
      "metadata": {
        "id": "rNzOl0INrIA4",
        "colab_type": "text"
      },
      "source": [
        "Programa"
      ]
    },
    {
      "cell_type": "code",
      "metadata": {
        "id": "h5KAs-5crIA4",
        "colab_type": "code",
        "colab": {}
      },
      "source": [
        "n=len(x)\n",
        "x= np.array(x)\n",
        "y= np.array(y)\n",
        "sumx=sum(x)\n",
        "sumy=sum(y)\n",
        "sumx2=sum(x*x)\n",
        "sumy2=sum(y*y)\n",
        "sumxy=sum(x*y)\n",
        "promx=sumx/n\n",
        "promy=sumy/n\n",
        "m=((sumx*sumy)-(n*sumxy))/(sumx**2-(n*sumx2))\n",
        "b=promy-(m*promx)"
      ],
      "execution_count": null,
      "outputs": []
    },
    {
      "cell_type": "markdown",
      "metadata": {
        "id": "SsqaOLa1rIA6",
        "colab_type": "text"
      },
      "source": [
        "Función de la recta"
      ]
    },
    {
      "cell_type": "markdown",
      "metadata": {
        "id": "iGRKmv-LrIA7",
        "colab_type": "text"
      },
      "source": [
        "$$y=2.02+2.90x$$"
      ]
    },
    {
      "cell_type": "markdown",
      "metadata": {
        "id": "uSfXkE-3rIA7",
        "colab_type": "text"
      },
      "source": [
        "Gráfico"
      ]
    },
    {
      "cell_type": "code",
      "metadata": {
        "id": "8p_cxG9KrIA8",
        "colab_type": "code",
        "colab": {},
        "outputId": "a25ffd89-858f-4419-8854-b0b4a4bbd122"
      },
      "source": [
        "plt.plot(x,y,'o',label='Datos discretos')\n",
        "plt.plot(x,(m*x)+b,label='Recta')\n",
        "plt.xlabel('x')\n",
        "plt.ylabel('y')\n",
        "plt.grid()\n",
        "plt.legend()\n",
        "plt.show()"
      ],
      "execution_count": null,
      "outputs": [
        {
          "output_type": "display_data",
          "data": {
            "image/png": "[encoded data removed]",
            "text/plain": [
              "<Figure size 432x288 with 1 Axes>"
            ]
          },
          "metadata": {
            "tags": [],
            "needs_background": "light"
          }
        }
      ]
    },
    {
      "cell_type": "markdown",
      "metadata": {
        "id": "ZA9fHEG2rIBA",
        "colab_type": "text"
      },
      "source": [
        "Unidad 3 Diferenciación e integración númerica"
      ]
    },
    {
      "cell_type": "markdown",
      "metadata": {
        "id": "4O2gmwkFrIBA",
        "colab_type": "text"
      },
      "source": [
        "Diferenciacion numerica\n",
        "Consideramos una función $f(x)$ de la cual se conoce un conjunto discreto de valores $(x0, f0)$, $(x1,f1)$,…,$(xn,fn)$. Donde calcularemos la derivada de la función en un punto $“x”$ que en principio no tiene coincidencia con alguno de los que figuran en los datos.\n",
        "\n",
        "Estimamos la derivada utilizando formulas obtenidas mediante la aproximación de Taylor, denominadas “Formulas de diferencias finitas”.\n",
        "\n",
        "La derivación numérica es una técnica de análisis numérico para calcular una aproximación a la derivada de una función en un punto utilizando los valores y propiedades de la misma.\n",
        "\n",
        "Por definición la derivada de una función $f(x)$ es:\n",
        "$$f\"(x)=lim\\frac{f(x+h)-f(x)}{h}$$\n",
        "Integracion numerica\n",
        "Método del trapecio, método de Simpson 1/3 y 3/8\n",
        "La regla del trapecio es un método de integración numérica, es decir, un método para calcular aproximadamente el valor de la integral definida."
      ]
    },
    {
      "cell_type": "markdown",
      "metadata": {
        "id": "4IgY9caurIBB",
        "colab_type": "text"
      },
      "source": [
        "Función $$f(x)=(4x-3)^3$$"
      ]
    },
    {
      "cell_type": "code",
      "metadata": {
        "id": "HkoOJmdxrIBB",
        "colab_type": "code",
        "colab": {}
      },
      "source": [
        "def f(x):\n",
        "    return ((4*x)-3)**3"
      ],
      "execution_count": null,
      "outputs": []
    },
    {
      "cell_type": "markdown",
      "metadata": {
        "id": "Zi_ord29rIBD",
        "colab_type": "text"
      },
      "source": [
        "Gráfico"
      ]
    },
    {
      "cell_type": "code",
      "metadata": {
        "id": "HFtQ9ejUrIBE",
        "colab_type": "code",
        "colab": {},
        "outputId": "0b8b5f5f-fb7e-448f-d209-a0ee4becf64c"
      },
      "source": [
        "x= np.linspace(-3,5,50)\n",
        "plt.plot(x,f(x))\n",
        "plt.grid()\n",
        "plt.show()"
      ],
      "execution_count": null,
      "outputs": [
        {
          "output_type": "display_data",
          "data": {
            "image/png": "[encoded data removed]",
            "text/plain": [
              "<Figure size 432x288 with 1 Axes>"
            ]
          },
          "metadata": {
            "tags": [],
            "needs_background": "light"
          }
        }
      ]
    },
    {
      "cell_type": "markdown",
      "metadata": {
        "id": "hSDpaIG3rIBH",
        "colab_type": "text"
      },
      "source": [
        "Programa"
      ]
    },
    {
      "cell_type": "code",
      "metadata": {
        "id": "i7pFgAgYrIBH",
        "colab_type": "code",
        "colab": {},
        "outputId": "28c4785f-95fa-4740-b798-6c195d451d53"
      },
      "source": [
        "def simpson13(f,a,b):\n",
        "    m=(b-a)/2\n",
        "    integral=(b-a)/6*(f(a)+4*f(m)+f(b))\n",
        "    return integral\n",
        "a=-3\n",
        "b=5\n",
        "simpson13(f,a,b)"
      ],
      "execution_count": null,
      "outputs": [
        {
          "output_type": "execute_result",
          "data": {
            "image/png": "[encoded data removed]",
            "text/latex": "$\\displaystyle 13768.0$",
            "text/plain": [
              "13768.0"
            ]
          },
          "metadata": {
            "tags": []
          },
          "execution_count": 27
        }
      ]
    },
    {
      "cell_type": "code",
      "metadata": {
        "id": "tgAin9CcrIBK",
        "colab_type": "code",
        "colab": {}
      },
      "source": [
        "vreal=2056\n",
        "vnum=13768"
      ],
      "execution_count": null,
      "outputs": []
    },
    {
      "cell_type": "code",
      "metadata": {
        "id": "BaqUW7bfrIBM",
        "colab_type": "code",
        "colab": {}
      },
      "source": [
        "def ErrorRelativoPorcentual(vreal,vnum):\n",
        "    epsilon= abs((vreal-vnum)/vreal)*100\n",
        "    return epsilon"
      ],
      "execution_count": null,
      "outputs": []
    },
    {
      "cell_type": "code",
      "metadata": {
        "id": "cqPyiiJCrIBO",
        "colab_type": "code",
        "colab": {},
        "outputId": "20b8084e-58a1-4c81-a3de-1438631ca607"
      },
      "source": [
        "ErrorRelativoPorcentual(vreal,vnum)"
      ],
      "execution_count": null,
      "outputs": [
        {
          "output_type": "execute_result",
          "data": {
            "image/png": "[encoded data removed]",
            "text/latex": "$\\displaystyle 569.6498054474708$",
            "text/plain": [
              "569.6498054474708"
            ]
          },
          "metadata": {
            "tags": []
          },
          "execution_count": 39
        }
      ]
    },
    {
      "cell_type": "markdown",
      "metadata": {
        "id": "9QBBgjUWrIBR",
        "colab_type": "text"
      },
      "source": [
        "Unidad 4 Sistema de ecuaciones líneales "
      ]
    },
    {
      "cell_type": "markdown",
      "metadata": {
        "id": "DtXVRnWMrIBR",
        "colab_type": "text"
      },
      "source": [
        "Método de Gauss-Jordan"
      ]
    },
    {
      "cell_type": "markdown",
      "metadata": {
        "id": "k1NkG3z5rIBR",
        "colab_type": "text"
      },
      "source": [
        "Este método debe su nombre a Carl Friedrich Gauss y a Wilhelm jordan. Se trata de una serie de algoritmos del algebra lineal para determinar los resultados de un sistema de ecuaciones lineales y así hallar matrices e inversas. El sistema de Gauss se utiliza para resolver un sistema de ecuaciones y obtener las soluciones por medio de la reducción del sistema dado a otro que sea equivalente en el cual cada una de las ecuaciones tendrá una incógnita menos que la anterior. La matriz que resulta de este proceso lleva el nombre que se conoce como forma escalonada.\n",
        "Este método, permite resolver hasta 20 ecuaciones simultáneas. Lo que lo diferencia del método Gaussiano es que cuando es eliminada una incógnita, se eliminará de todas las ecuaciones restantes, o sea, las que anteceden a la ecuación principal así como de las que la siguen a continuación. De esta manera el paso de eliminación forma una matriz identidad en vez de una matriz triangular. No es necesario entonces utilizar la sustitución hacia atrás para conseguir la solución."
      ]
    },
    {
      "cell_type": "markdown",
      "metadata": {
        "id": "6PnT34PPrIBS",
        "colab_type": "text"
      },
      "source": [
        "Ejercicio 4 Demostrar que $𝑥 = 2, 𝑦 = 1, 𝑧 = −2$ son la soluciones del sistema de ecuaciones líneales"
      ]
    },
    {
      "cell_type": "markdown",
      "metadata": {
        "id": "RC9ZQ21drIBS",
        "colab_type": "text"
      },
      "source": [
        "Ecuaciones"
      ]
    },
    {
      "cell_type": "markdown",
      "metadata": {
        "id": "nxBGzSD0rIBS",
        "colab_type": "text"
      },
      "source": [
        "$$𝑥+2𝑦+𝑧=2$$ $$3𝑥+8𝑦+𝑧=12$$ $$4𝑦+𝑧=2$$"
      ]
    },
    {
      "cell_type": "markdown",
      "metadata": {
        "id": "-MvGOYZgrIBT",
        "colab_type": "text"
      },
      "source": [
        "Programa"
      ]
    },
    {
      "cell_type": "code",
      "metadata": {
        "id": "q0OypUwgrIBT",
        "colab_type": "code",
        "colab": {},
        "outputId": "0d20bbfe-a0bf-48e8-fddc-23798cdfe472"
      },
      "source": [
        "eq1=sp.Function('eq1')\n",
        "eq2=sp.Function('eq2')\n",
        "eq3=sp.Function('eq3')\n",
        "x,y,z= sp.symbols('x y z')\n",
        "eq1= Eq(1*x+2*y+1*z,2)\n",
        "eq2= Eq(3*x+8*y+1*z,12)\n",
        "eq3= Eq(0*x+4*y+1*z,2)\n",
        "row1=[1,2,1,2]\n",
        "row2=[3,8,1,12]\n",
        "row3=[0,4,1,2]\n",
        "system= Matrix((row1,row2,row3))\n",
        "display (system)"
      ],
      "execution_count": null,
      "outputs": [
        {
          "output_type": "display_data",
          "data": {
            "text/latex": "$\\displaystyle \\left[\\begin{matrix}1 & 2 & 1 & 2\\\\3 & 8 & 1 & 12\\\\0 & 4 & 1 & 2\\end{matrix}\\right]$",
            "text/plain": [
              "⎡1  2  1  2 ⎤\n",
              "⎢           ⎥\n",
              "⎢3  8  1  12⎥\n",
              "⎢           ⎥\n",
              "⎣0  4  1  2 ⎦"
            ]
          },
          "metadata": {
            "tags": []
          }
        }
      ]
    },
    {
      "cell_type": "markdown",
      "metadata": {
        "id": "MMsDDhr2rIBV",
        "colab_type": "text"
      },
      "source": [
        "Solución"
      ]
    },
    {
      "cell_type": "code",
      "metadata": {
        "id": "GeKFR4EWrIBW",
        "colab_type": "code",
        "colab": {},
        "outputId": "f1b1af42-1bc8-46b7-ec43-71688ced4991"
      },
      "source": [
        "solve_linear_system(system,x,y,z)"
      ],
      "execution_count": null,
      "outputs": [
        {
          "output_type": "execute_result",
          "data": {
            "image/png": "[encoded data removed]",
            "text/latex": "$\\displaystyle \\left\\{ x : 2, \\  y : 1, \\  z : -2\\right\\}$",
            "text/plain": [
              "{x: 2, y: 1, z: -2}"
            ]
          },
          "metadata": {
            "tags": []
          },
          "execution_count": 42
        }
      ]
    },
    {
      "cell_type": "code",
      "metadata": {
        "id": "YpLImXfGrIBZ",
        "colab_type": "code",
        "colab": {}
      },
      "source": [
        ""
      ],
      "execution_count": null,
      "outputs": []
    }
  ]
}