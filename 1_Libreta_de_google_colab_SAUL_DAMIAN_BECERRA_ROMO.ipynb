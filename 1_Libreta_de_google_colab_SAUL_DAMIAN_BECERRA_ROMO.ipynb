{
  "nbformat": 4,
  "nbformat_minor": 0,
  "metadata": {
    "colab": {
      "name": "1 Libreta de google colab SAUL DAMIAN BECERRA ROMO",
      "provenance": [],
      "collapsed_sections": [],
      "include_colab_link": true
    },
    "kernelspec": {
      "name": "python3",
      "display_name": "Python 3"
    }
  },
  "cells": [
    {
      "cell_type": "markdown",
      "metadata": {
        "id": "view-in-github",
        "colab_type": "text"
      },
      "source": [
        "<a href=\"https://colab.research.google.com/github/roilhi/MetNum_ITECI_2020/blob/gh-pages/1_Libreta_de_google_colab_SAUL_DAMIAN_BECERRA_ROMO.ipynb\" target=\"_parent\"><img src=\"https://colab.research.google.com/assets/colab-badge.svg\" alt=\"Open In Colab\"/></a>"
      ]
    },
    {
      "cell_type": "code",
      "metadata": {
        "id": "Yq5wmMlZ7rVv",
        "colab_type": "code",
        "colab": {}
      },
      "source": [
        ""
      ],
      "execution_count": null,
      "outputs": []
    },
    {
      "cell_type": "markdown",
      "metadata": {
        "id": "3kSkH2bT8AZb",
        "colab_type": "text"
      },
      "source": [
        "UNIVERSIDAD DE ENSENADA \n",
        "     ITECI\n",
        "     nombre del alumno: Saul Damian Becerra Romo \n",
        "     nombre del profesor: Roilhi Ibarra \n",
        "     materia : Metodos numericos\n",
        "     tarea : libreta de python\n",
        "     "
      ]
    },
    {
      "cell_type": "markdown",
      "metadata": {
        "id": "P_GcgQpx9Erd",
        "colab_type": "text"
      },
      "source": [
        "1. Unidad 1: raices de ecuaciones "
      ]
    },
    {
      "cell_type": "code",
      "metadata": {
        "id": "hhZ6sE2198Cg",
        "colab_type": "code",
        "colab": {}
      },
      "source": [
        "#primero importamos  las librerias necesarias \n",
        "import numpy as np #libreria numerica \n",
        "import matplotlib.pyplot as plt #libreria para las graficas "
      ],
      "execution_count": null,
      "outputs": []
    },
    {
      "cell_type": "markdown",
      "metadata": {
        "id": "cTQRtROZ_VOs",
        "colab_type": "text"
      },
      "source": [
        "calculo del error relativo porcentual, nos servira para todos los metodos.\n",
        "$$\\epsilon_r\\left\\lvert\\frac{V_r-Vn}{Vn}\\right\\rvert \\times 100$$\n"
      ]
    },
    {
      "cell_type": "code",
      "metadata": {
        "id": "Y8HXyP2xAlm0",
        "colab_type": "code",
        "colab": {}
      },
      "source": [
        "#funcion que calcule el errror relativo porcentual \n",
        "def ErrorRelativo(vreal,vnum):\n",
        "  epsilon = abs((vreal-vnum)/vreal)* 100\n",
        "  return epsilon "
      ],
      "execution_count": null,
      "outputs": []
    },
    {
      "cell_type": "markdown",
      "metadata": {
        "id": "nlvajALaDWDs",
        "colab_type": "text"
      },
      "source": [
        "\n",
        "\n",
        "*  Metodo de biseccion \n",
        "Estimar la raiz de la funcion $f(x)=x-\\cos(x)$\n",
        "en el intervalo $(0.5,1)\n",
        "\n"
      ]
    },
    {
      "cell_type": "code",
      "metadata": {
        "id": "tS0pDoaVEYQc",
        "colab_type": "code",
        "colab": {}
      },
      "source": [
        "#valores iniciales \n",
        "a = 0.5\n",
        "b = 1\n",
        "Vanalitico = 0.73909\n",
        "def fx(x_int):\n",
        "  fx = x_int-np.cos (x_int)\n",
        "  return fx\n",
        " \n"
      ],
      "execution_count": null,
      "outputs": []
    },
    {
      "cell_type": "code",
      "metadata": {
        "id": "HDU1xL3VrPwj",
        "colab_type": "code",
        "colab": {
          "base_uri": "https://localhost:8080/",
          "height": 403
        },
        "outputId": "c4baf56a-4bb6-4c8c-b191-cf4ea6f6b5d8"
      },
      "source": [
        " numIter = 0\n",
        " N = int(input('Defina un numero de iteraciones' ))\n",
        " x_old = 0 \n",
        " while numIter<N:\n",
        "    x_i = (a+b)/2\n",
        "    if fx(a)*fx(x_i)<0:\n",
        "      b = x_i\n",
        "    elif fx(a)*fx(x_i)==0:\n",
        "     raizAproxBisec = x_i\n",
        "    else:\n",
        "      a = x_i\n",
        "    numIter = numIter+1\n",
        "    raizAproxBisec = x_i\n",
        "    ErrorBisec = ErrorRelativo(raizAproxBisec,x_old)\n",
        "    x_old = x_i \n",
        "    print(\"la raiz estimada por el metodo de biseccion es =\",+raizAproxBisec, \"iteracion i=\",+numIter)\n",
        "    print(\"el error relativo es =\", ErrorBisec, \"iteracion i=\", +numIter)"
      ],
      "execution_count": null,
      "outputs": [
        {
          "output_type": "stream",
          "text": [
            "Defina un numero de iteraciones10\n",
            "la raiz estimada por el metodo de biseccion es = 0.739013671875 iteracion i= 1\n",
            "el error relativo es = 100.0 iteracion i= 1\n",
            "la raiz estimada por el metodo de biseccion es = 0.7391357421875 iteracion i= 2\n",
            "el error relativo es = 0.016515276630883566 iteracion i= 2\n",
            "la raiz estimada por el metodo de biseccion es = 0.73907470703125 iteracion i= 3\n",
            "el error relativo es = 0.008258320257659593 iteracion i= 3\n",
            "la raiz estimada por el metodo de biseccion es = 0.739105224609375 iteracion i= 4\n",
            "el error relativo es = 0.004128989636236013 iteracion i= 4\n",
            "la raiz estimada por el metodo de biseccion es = 0.7390899658203125 iteracion i= 5\n",
            "el error relativo es = 0.0020645374403864816 iteracion i= 5\n",
            "la raiz estimada por el metodo de biseccion es = 0.7390823364257812 iteracion i= 6\n",
            "el error relativo es = 0.001032279376090345 iteracion i= 6\n",
            "la raiz estimada por el metodo de biseccion es = 0.7390861511230469 iteracion i= 7\n",
            "el error relativo es = 0.0005161370240571466 iteracion i= 7\n",
            "la raiz estimada por el metodo de biseccion es = 0.7390842437744141 iteracion i= 8\n",
            "el error relativo es = 0.0002580691780238611 iteracion i= 8\n",
            "la raiz estimada por el metodo de biseccion es = 0.7390851974487305 iteracion i= 9\n",
            "el error relativo es = 0.00012903442251289377 iteracion i= 9\n",
            "la raiz estimada por el metodo de biseccion es = 0.7390847206115723 iteracion i= 10\n",
            "el error relativo es = 6.451725288117922e-05 iteracion i= 10\n"
          ],
          "name": "stdout"
        }
      ]
    },
    {
      "cell_type": "code",
      "metadata": {
        "id": "cGohNEPOrqVe",
        "colab_type": "code",
        "colab": {
          "base_uri": "https://localhost:8080/",
          "height": 297
        },
        "outputId": "a5db93d3-42ca-473c-dec9-4c67578c4b5d"
      },
      "source": [
        "# Datos para la grafica \n",
        "ejeX = np.linspace(0,2*np.pi,101)\n",
        "# graficando la funcion\n",
        "plt.plot(ejeX,fx(ejeX), label= '$f(x)$')\n",
        "# graficar la raiz encontrada en el metodo \n",
        "plt.plot(raizAproxBisec,fx(raizAproxBisec),'o', label='raiz encontrada $x_i$')\n",
        "plt.xlabel('$x$')\n",
        "plt.ylabel('$f(x)$')\n",
        "plt.title('raiz de la funcion $f(x)=x-cos(x)$ metodo de biseccion')\n",
        "plt.legend() # muestra la leyenda \n",
        "plt.grid() # muestra la cuadricula\n",
        "plt.show() # muestra la grafica "
      ],
      "execution_count": null,
      "outputs": [
        {
          "output_type": "display_data",
          "data": {
            "image/png": "[encoded data removed]",
            "text/plain": [
              "<Figure size 432x288 with 1 Axes>"
            ]
          },
          "metadata": {
            "tags": [],
            "needs_background": "light"
          }
        }
      ]
    },
    {
      "cell_type": "markdown",
      "metadata": {
        "id": "-DTZ4oZAGaYD",
        "colab_type": "text"
      },
      "source": [
        "# unidad 4"
      ]
    },
    {
      "cell_type": "code",
      "metadata": {
        "id": "MEiPGwkI4Bts",
        "colab_type": "code",
        "colab": {}
      },
      "source": [
        "# metodo gauss -jordan \n",
        "# soluciones  sistemas de ecuaciones \n"
      ],
      "execution_count": null,
      "outputs": []
    },
    {
      "cell_type": "code",
      "metadata": {
        "id": "_M92WcAY6f3O",
        "colab_type": "code",
        "colab": {}
      },
      "source": [
        "# ingreso "
      ],
      "execution_count": null,
      "outputs": []
    },
    {
      "cell_type": "code",
      "metadata": {
        "id": "pmvqRkuq6nvq",
        "colab_type": "code",
        "colab": {}
      },
      "source": [
        "A = np. array([[1,2,1],\n",
        "              [3,8,1],\n",
        "              [0,4,1]])\n",
        "B = np.array([[2],\n",
        "              [12],\n",
        "              [2]])\n"
      ],
      "execution_count": null,
      "outputs": []
    },
    {
      "cell_type": "code",
      "metadata": {
        "id": "rPy7cX5D7-2A",
        "colab_type": "code",
        "colab": {}
      },
      "source": [
        "# Procedimeinto casi cero =1e-15 #considerar como 0\n",
        "# evitar truncamientos en operaciones "
      ],
      "execution_count": null,
      "outputs": []
    },
    {
      "cell_type": "code",
      "metadata": {
        "id": "qg5lrFJkBmXn",
        "colab_type": "code",
        "colab": {}
      },
      "source": [
        "A = np.array(A,dtype=float)"
      ],
      "execution_count": null,
      "outputs": []
    },
    {
      "cell_type": "code",
      "metadata": {
        "id": "dSK2zIn7B8uS",
        "colab_type": "code",
        "colab": {}
      },
      "source": [
        "# matriz aunmentada "
      ],
      "execution_count": null,
      "outputs": []
    },
    {
      "cell_type": "code",
      "metadata": {
        "id": "t9OcHjpxCAIz",
        "colab_type": "code",
        "colab": {}
      },
      "source": [
        "AB = np.concatenate((A,B),axis=1)\n",
        "AB0 = np.copy(AB) "
      ],
      "execution_count": null,
      "outputs": []
    },
    {
      "cell_type": "code",
      "metadata": {
        "id": "XUyA39YVDe7X",
        "colab_type": "code",
        "colab": {}
      },
      "source": [
        "# Pivoteo parcial por filas "
      ],
      "execution_count": null,
      "outputs": []
    },
    {
      "cell_type": "code",
      "metadata": {
        "id": "iep07o3WEYG8",
        "colab_type": "code",
        "colab": {}
      },
      "source": [
        "tamaño  = np.shape(AB)\n",
        "n = tamaño[0]\n",
        "m = tamaño[1]  "
      ],
      "execution_count": null,
      "outputs": []
    },
    {
      "cell_type": "code",
      "metadata": {
        "id": "yLDsbt8pMopz",
        "colab_type": "code",
        "colab": {}
      },
      "source": [
        "# Para cada fila en AB"
      ],
      "execution_count": null,
      "outputs": []
    },
    {
      "cell_type": "code",
      "metadata": {
        "id": "3wULYZutM3Ov",
        "colab_type": "code",
        "colab": {}
      },
      "source": [
        "for i in range(0,n-1,1):"
      ],
      "execution_count": null,
      "outputs": []
    },
    {
      "cell_type": "code",
      "metadata": {
        "id": "gG3D4fnzM_qQ",
        "colab_type": "code",
        "colab": {}
      },
      "source": [
        " # columna desde diagonal i en adelante columna ="
      ],
      "execution_count": null,
      "outputs": []
    },
    {
      "cell_type": "code",
      "metadata": {
        "id": "bhEuOnEoOMI5",
        "colab_type": "code",
        "colab": {
          "base_uri": "https://localhost:8080/"
        },
        "outputId": "273ab825-89ac-4c34-8e55-5633f4dde30c"
      },
      "source": [
        "abs(AB[i:,i])\n",
        "    dondemax = np.argmax(columna)\n",
        "  "
      ],
      "execution_count": null,
      "outputs": [
        {
          "output_type": "error",
          "ename": "IndentationError",
          "evalue": "ignored",
          "traceback": [
            "\u001b[0;36m  File \u001b[0;32m\"<ipython-input-58-0c554d93a882>\"\u001b[0;36m, line \u001b[0;32m2\u001b[0m\n\u001b[0;31m    dondemax = np.argmax(columna)\u001b[0m\n\u001b[0m    ^\u001b[0m\n\u001b[0;31mIndentationError\u001b[0m\u001b[0;31m:\u001b[0m unexpected indent\n"
          ]
        }
      ]
    },
    {
      "cell_type": "code",
      "metadata": {
        "id": "-MxAR9pwPiBW",
        "colab_type": "code",
        "colab": {}
      },
      "source": [
        "# dondemax no esta en diagonal"
      ],
      "execution_count": null,
      "outputs": []
    },
    {
      "cell_type": "code",
      "metadata": {
        "id": "HeJBGJHKSTck",
        "colab_type": "code",
        "colab": {
          "base_uri": "https://localhost:8080/",
          "height": 135
        },
        "outputId": "25cc375f-d917-4ebb-d1fb-53ef9c709c4f"
      },
      "source": [
        "if (dondemax !=0) "
      ],
      "execution_count": null,
      "outputs": [
        {
          "output_type": "error",
          "ename": "SyntaxError",
          "evalue": "ignored",
          "traceback": [
            "\u001b[0;36m  File \u001b[0;32m\"<ipython-input-62-9be601b30649>\"\u001b[0;36m, line \u001b[0;32m1\u001b[0m\n\u001b[0;31m    if (dondemax !=0)\u001b[0m\n\u001b[0m                      ^\u001b[0m\n\u001b[0;31mSyntaxError\u001b[0m\u001b[0;31m:\u001b[0m invalid syntax\n"
          ]
        }
      ]
    },
    {
      "cell_type": "code",
      "metadata": {
        "id": "LXzm4zhISdC-",
        "colab_type": "code",
        "colab": {}
      },
      "source": [
        "# intercambia filas \n"
      ],
      "execution_count": null,
      "outputs": []
    },
    {
      "cell_type": "code",
      "metadata": {
        "id": "SqT0iu8bTGaA",
        "colab_type": "code",
        "colab": {
          "base_uri": "https://localhost:8080/"
        },
        "outputId": "6fc11eba-6a75-4bb8-9792-07148e8c855f"
      },
      "source": [
        "temporal = np.copy(AB[i,:])\n",
        "AB[i,:] = AB[dondemax+i,:]\n",
        "AB[dondemax+i,:] = temporal\n",
        "AB1 = np.copy(AB)\n"
      ],
      "execution_count": null,
      "outputs": [
        {
          "output_type": "error",
          "ename": "NameError",
          "evalue": "ignored",
          "traceback": [
            "\u001b[0;31m---------------------------------------------------------------------------\u001b[0m",
            "\u001b[0;31mNameError\u001b[0m                                 Traceback (most recent call last)",
            "\u001b[0;32m<ipython-input-64-366dc302c9a2>\u001b[0m in \u001b[0;36m<module>\u001b[0;34m()\u001b[0m\n\u001b[0;32m----> 1\u001b[0;31m \u001b[0mtemporal\u001b[0m \u001b[0;34m=\u001b[0m \u001b[0mnp\u001b[0m\u001b[0;34m.\u001b[0m\u001b[0mcopy\u001b[0m\u001b[0;34m(\u001b[0m\u001b[0mAB\u001b[0m\u001b[0;34m[\u001b[0m\u001b[0mi\u001b[0m\u001b[0;34m,\u001b[0m\u001b[0;34m:\u001b[0m\u001b[0;34m]\u001b[0m\u001b[0;34m)\u001b[0m\u001b[0;34m\u001b[0m\u001b[0;34m\u001b[0m\u001b[0m\n\u001b[0m\u001b[1;32m      2\u001b[0m \u001b[0mAB\u001b[0m\u001b[0;34m[\u001b[0m\u001b[0mi\u001b[0m\u001b[0;34m,\u001b[0m\u001b[0;34m:\u001b[0m\u001b[0;34m]\u001b[0m \u001b[0;34m=\u001b[0m \u001b[0mAB\u001b[0m\u001b[0;34m[\u001b[0m\u001b[0mdondemax\u001b[0m\u001b[0;34m+\u001b[0m\u001b[0mi\u001b[0m\u001b[0;34m,\u001b[0m\u001b[0;34m:\u001b[0m\u001b[0;34m]\u001b[0m\u001b[0;34m\u001b[0m\u001b[0;34m\u001b[0m\u001b[0m\n\u001b[1;32m      3\u001b[0m \u001b[0mAB\u001b[0m\u001b[0;34m[\u001b[0m\u001b[0mdondemax\u001b[0m\u001b[0;34m+\u001b[0m\u001b[0mi\u001b[0m\u001b[0;34m,\u001b[0m\u001b[0;34m:\u001b[0m\u001b[0;34m]\u001b[0m \u001b[0;34m=\u001b[0m\u001b[0mtemporal\u001b[0m\u001b[0;34m\u001b[0m\u001b[0;34m\u001b[0m\u001b[0m\n\u001b[1;32m      4\u001b[0m \u001b[0mAB1\u001b[0m \u001b[0;34m=\u001b[0m \u001b[0mnp\u001b[0m\u001b[0;34m.\u001b[0m\u001b[0mcopy\u001b[0m\u001b[0;34m(\u001b[0m\u001b[0mAB\u001b[0m\u001b[0;34m)\u001b[0m\u001b[0;34m\u001b[0m\u001b[0;34m\u001b[0m\u001b[0m\n",
            "\u001b[0;31mNameError\u001b[0m: name 'i' is not defined"
          ]
        }
      ]
    },
    {
      "cell_type": "markdown",
      "metadata": {
        "id": "PKIEVdKDgEok",
        "colab_type": "text"
      },
      "source": [
        "# eliminacion hacia adelante\n"
      ]
    },
    {
      "cell_type": "code",
      "metadata": {
        "id": "XQvRGIrfdGun",
        "colab_type": "code",
        "colab": {
          "base_uri": "https://localhost:8080/",
          "height": 129
        },
        "outputId": "e28f445c-c699-4d44-928a-b0f6246dff0a"
      },
      "source": [
        "for in range(0,n,1,1): \n",
        "  pivote = AB[i,i]\n",
        "  adelante = i+1 \n",
        "  for k in range(adelante,n,1):\n",
        "    factor = AB[k,i]/pivote\n",
        "    AB[k,:] AB[k,:]\n",
        "    AB[i,:]*factor\n",
        "    AB2 = np.copy(AB)"
      ],
      "execution_count": null,
      "outputs": [
        {
          "output_type": "error",
          "ename": "SyntaxError",
          "evalue": "ignored",
          "traceback": [
            "\u001b[0;36m  File \u001b[0;32m\"<ipython-input-2-c3ea7769507e>\"\u001b[0;36m, line \u001b[0;32m1\u001b[0m\n\u001b[0;31m    for in range(0,n,1)\u001b[0m\n\u001b[0m         ^\u001b[0m\n\u001b[0;31mSyntaxError\u001b[0m\u001b[0;31m:\u001b[0m invalid syntax\n"
          ]
        }
      ]
    },
    {
      "cell_type": "markdown",
      "metadata": {
        "id": "0lYdIw3ff-v1",
        "colab_type": "text"
      },
      "source": [
        "# elimna hacia atras\n"
      ]
    },
    {
      "cell_type": "code",
      "metadata": {
        "id": "7sEmA-JbgCEM",
        "colab_type": "code",
        "colab": {}
      },
      "source": [
        "ultfila =n-1\n",
        "ultcolumna = m-1\n",
        "for i in range(ultfila,0-1,-1):\n",
        "pivote = AB[i,i]\n",
        "atras = i-1\n",
        "for k in range(atras,0-1,-1):\n",
        "  factor = AB[k,i]/pivote\n",
        "  AB [k,:] = AB[k,:]\n",
        "  AB[i,:]* factor \n",
        "  "
      ],
      "execution_count": null,
      "outputs": []
    },
    {
      "cell_type": "code",
      "metadata": {
        "id": "PtfoKT7Djc9s",
        "colab_type": "code",
        "colab": {}
      },
      "source": [
        "# diagonal a unos \n",
        "AB[i,:] = AB[i,:]/AB[i,i)\n",
        "x = np.copy(AB[:,ultcolumna])\n",
        "x = np.transporte([x])\n"
      ],
      "execution_count": null,
      "outputs": []
    },
    {
      "cell_type": "markdown",
      "metadata": {
        "id": "zCAY4rwXkALW",
        "colab_type": "text"
      },
      "source": [
        "# salida"
      ]
    },
    {
      "cell_type": "code",
      "metadata": {
        "id": "YDtkBvaQkCDG",
        "colab_type": "code",
        "colab": {
          "base_uri": "https://localhost:8080/",
          "height": 248
        },
        "outputId": "63260308-21bb-43dc-d931-1caaea19b4ed"
      },
      "source": [
        "print('matriz aumentada')\n",
        "print(AB0)\n",
        "print('pivoteo parcial por filas')\n",
        "print(AB1)\n",
        "print('eliminacion hacia adelante')\n",
        "print(AB2)\n",
        "print('eliminacion hacia atras')\n",
        "print(AB)\n",
        "print('solucion de x')\n",
        "print(x)"
      ],
      "execution_count": null,
      "outputs": [
        {
          "output_type": "stream",
          "text": [
            "matriz aumentada\n"
          ],
          "name": "stdout"
        },
        {
          "output_type": "error",
          "ename": "NameError",
          "evalue": "ignored",
          "traceback": [
            "\u001b[0;31m---------------------------------------------------------------------------\u001b[0m",
            "\u001b[0;31mNameError\u001b[0m                                 Traceback (most recent call last)",
            "\u001b[0;32m<ipython-input-2-ab6c7d462e1d>\u001b[0m in \u001b[0;36m<module>\u001b[0;34m()\u001b[0m\n\u001b[1;32m      1\u001b[0m \u001b[0mprint\u001b[0m\u001b[0;34m(\u001b[0m\u001b[0;34m'matriz aumentada'\u001b[0m\u001b[0;34m)\u001b[0m\u001b[0;34m\u001b[0m\u001b[0;34m\u001b[0m\u001b[0m\n\u001b[0;32m----> 2\u001b[0;31m \u001b[0mprint\u001b[0m\u001b[0;34m(\u001b[0m\u001b[0mAB0\u001b[0m\u001b[0;34m)\u001b[0m\u001b[0;34m\u001b[0m\u001b[0;34m\u001b[0m\u001b[0m\n\u001b[0m\u001b[1;32m      3\u001b[0m \u001b[0mprint\u001b[0m\u001b[0;34m(\u001b[0m\u001b[0;34m'pivoteo parcial por filas'\u001b[0m\u001b[0;34m)\u001b[0m\u001b[0;34m\u001b[0m\u001b[0;34m\u001b[0m\u001b[0m\n\u001b[1;32m      4\u001b[0m \u001b[0mprint\u001b[0m\u001b[0;34m(\u001b[0m\u001b[0mAB1\u001b[0m\u001b[0;34m)\u001b[0m\u001b[0;34m\u001b[0m\u001b[0;34m\u001b[0m\u001b[0m\n\u001b[1;32m      5\u001b[0m \u001b[0mprint\u001b[0m\u001b[0;34m(\u001b[0m\u001b[0;34m'eliminacion hacia adelante'\u001b[0m\u001b[0;34m)\u001b[0m\u001b[0;34m\u001b[0m\u001b[0;34m\u001b[0m\u001b[0m\n",
            "\u001b[0;31mNameError\u001b[0m: name 'AB0' is not defined"
          ]
        }
      ]
    },
    {
      "cell_type": "markdown",
      "metadata": {
        "id": "0oIMsYlCGKbE",
        "colab_type": "text"
      },
      "source": [
        "# unidad 2"
      ]
    },
    {
      "cell_type": "markdown",
      "metadata": {
        "id": "xM0No2ybGtlj",
        "colab_type": "text"
      },
      "source": [
        "# metodo de interpolacion de newton\n"
      ]
    },
    {
      "cell_type": "code",
      "metadata": {
        "id": "4wfMwanZUqe5",
        "colab_type": "code",
        "colab": {}
      },
      "source": [
        "import  numpy as np #libreria numerica\n",
        "import matplotlib.pyplot as plt #libreria para las graficas "
      ],
      "execution_count": null,
      "outputs": []
    },
    {
      "cell_type": "markdown",
      "metadata": {
        "id": "g1Qre7WYYOXo",
        "colab_type": "text"
      },
      "source": [
        " # n = 1"
      ]
    },
    {
      "cell_type": "markdown",
      "metadata": {
        "id": "su9NVhSqVkdM",
        "colab_type": "text"
      },
      "source": [
        "funcion de X $f(x)=f[x_1,x_0]=\\frac{f(x_1)-f(x_0)}{x_1-x_0}=\\frac{8-2}\n",
        "{2-1.6}=\\frac{6}{0.4}=15$ "
      ]
    },
    {
      "cell_type": "markdown",
      "metadata": {
        "id": "xtS6ZZEpXodo",
        "colab_type": "text"
      },
      "source": [
        "funcion de X $f(x)=f[x_2,x_1]=\\frac{f(x_2)-f(x_1)}{x_2-x_1}=\\frac{14-8}\n",
        "{2.5-0.5}=\\frac{6}{0.5}=12$ "
      ]
    },
    {
      "cell_type": "markdown",
      "metadata": {
        "id": "lV7zpoBbYM4g",
        "colab_type": "text"
      },
      "source": [
        "funcion de X $f(x)=f[x_3,x_2]=\\frac{f(x_3)-f(x_2)}{x_3-x_2}=\\frac{15-14}\n",
        "{3.2-2.5}=\\frac{1}{0.7}=1.4285$ "
      ]
    },
    {
      "cell_type": "markdown",
      "metadata": {
        "id": "yXGIZAGgYtbY",
        "colab_type": "text"
      },
      "source": [
        "# n  = 2"
      ]
    },
    {
      "cell_type": "markdown",
      "metadata": {
        "id": "gqaTReQjY0DW",
        "colab_type": "text"
      },
      "source": [
        "funcion de  $f[x_2,x_3x,x_0]=\\frac{f(x_,12)-f(x_,15)}{x_,2.5-x_,1.6}=\\frac{-3}\n",
        "{0.9}=-3.3333$ "
      ]
    },
    {
      "cell_type": "markdown",
      "metadata": {
        "id": "IpNaKC2KbS_P",
        "colab_type": "text"
      },
      "source": [
        "funcion de  $f[x_3,x_2x,x_1]=\\frac{f(x_,1.42)-f(x_,12)}{x_,3.2-x_,2}=\\frac{-10.57}\n",
        "{1.2}=-8.8095$ "
      ]
    },
    {
      "cell_type": "markdown",
      "metadata": {
        "id": "fzm0UqSxbwd-",
        "colab_type": "text"
      },
      "source": [
        " # n = 3"
      ]
    },
    {
      "cell_type": "markdown",
      "metadata": {
        "id": "ELD6P6Rlb1mL",
        "colab_type": "text"
      },
      "source": [
        "funcion de  $f[x_3,x_2x,x_1,x_0]=\\frac{f[x_3,x_2,x_1,]-f[x_2,x_1,x_0]}{x_3-x_0}=\\frac{-8.8095-(-3.333)}\n",
        "{3.2-1.6}=\\frac{5.47-}{1.6}=3.4426$ "
      ]
    },
    {
      "cell_type": "markdown",
      "metadata": {
        "id": "4O5tRC64dYe6",
        "colab_type": "text"
      },
      "source": [
        "b1 = $f[x_1,x_0]=15$"
      ]
    },
    {
      "cell_type": "markdown",
      "metadata": {
        "id": "mn-qYSBQdYX8",
        "colab_type": "text"
      },
      "source": [
        "b1 = $f[x_2,x_1,x_0]=-3.333$"
      ]
    },
    {
      "cell_type": "markdown",
      "metadata": {
        "id": "OjmbAumkdYMs",
        "colab_type": "text"
      },
      "source": [
        "b1 = $f[x_3,x_2,x_1,x_0]=3.4226$"
      ]
    },
    {
      "cell_type": "markdown",
      "metadata": {
        "id": "eD4v5r3seCMT",
        "colab_type": "text"
      },
      "source": [
        " $f_3(x)0+15(x_,-1.6)-3.333(x_,-1.6)(x-2)+3.4226(x-1.6)(x-2)(x-2.5)$"
      ]
    },
    {
      "cell_type": "markdown",
      "metadata": {
        "id": "QyWdH8q2gszD",
        "colab_type": "text"
      },
      "source": [
        "# unidad 3"
      ]
    },
    {
      "cell_type": "code",
      "metadata": {
        "id": "ULe2nS4BGUgv",
        "colab_type": "code",
        "colab": {}
      },
      "source": [
        ""
      ],
      "execution_count": null,
      "outputs": []
    },
    {
      "cell_type": "markdown",
      "metadata": {
        "id": "t-EhquyKgxis",
        "colab_type": "text"
      },
      "source": [
        " # integracion y diferenciacion numerica\n",
        " "
      ]
    },
    {
      "cell_type": "markdown",
      "metadata": {
        "id": "QIurWijMha47",
        "colab_type": "text"
      },
      "source": [
        "realizaremos la siguiente integral definida $ \\displaystyle\\int _{-3}^5 (4x- 3)^3dx $"
      ]
    },
    {
      "cell_type": "markdown",
      "metadata": {
        "id": "IfZc3lgFVbJf",
        "colab_type": "text"
      },
      "source": [
        "$ \\displaystyle\\int _{-3}^5 (64x^3- 144x^2+108x-27)dx = $"
      ]
    },
    {
      "cell_type": "markdown",
      "metadata": {
        "id": "MxBLI9EFVan8",
        "colab_type": "text"
      },
      "source": [
        "$(4x-3)^3=(4x)^2+3(4x)^2(-3)+3(4x)(-3)^2+(-3)^3$\n"
      ]
    },
    {
      "cell_type": "markdown",
      "metadata": {
        "id": "Xp7ZYVdbVZ_d",
        "colab_type": "text"
      },
      "source": [
        "$(4x-3)=64^3x-9(16x^2)+(108x-27)=64x^3-144x^2+108x-27$"
      ]
    },
    {
      "cell_type": "markdown",
      "metadata": {
        "id": "iK8JRiHmmH3i",
        "colab_type": "text"
      },
      "source": [
        "$$ \\displaystyle\\int _{-3}^5 64^3dx- \\displaystyle\\int _ {}144x^2dx+ \\displaystyle\\int _{}108x dx - \\displaystyle\\int _{}27 dx $$"
      ]
    },
    {
      "cell_type": "markdown",
      "metadata": {
        "id": "FFrfP97VYDkX",
        "colab_type": "text"
      },
      "source": [
        " $=\\frac{64x^4}{4}+\\frac{-144x^3}{3}+\\frac{108x^2}{2}-\\frac{27x^2}\n",
        " {2}$ \n",
        "\n",
        "\n",
        " $ V.A_1=2056$ "
      ]
    },
    {
      "cell_type": "markdown",
      "metadata": {
        "id": "toCx5QUfam0H",
        "colab_type": "text"
      },
      "source": [
        "# usando el metodo del trapecio simple y calcular el ERROR relativo"
      ]
    },
    {
      "cell_type": "markdown",
      "metadata": {
        "id": "g949b6sOay_k",
        "colab_type": "text"
      },
      "source": [
        "$I = (b-a) -\\frac{f(a)f(b)}2 $"
      ]
    },
    {
      "cell_type": "markdown",
      "metadata": {
        "id": "tvVvxyMWamfc",
        "colab_type": "text"
      },
      "source": [
        "$f(a)=(4(-3)-3)^3=(-12-3)^3=(-15)^3=-3375$\n"
      ]
    },
    {
      "cell_type": "markdown",
      "metadata": {
        "id": "Wjo3QMlbcxES",
        "colab_type": "text"
      },
      "source": [
        "$ f(b)=(4(5)-3)^3=(26-3)^3=(17)=4913$"
      ]
    },
    {
      "cell_type": "markdown",
      "metadata": {
        "id": "GZcje81ydHKz",
        "colab_type": "text"
      },
      "source": [
        "$ I = (5-(-3)) [ \\frac {-3375+4913}{2}] = 8 [\\frac{1538}2]=(8)(769)$\n",
        "\n",
        "$I = 6,152 V  N$"
      ]
    },
    {
      "cell_type": "markdown",
      "metadata": {
        "id": "y2TuEFtHfbBq",
        "colab_type": "text"
      },
      "source": [
        "$Erro = -\\frac{2056-6152}{2056} *100$\n",
        "\n",
        "$ ER=200% $"
      ]
    },
    {
      "cell_type": "markdown",
      "metadata": {
        "id": "UM3tRR4bf5Yo",
        "colab_type": "text"
      },
      "source": [
        "# usando el metodo del trapecio multiple utilizar un numer variable de $ n = 1, 2,3,4 y 5$"
      ]
    },
    {
      "cell_type": "markdown",
      "metadata": {
        "id": "Hgg6xHR_gMkE",
        "colab_type": "text"
      },
      "source": [
        " $n = 1$   \n",
        " \n",
        " $ I = 6152$\n",
        "\n",
        " $ER=200$"
      ]
    },
    {
      "cell_type": "markdown",
      "metadata": {
        "id": "njEMJanLggEt",
        "colab_type": "text"
      },
      "source": [
        "$N=\\frac{b-a}n = 5-\\frac{(-3)}5=\\frac{8}5 = 1.6$"
      ]
    },
    {
      "cell_type": "markdown",
      "metadata": {
        "id": "RK2liD4hhHpI",
        "colab_type": "text"
      },
      "source": [
        "$x_0=-3$  \n",
        "$ x_1=-3+1.6=1.4$\n",
        "\n",
        "$x_2=1.4+1.6=0.2$\n",
        "\n",
        "$x_3=0.2+1.6=1.8$\n",
        "\n",
        "$x_4=1.8+1.6=3.4$\n",
        "\n",
        "$x_5=3.4+1.6=5$"
      ]
    },
    {
      "cell_type": "markdown",
      "metadata": {
        "id": "JhI-0kqNhcM5",
        "colab_type": "text"
      },
      "source": [
        "$ f(x_0)=3375$\n",
        "\n",
        "$ f(x_1)=-636.05$\n",
        "\n",
        "$ f(x_2)=-10.648$\n",
        "\n",
        "$ f(x_3)=74.088$\n",
        "\n",
        "$ f(x_5)=4913$"
      ]
    },
    {
      "cell_type": "markdown",
      "metadata": {
        "id": "TwPH-VNHitcP",
        "colab_type": "text"
      },
      "source": [
        "$h\\frac{5-(-3)}{2}=4$\n",
        "\n",
        "$x_0=-3$\n",
        "\n",
        "$x_1=1 $\n",
        "\n",
        "$ x_2=5$"
      ]
    },
    {
      "cell_type": "markdown",
      "metadata": {
        "id": "1xvsegYkjhjN",
        "colab_type": "text"
      },
      "source": [
        "$f(x_0)=[4(-3)-3]^3=3375$\n",
        "\n",
        "$f(x_1)=[4(1)-3]^3=1$\n",
        "\n",
        "$f(x_2)=[4(5)-3]^3=4913$\n",
        "\n",
        "$I=[5(-3)]= \\frac{-3375+2(1)+4913}{2056}=3080$\n",
        "\n",
        "$ER= [\\frac {2056-3080}{2056}] * 100 =49.8054$"
      ]
    },
    {
      "cell_type": "markdown",
      "metadata": {
        "id": "GBrBi_jRlJnZ",
        "colab_type": "text"
      },
      "source": [
        "$h\\frac {5-(-3)}{3}= 2067$\n",
        "\n",
        "$x_0=-3$\n",
        "\n",
        "$x_1= -0.33 $\n",
        "\n",
        "$x_2=2.33$\n",
        "\n",
        "$x_3=5$\n",
        "\n",
        "$f(x_0)=[4(-3)-3]^3=-3375$\n",
        "\n",
        "$f(x_1)=[4(-0.33)-3]^3=-81.3703$\n",
        "\n",
        "$f(x_2)=[4(2.33)-3]^3=254.0370$\n",
        "\n",
        "$f(x_3)=[4(5)-3]^3=4913$\n",
        "\n",
        "$=[5-(-3)]- \\frac{-3375+2[-81.37+254.03]+4+15}{2(3)}= 2511.11$\n",
        "\n",
        "$ER= /\\frac{2056-2511.11}{2056}/=22.1357$"
      ]
    },
    {
      "cell_type": "markdown",
      "metadata": {
        "id": "jFWJCWDFnI7N",
        "colab_type": "text"
      },
      "source": [
        "$h\\frac {5-(-3)}{4}= 2$\n",
        "\n",
        "$x_0=-3$\n",
        "\n",
        "$x_1= -1 $\n",
        "\n",
        "$x_2=1$\n",
        "\n",
        "$x_3=3$\n",
        "\n",
        "$x_4=5$\n",
        "\n",
        "$f(x_0)=[4(-3)-3]^3=-3375$\n",
        "\n",
        "$f(x_1)=[4(-1)-3]^3=-343$\n",
        "\n",
        "$f(x_2)=[4(1)-3]^3=1$\n",
        "\n",
        "$f(x_3)=[4(3)-3]^3=729$\n",
        "\n",
        "$f(x_4=[4(5)-3]^3=4913$\n",
        "\n",
        "$I=[5-(-5)]- \\frac{-3375+2[-343+1+729]+4913}{2(4)}= 2312$\n",
        "\n",
        "$ER= /\\frac{2056-2312}{2056}/ * 100 = 12.4513$"
      ]
    },
    {
      "cell_type": "markdown",
      "metadata": {
        "id": "7WudPaQ1owy6",
        "colab_type": "text"
      },
      "source": [
        "$h\\frac {5-(-3)}{5}= 1.6$\n",
        "\n",
        "$x_0=-3$\n",
        "\n",
        "$x_1= -1 $\n",
        "\n",
        "$x_2=0.2$\n",
        "\n",
        "$x_3=1.8$\n",
        "\n",
        "$X_4=3.4$\n",
        "\n",
        "$X_5=5.0$\n",
        "\n",
        "$f(x_0)=[4(-3)-3]^3=-3375$\n",
        "\n",
        "$f(x_1)=[4(1.4)-3]^3=-636.056$\n",
        "\n",
        "$f(x_2)=[4(0.2)-3]^3=-10.648$\n",
        "\n",
        "$f(x_3)=[4(1.8)-3]^3=74.088$\n",
        "\n",
        "$f(x_4)=[4(3.4)-3]^3=1191.016$\n",
        "\n",
        "$f(x_5)=[4(5)-3]^3=4913$\n",
        "\n",
        "\n",
        "$=[5-(-3)]- \\frac{-3375+2[636.056+(-10.648)+74.088+1191.016]+419}{2(5)}= 2220$\n",
        "\n",
        "$ER= /\\frac{2056-2220}{2056}/ * 100 =7.97$"
      ]
    },
    {
      "cell_type": "markdown",
      "metadata": {
        "id": "g8mhTCBQqlKF",
        "colab_type": "text"
      },
      "source": [
        ""
      ]
    }
  ]
}