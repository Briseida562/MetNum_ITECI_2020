{
  "nbformat": 4,
  "nbformat_minor": 0,
  "metadata": {
    "colab": {
      "name": "Carlos_ruiz_proyecto_final,_métodos_numéricos.ipynb",
      "provenance": [],
      "collapsed_sections": [],
      "include_colab_link": true
    },
    "kernelspec": {
      "name": "python3",
      "display_name": "Python 3"
    }
  },
  "cells": [
    {
      "cell_type": "markdown",
      "metadata": {
        "id": "view-in-github",
        "colab_type": "text"
      },
      "source": [
        "<a href=\"https://colab.research.google.com/github/roilhi/MetNum_ITECI_2020/blob/gh-pages/Carlos_ruiz_proyecto_final%2C_m%C3%A9todos_num%C3%A9ricos.ipynb\" target=\"_parent\"><img src=\"https://colab.research.google.com/assets/colab-badge.svg\" alt=\"Open In Colab\"/></a>"
      ]
    },
    {
      "cell_type": "markdown",
      "metadata": {
        "id": "h_pjfA_UqLJK",
        "colab_type": "text"
      },
      "source": [
        "# Universidad de Ensenada\n",
        "\n",
        "![iteci.jpg](data:image/jpeg;base64,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)\n",
        "\n",
        "#Materia:\n",
        "Metodos numericos\n",
        "\n",
        "#Trabajo final: \n",
        "Programacion de metodos vistos\n",
        "\n",
        "#Docente: \n",
        "Roilhi Frajo Ibarra\n",
        "\n",
        "#Alumno:\n",
        " Carlos Ruiz Garcia\n",
        "\n"
      ]
    },
    {
      "cell_type": "markdown",
      "metadata": {
        "id": "4zXkmAyuqKjr",
        "colab_type": "text"
      },
      "source": [
        "\n",
        "Unidad 1: raices de una ecuacion\n",
        "\n",
        "\n",
        "\n"
      ]
    },
    {
      "cell_type": "code",
      "metadata": {
        "id": "9ereg6NruRDy",
        "colab_type": "code",
        "colab": {}
      },
      "source": [
        "#primero importamos librerias\n",
        "import numpy as np # libreria numerica\n",
        "import matplotlib.pyplot as plt # libreria de graficas\n",
        "import sympy as sym # libreria de simbologia\n",
        "\n",
        "\n"
      ],
      "execution_count": 1,
      "outputs": []
    },
    {
      "cell_type": "markdown",
      "metadata": {
        "id": "NmmqbrqtpzP8",
        "colab_type": "text"
      },
      "source": [
        "calculo del error porcentual, nos servira en todos los ejercicios\n",
        "$\\epsilon_r=\\left  \\rvert \\frac{V_r-Vn}{Vr} \\right \\rvert \\times 100$\n",
        "\n"
      ]
    },
    {
      "cell_type": "code",
      "metadata": {
        "id": "ye9YURCls5Dd",
        "colab_type": "code",
        "colab": {}
      },
      "source": [
        "#funcion que calcule el error relativo porcentual\n",
        "def ErrorRelativo(vreal,vnum):\n",
        "  epsilon = abs((vreal-vnum)/vreal)*100\n",
        "  return epsilon"
      ],
      "execution_count": 2,
      "outputs": []
    },
    {
      "cell_type": "markdown",
      "metadata": {
        "id": "rk1SOvICwGgb",
        "colab_type": "text"
      },
      "source": [
        "* Metodo de biseccion \n",
        "Estimar la raiz de la funcion $f(x)=2\\sin(x+5)-\\cos(x-3)$ en el intervalo $[0,2]$"
      ]
    },
    {
      "cell_type": "code",
      "metadata": {
        "id": "yhQkCKQLxo9t",
        "colab_type": "code",
        "colab": {}
      },
      "source": [
        "#definir los valores iniciales\n",
        "a=0\n",
        "b=2\n",
        "Vanalitico = 1.1401\n",
        "def fx(x_i):\n",
        "  fx = 2*np.sin(x_i-5)-np.cos(x_i-3)\n",
        "  return fx\n"
      ],
      "execution_count": 3,
      "outputs": []
    },
    {
      "cell_type": "code",
      "metadata": {
        "id": "5j0uXO0z1_SX",
        "colab_type": "code",
        "colab": {
          "base_uri": "https://localhost:8080/",
          "height": 207
        },
        "outputId": "7933829c-fa66-4253-8d69-65533b1c316b"
      },
      "source": [
        "numIter = 0\n",
        "N = int(input('Defina un numero N de iteraciones '))\n",
        "x_old = 0\n",
        "while numIter<N:\n",
        "  x_i= (a+b)/2\n",
        "  if fx(a)*fx(x_i)<0:\n",
        "    b=x_i\n",
        "  elif fx(a)*fx(x_i)==0:\n",
        "    raizAproxBisec = x_i \n",
        "  else:\n",
        "    a = x_i\n",
        "  numIter = numIter+1\n",
        "  raizAproxBisec = x_i \n",
        "  ErrorBisec = ErrorRelativo(raizAproxBisec,x_old)\n",
        "  x_old = x_i\n",
        "  print(\"La raiz estimada por el metodo de biseccion es =\",+raizAproxBisec,\"iteracion i=\",+numIter)\n",
        "  print(\"el error relativo es =\",+ErrorBisec,\"iteracion i=\",+numIter)\n"
      ],
      "execution_count": 4,
      "outputs": [
        {
          "output_type": "stream",
          "text": [
            "Defina un numero N de iteraciones 5\n",
            "La raiz estimada por el metodo de biseccion es = 1.0 iteracion i= 1\n",
            "el error relativo es = 100.0 iteracion i= 1\n",
            "La raiz estimada por el metodo de biseccion es = 1.5 iteracion i= 2\n",
            "el error relativo es = 33.33333333333333 iteracion i= 2\n",
            "La raiz estimada por el metodo de biseccion es = 1.75 iteracion i= 3\n",
            "el error relativo es = 14.285714285714285 iteracion i= 3\n",
            "La raiz estimada por el metodo de biseccion es = 1.625 iteracion i= 4\n",
            "el error relativo es = 7.6923076923076925 iteracion i= 4\n",
            "La raiz estimada por el metodo de biseccion es = 1.6875 iteracion i= 5\n",
            "el error relativo es = 3.7037037037037033 iteracion i= 5\n"
          ],
          "name": "stdout"
        }
      ]
    },
    {
      "cell_type": "code",
      "metadata": {
        "id": "P8Ssywsxmtf2",
        "colab_type": "code",
        "colab": {
          "base_uri": "https://localhost:8080/",
          "height": 299
        },
        "outputId": "c6f2ed47-762d-4bb1-dc76-3631a4b135b9"
      },
      "source": [
        "#datos de graficacion\n",
        "ejeX = np.linspace(0,2*np.pi,101)\n",
        "#graficar la funcion\n",
        "plt.plot(ejeX,fx(ejeX),label = '$f(x)$')\n",
        "#graficar la raiz encontrada en la raiz\n",
        "plt.plot(raizAproxBisec,fx(raizAproxBisec),'o',label = 'raiz encontrada $x_i$')\n",
        "plt.xlabel('$x_i$')\n",
        "plt.ylabel('$f(x)$')\n",
        "plt.title('raiz de la funcion $2sin(x+5)-cos(x-3)$ metodo de la biseccion')\n",
        "plt.legend() #muestra la leyenda\n",
        "plt.grid() #muestra la cuadricula\n",
        "plt.show() #muestra la grafica\n",
        "\n",
        "\n",
        "\n"
      ],
      "execution_count": 5,
      "outputs": [
        {
          "output_type": "display_data",
          "data": {
            "image/png": "[encoded data removed]",
            "text/plain": [
              "<Figure size 432x288 with 1 Axes>"
            ]
          },
          "metadata": {
            "tags": [],
            "needs_background": "light"
          }
        }
      ]
    },
    {
      "cell_type": "markdown",
      "metadata": {
        "id": "KiwV6OMRfB73",
        "colab_type": "text"
      },
      "source": [
        "Unidad 2\n",
        "\n",
        "Tema: interpolación y regresión numéricas\n",
        "\n",
        "Ejercicio: Interpolación de Lagrange\n"
      ]
    },
    {
      "cell_type": "markdown",
      "metadata": {
        "id": "TZ4_YaIDga4X",
        "colab_type": "text"
      },
      "source": [
        "Se reformula el polinomio de Newton evitando el cálculo de las\n",
        "diferencias divididas\n",
        "$\\displaystyle f_n(x)=\\sum_{i=0}^N L_i(x)f(xi)$\n",
        "\n",
        "Donde los valores Li’s son los coeficientes de Lagrange y se\n",
        "calculan mediante:\n",
        "$L_i(x)=\\prod_{j=o,j≠1}^n \\frac { x -x_j}{x_i -x_j}$\n",
        "\n",
        "\n"
      ]
    },
    {
      "cell_type": "code",
      "metadata": {
        "id": "JF-11Of64eOY",
        "colab_type": "code",
        "colab": {}
      },
      "source": [
        "#ingresamos los valores\n",
        "xi = np.array([1, 3, 5, 7])\n",
        "fi = np.array([-2, 1, 2, 3])\n",
        "#este arreglo nos permite crear una matriz"
      ],
      "execution_count": 6,
      "outputs": []
    },
    {
      "cell_type": "code",
      "metadata": {
        "id": "RX3MEVuv4urZ",
        "colab_type": "code",
        "colab": {}
      },
      "source": [
        "# Polinomio de Lagrange\n",
        "n = len(xi)\n",
        "x = sym.Symbol('x') # creamos una exprexion simbolica\n",
        "polinomio = 0\n",
        "divisorL = np.zeros(n, dtype = float)\n",
        "#zero, nos devuelve una nueva matriz de forma y tipo dados, llena de ceros \n",
        "for i in range(0,n,1):\n",
        "    # Termino de Lagrange\n",
        "    numerador = 1\n",
        "    denominador = 1\n",
        "    for j  in range(0,n,1):\n",
        "        if (j!=i):\n",
        "            numerador = numerador*(x-xi[j])\n",
        "            denominador = denominador*(xi[i]-xi[j])\n",
        "    terminoLi = numerador/denominador\n",
        "    polinomio = polinomio + terminoLi*fi[i]\n",
        "    divisorL[i] = denominador\n",
        "# simplifica el polinomio\n",
        "polisimple = polinomio.expand()\n",
        "# para evaluación numérica\n",
        "px = sym.lambdify(x,polisimple)#este arrego no s convierte en una funcion analga"
      ],
      "execution_count": 7,
      "outputs": []
    },
    {
      "cell_type": "code",
      "metadata": {
        "id": "favPxcHu48rh",
        "colab_type": "code",
        "colab": {}
      },
      "source": [
        "# definimos los puntos para la gráfica\n",
        "muestras = 101\n",
        "a = np.min(xi)# valor maximo de nuestra matriz\n",
        "b = np.max(xi)#valor minimo de nuestra matriz\n",
        "pxi = np.linspace(a,b,muestras)\n",
        "pfi = px(pxi)"
      ],
      "execution_count": 8,
      "outputs": []
    },
    {
      "cell_type": "code",
      "metadata": {
        "id": "BTQ8dr7u5GCA",
        "colab_type": "code",
        "colab": {
          "base_uri": "https://localhost:8080/",
          "height": 173
        },
        "outputId": "d437530e-6e65-4727-be86-4de9b702fb9e"
      },
      "source": [
        "# volores de salida\n",
        "print('valores de fi: ',fi)\n",
        "print('valores de xi',xi)\n",
        "print('divisores en L(i): ',divisorL)\n",
        "print()\n",
        "print('Polinomio de Lagrange, expresiones')\n",
        "print(polinomio)\n",
        "print()\n",
        "print('Polinomio de Lagrange: ')\n",
        "print(polisimple)\n"
      ],
      "execution_count": 9,
      "outputs": [
        {
          "output_type": "stream",
          "text": [
            "valores de fi:  [-2  1  2  3]\n",
            "valores de xi [1 3 5 7]\n",
            "divisores en L(i):  [-48.  16. -16.  48.]\n",
            "\n",
            "Polinomio de Lagrange, expresiones\n",
            "(x - 7)*(x - 5)*(x - 3)/24 + (x - 7)*(x - 5)*(x - 1)/16 - (x - 7)*(x - 3)*(x - 1)/8 + (x - 5)*(x - 3)*(x - 1)/16\n",
            "\n",
            "Polinomio de Lagrange: \n",
            "x**3/24 - 5*x**2/8 + 83*x/24 - 39/8\n"
          ],
          "name": "stdout"
        }
      ]
    },
    {
      "cell_type": "code",
      "metadata": {
        "id": "i-EE3smrRoKw",
        "colab_type": "code",
        "colab": {
          "base_uri": "https://localhost:8080/",
          "height": 295
        },
        "outputId": "51247ba5-abfd-4d8b-f09e-aff5f0760202"
      },
      "source": [
        "# Gráfica\n",
        "plt.plot(xi,fi,'o', label = 'Puntos')\n",
        "plt.plot(pxi,pfi, label = 'Polinomio')\n",
        "plt.legend()\n",
        "plt.xlabel('xi')\n",
        "plt.ylabel('fi')\n",
        "plt.title('Interpolación Lagrange')\n",
        "plt.show()"
      ],
      "execution_count": 10,
      "outputs": [
        {
          "output_type": "display_data",
          "data": {
            "image/png": "[encoded data removed]",
            "text/plain": [
              "<Figure size 432x288 with 1 Axes>"
            ]
          },
          "metadata": {
            "tags": [],
            "needs_background": "light"
          }
        }
      ]
    },
    {
      "cell_type": "markdown",
      "metadata": {
        "id": "WhXYpeF9yhLO",
        "colab_type": "text"
      },
      "source": [
        "unidad 4\n",
        "\n",
        "**integración y diferenciación**\n",
        "\n",
        "Ejercicio: Simpson 3/4\n",
        "\n",
        "\n"
      ]
    },
    {
      "cell_type": "markdown",
      "metadata": {
        "id": "e5_KKgin1Vzs",
        "colab_type": "text"
      },
      "source": [
        ""
      ]
    },
    {
      "cell_type": "markdown",
      "metadata": {
        "id": "uNlt4_jG1WZ4",
        "colab_type": "text"
      },
      "source": [
        "Encontra el área bajo la curva de $f(x)=\\int_{-3}^{5}(4x-3)^3 dx=$\n",
        "\n"
      ]
    },
    {
      "cell_type": "markdown",
      "metadata": {
        "id": "uAIwU_8fJD1W",
        "colab_type": "text"
      },
      "source": [
        "**REGLA DE SIMPSON 1/3**\n",
        "\n",
        "$I≈(b-a)\\frac{(f(x_0)+4f(x_1)+f(x_2))}{6}$\n",
        "\n",
        "$I=(b-a)[\\frac{(f(a)+f(b))}{2}]$\n",
        "\n"
      ]
    },
    {
      "cell_type": "code",
      "metadata": {
        "id": "8rLoJuki2OhC",
        "colab_type": "code",
        "colab": {}
      },
      "source": [
        "#ingresamos las funcion que vamos a utilizar\n",
        "def f(x):\n",
        "  return (4*x-3)**3\n"
      ],
      "execution_count": 11,
      "outputs": []
    },
    {
      "cell_type": "code",
      "metadata": {
        "id": "FQSkGpTl3R5Q",
        "colab_type": "code",
        "colab": {}
      },
      "source": [
        "# una vez definida la funcion se utilizara el metodo de simpson 3/4\n",
        "def simpson13(f,x_0,X_1,x_2):\n",
        "  integralS = ((b-a)/6)*(f(x_0)+4*f(x_1)+f(x_2))\n",
        "  return integralS\n",
        "  \n",
        "  # tengo un error de sintaxis invalida, no lo encontre\n",
        "  #se creo una cadena de errores que suma, simpson13 no esten definidas\n",
        "  #ya habia funcionado, pero por cuestion de timpo asi lo subire"
      ],
      "execution_count": 16,
      "outputs": []
    },
    {
      "cell_type": "code",
      "metadata": {
        "id": "XD7QTGo_5c6X",
        "colab_type": "code",
        "colab": {}
      },
      "source": [
        "#ingresamos valores\n",
        "a = -3\n",
        "b = 5\n",
        "h = (b-a)/2\n",
        "x_0 = a\n",
        "x_1 = h\n",
        "x_2 = b\n",
        "n = 2\n",
        "h = (b-a)/n\n",
        "for i in range(n):\n",
        "  area = simpson13(f, x_0, x_1, x_2)\n",
        "  suma = area"
      ],
      "execution_count": 17,
      "outputs": []
    },
    {
      "cell_type": "code",
      "metadata": {
        "id": "J9m_0yY575SJ",
        "colab_type": "code",
        "colab": {}
      },
      "source": [
        "#valores del error porcentual\n",
        "vnum = suma\n",
        "vreal = 2056\n",
        "errorsim = abs((vreal-vnum)/vreal)*100\n",
        "\n"
      ],
      "execution_count": 18,
      "outputs": []
    },
    {
      "cell_type": "code",
      "metadata": {
        "id": "OjcMZvrCA_no",
        "colab_type": "code",
        "colab": {
          "base_uri": "https://localhost:8080/",
          "height": 52
        },
        "outputId": "b4c391d4-9a6d-45c2-f854-d27783e0149d"
      },
      "source": [
        "#valores de salida\n",
        "print('i=',+suma)\n",
        "print('Er%',+errorsim)\n",
        "  "
      ],
      "execution_count": 19,
      "outputs": [
        {
          "output_type": "stream",
          "text": [
            "i= 13768.0\n",
            "Er% 569.6498054474708\n"
          ],
          "name": "stdout"
        }
      ]
    },
    {
      "cell_type": "code",
      "metadata": {
        "id": "H0e7nYOrOZBO",
        "colab_type": "code",
        "colab": {
          "base_uri": "https://localhost:8080/",
          "height": 281
        },
        "outputId": "6ff2ef00-4ec5-4bb2-e913-68fd696e25fa"
      },
      "source": [
        "#grafica\n",
        "ejex = np.linspace(-6,6,101)\n",
        "plt.plot(ejex,f(ejex))#grafica la funcion')\n",
        "plt.title('simpson 1/3')\n",
        "#plt.legend() #muestra la leyenda\n",
        "plt.xlim(-5, 8)#intervalo del eje x que queremos que se nos muestre\n",
        "plt.ylim(-5,4)#intervalo del eje y que queremos que se nos muestre\n",
        "plt.grid() #muestra la cuadricula\n",
        "plt.show() #muestra la grafica"
      ],
      "execution_count": 21,
      "outputs": [
        {
          "output_type": "display_data",
          "data": {
            "image/png": "[encoded data removed]",
            "text/plain": [
              "<Figure size 432x288 with 1 Axes>"
            ]
          },
          "metadata": {
            "tags": [],
            "needs_background": "light"
          }
        }
      ]
    },
    {
      "cell_type": "markdown",
      "metadata": {
        "id": "G7XFriPRp8DF",
        "colab_type": "text"
      },
      "source": [
        "**Unidad 4**\n",
        "\n",
        "Sistemas de ecuaciones lineales\n",
        "\n",
        "Ejercicio: metodo de liminación Gauss-Jordan\n",
        "\n",
        "\n",
        "\n"
      ]
    },
    {
      "cell_type": "markdown",
      "metadata": {
        "id": "0PH3i8QPtC-c",
        "colab_type": "text"
      },
      "source": [
        "Demostrar que:\n",
        "x=2, y=1, z=-2\n",
        "\n",
        "son las soluciones para los siguientes sistemas de Soluciones\n",
        "\n",
        "x+2y+z=2\n",
        "\n",
        "3x+8y+z=12\n",
        "\n",
        "4y+z=2\n",
        "\n",
        "\n"
      ]
    },
    {
      "cell_type": "code",
      "metadata": {
        "id": "ZJQ02Lr0r1O6",
        "colab_type": "code",
        "colab": {}
      },
      "source": [
        "#Ingresar valore\n",
        "A = np.array([[1,2,1],\n",
        "             [3,8,1],\n",
        "             [0,4,1]])\n",
        "B = np.array([[2],\n",
        "     [12],\n",
        "     [2]])\n"
      ],
      "execution_count": 22,
      "outputs": []
    },
    {
      "cell_type": "code",
      "metadata": {
        "id": "FPU98Q6iuVVD",
        "colab_type": "code",
        "colab": {}
      },
      "source": [
        "# procedimiento gauss jordan\n",
        "cero = 1e-15 # se considera valor 0\n",
        "# este arreglo es para evitar un truncamiento\n",
        "A = np.array(A,dtype=float) \n"
      ],
      "execution_count": 23,
      "outputs": []
    },
    {
      "cell_type": "markdown",
      "metadata": {
        "id": "77A2xfWodBmj",
        "colab_type": "text"
      },
      "source": [
        ""
      ]
    },
    {
      "cell_type": "code",
      "metadata": {
        "id": "CFGpf6AGvHLr",
        "colab_type": "code",
        "colab": {}
      },
      "source": [
        "#se procede al matriz aumentada\n",
        "AB = np.concatenate ((A,B),axis=1) # este arreglo une la secuncia de matrices A,B\n",
        "# pivoteo parcial por filas\n",
        "tamaño = np.shape(AB) # arreglo que devuelve la forma a la matriz\n",
        "# este arreglo es necesario si se necesita intercambiar filas\n",
        "#aunque en este ejercio no se utilizo\n",
        "n = tamaño[0]\n",
        "m = tamaño[1]\n",
        "# Para cada fila en AB\n",
        "for i in range(0,n-1,1):\n",
        "    # columna desde diagonal i en adelante\n",
        "    columna = abs(AB0[i:,i])\n",
        "    dondemax = np.argmax(columna) \n",
        "    # arreglo que deevuelve los índices de los valores máximos a lo largo de un eje\n",
        "    \n",
        "    if (dondemax !=0):\n",
        "        # intercambia filas\n",
        "        temporal = np.copy(AB[i,:])\n",
        "        AB[i,:] = AB[dondemax+i,:]\n",
        "        AB[dondemax+i,:] = temporal"
      ],
      "execution_count": 25,
      "outputs": []
    },
    {
      "cell_type": "code",
      "metadata": {
        "id": "ApMemE85k8xA",
        "colab_type": "code",
        "colab": {}
      },
      "source": [
        "#orden donde empezamos a ser nuestros primers 0 en la párter inferior\n",
        "AB1 = np.copy(AB)\n",
        "# eliminacion hacia adelante\n",
        "for i in range(0,n-1,1):\n",
        "    pivote = AB[i,i]\n",
        "    adelante = i+1\n",
        "    for k in range(adelante,n,1):\n",
        "        factor = AB[k,i]/pivote\n",
        "        AB[k,:] = AB[k,:] - AB[i,:]*factor\n",
        "AB2 = np.copy(AB)"
      ],
      "execution_count": 26,
      "outputs": []
    },
    {
      "cell_type": "code",
      "metadata": {
        "id": "KgVyzo0dljnq",
        "colab_type": "code",
        "colab": {}
      },
      "source": [
        "# convertimos en los valore en 1 en la diagonal principal\n",
        "# elimina hacia atras\n",
        "ultfila = n-1\n",
        "ultcolumna = m-1\n",
        "for i in range(ultfila,0-1,-1):\n",
        "    pivote = AB[i,i]\n",
        "    atras = i-1 \n",
        "    for k in range(atras,0-1,-1):\n",
        "        factor = AB[k,i]/pivote\n",
        "        AB[k,:] = AB[k,:] - AB[i,:]*factor\n",
        "    # diagonal a unos\n",
        "    AB[i,:] = AB[i,:]/AB[i,i]\n",
        "X = np.copy(AB[:,ultcolumna])\n",
        "X = np.transpose([X])"
      ],
      "execution_count": 27,
      "outputs": []
    },
    {
      "cell_type": "code",
      "metadata": {
        "id": "97Ih-pyrrnq0",
        "colab_type": "code",
        "colab": {
          "base_uri": "https://localhost:8080/",
          "height": 501
        },
        "outputId": "4d66c92f-a35e-4363-c924-923980d89ca0"
      },
      "source": [
        "# valores de salida\n",
        "print('valores de A')\n",
        "print(A)\n",
        "print('valores de B')\n",
        "print(B)\n",
        "print('Matriz aumentada:')\n",
        "print(AB0)\n",
        "print('Pivoteo parcial por filas')\n",
        "print(AB1)\n",
        "print('eliminacion hacia adelante')\n",
        "print(AB2)\n",
        "print('eliminación hacia atrás')\n",
        "print(AB)\n",
        "print('solución de X: ')\n",
        "print(X)"
      ],
      "execution_count": 28,
      "outputs": [
        {
          "output_type": "stream",
          "text": [
            "valores de A\n",
            "[[1. 2. 1.]\n",
            " [3. 8. 1.]\n",
            " [0. 4. 1.]]\n",
            "valores de B\n",
            "[[ 2]\n",
            " [12]\n",
            " [ 2]]\n",
            "Matriz aumentada:\n",
            "[[ 1.  2.  1.  2.]\n",
            " [ 3.  8.  1. 12.]\n",
            " [ 0.  4.  1.  2.]]\n",
            "Pivoteo parcial por filas\n",
            "[[ 3.  8.  1. 12.]\n",
            " [ 1.  2.  1.  2.]\n",
            " [ 0.  4.  1.  2.]]\n",
            "eliminacion hacia adelante\n",
            "[[  3.           8.           1.          12.        ]\n",
            " [  0.          -0.66666667   0.66666667  -2.        ]\n",
            " [  0.           0.           5.         -10.        ]]\n",
            "eliminación hacia atrás\n",
            "[[ 1.  0.  0.  2.]\n",
            " [-0.  1. -0.  1.]\n",
            " [ 0.  0.  1. -2.]]\n",
            "solución de X: \n",
            "[[ 2.]\n",
            " [ 1.]\n",
            " [-2.]]\n"
          ],
          "name": "stdout"
        }
      ]
    }
  ]
}