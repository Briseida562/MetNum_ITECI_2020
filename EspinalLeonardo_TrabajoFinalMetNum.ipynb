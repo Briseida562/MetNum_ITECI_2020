{
  "nbformat": 4,
  "nbformat_minor": 0,
  "metadata": {
    "colab": {
      "name": "EspinalLeonardo_TrabajoFinalMetNum.ipynb",
      "provenance": [],
      "include_colab_link": true
    },
    "kernelspec": {
      "name": "python3",
      "display_name": "Python 3"
    }
  },
  "cells": [
    {
      "cell_type": "markdown",
      "metadata": {
        "id": "view-in-github",
        "colab_type": "text"
      },
      "source": [
        "<a href=\"https://colab.research.google.com/github/roilhi/MetNum_ITECI_2020/blob/gh-pages/EspinalLeonardo_TrabajoFinalMetNum.ipynb\" target=\"_parent\"><img src=\"https://colab.research.google.com/assets/colab-badge.svg\" alt=\"Open In Colab\"/></a>"
      ]
    },
    {
      "cell_type": "markdown",
      "metadata": {
        "id": "o3PdzZsY-TYf",
        "colab_type": "text"
      },
      "source": [
        "# Universidad de Ensenada\n",
        "\n",
        "**Curso de Métodos Numéricos**\n",
        "\n",
        "*Repaso y Programación de algunos métodos vistos*\n",
        "Leonardo Espinal"
      ]
    },
    {
      "cell_type": "markdown",
      "metadata": {
        "id": "Y3SpJPjK-Yy1",
        "colab_type": "text"
      },
      "source": [
        "Unidad 1: Raíces de ecuaciones"
      ]
    },
    {
      "cell_type": "code",
      "metadata": {
        "id": "MT-qyC8R-Zrn",
        "colab_type": "code",
        "colab": {}
      },
      "source": [
        "# Primero importamos las librerías necesarias\n",
        "import numpy as np # Librería numérica\n",
        "import sympy # Procesamiento simbólico\n",
        "import matplotlib.pyplot as plt # Librería para las gráficas"
      ],
      "execution_count": 1,
      "outputs": []
    },
    {
      "cell_type": "markdown",
      "metadata": {
        "id": "6d-pSdllBmT1",
        "colab_type": "text"
      },
      "source": [
        "Cálculo del error relativo porcentual, nos servirá para todos los métodos.\n",
        "$$\\epsilon_r = \\left \\lvert \\frac {V_r-Vn}{Vn} \\right \\rvert \\times 100$$"
      ]
    },
    {
      "cell_type": "code",
      "metadata": {
        "id": "IKQxk1rfBpQc",
        "colab_type": "code",
        "colab": {}
      },
      "source": [
        "# Función que calcule el error relativo porcentual\n",
        "def ErrorRelativo (vreal, vnum):\n",
        "  epsilon = abs((vreal-vnum)/vreal)*100\n",
        "  return epsilon"
      ],
      "execution_count": 2,
      "outputs": []
    },
    {
      "cell_type": "markdown",
      "metadata": {
        "id": "BaFlqSfEBvl3",
        "colab_type": "text"
      },
      "source": [
        "*   Método de bisección\n",
        "\n",
        "Estimar la raíz de la función $f(x)=x-\\cos(x)$ en el intervalo $[0.5, 1]$\n"
      ]
    },
    {
      "cell_type": "code",
      "metadata": {
        "id": "m5UyrUHmB0IF",
        "colab_type": "code",
        "colab": {}
      },
      "source": [
        "# Valores iniciales\n",
        "a =0.5\n",
        "b =1\n",
        "Vanalítico =0.73909\n",
        "def fx(x_int):\n",
        "  fx = x_int-np.cos(x_int)\n",
        "  return fx"
      ],
      "execution_count": 3,
      "outputs": []
    },
    {
      "cell_type": "code",
      "metadata": {
        "id": "sPb7yAi0B35Q",
        "colab_type": "code",
        "colab": {
          "base_uri": "https://localhost:8080/",
          "height": 207
        },
        "outputId": "5916c1e7-ca56-446a-fa29-754be97e1467"
      },
      "source": [
        "numIter = 0\n",
        "N = int(input('Defina un número N de iteraciones'))\n",
        "x_old =0\n",
        "while numIter<N:\n",
        "  x_i = (a+b)/2\n",
        "  if fx(a)*fx(x_i)<0:\n",
        "    b = x_i\n",
        "  elif fx(a)*fx(x_i)==0:\n",
        "    raizAproxBisec = x_i\n",
        "  else:\n",
        "    a = x_i\n",
        "  numIter = numIter+1\n",
        "  raizAproxBisec = x_i\n",
        "  ErrorBisec = ErrorRelativo(raizAproxBisec,x_old)\n",
        "  x_old = x_i\n",
        "  print(\"La raíz estimada por el método de bisección es =\",+raizAproxBisec, \"iteración i =\",+numIter)\n",
        "  print(\"El error relativo es =\",+ErrorBisec, \"iteración i =\",+numIter)"
      ],
      "execution_count": 4,
      "outputs": [
        {
          "output_type": "stream",
          "text": [
            "Defina un número N de iteraciones5\n",
            "La raíz estimada por el método de bisección es = 0.75 iteración i = 1\n",
            "El error relativo es = 100.0 iteración i = 1\n",
            "La raíz estimada por el método de bisección es = 0.625 iteración i = 2\n",
            "El error relativo es = 20.0 iteración i = 2\n",
            "La raíz estimada por el método de bisección es = 0.6875 iteración i = 3\n",
            "El error relativo es = 9.090909090909092 iteración i = 3\n",
            "La raíz estimada por el método de bisección es = 0.71875 iteración i = 4\n",
            "El error relativo es = 4.3478260869565215 iteración i = 4\n",
            "La raíz estimada por el método de bisección es = 0.734375 iteración i = 5\n",
            "El error relativo es = 2.127659574468085 iteración i = 5\n"
          ],
          "name": "stdout"
        }
      ]
    },
    {
      "cell_type": "code",
      "metadata": {
        "id": "qIAOwvN0B8VX",
        "colab_type": "code",
        "colab": {
          "base_uri": "https://localhost:8080/",
          "height": 297
        },
        "outputId": "0ad9e049-411b-4bbe-ce84-b3e39fae2d0a"
      },
      "source": [
        "# Datos para la graficación\n",
        "ejeX = np.linspace(0,2*np.pi,101)\n",
        "# Graficando la función\n",
        "plt.plot(ejeX,fx(ejeX), label='$f(x)$')\n",
        "# Graficar la raíz encontrada en el método\n",
        "plt.plot(raizAproxBisec,fx(raizAproxBisec), 'o', label= 'raíz encontrada $x_i$')\n",
        "plt.xlabel('$x$')\n",
        "plt.ylabel('$f(x)$')\n",
        "plt.title('Raíz de la función $f(x)=x-cos(x)$ método de bisección')\n",
        "plt.legend() # Muestra la leyenda\n",
        "plt.grid() # Muestra la cuadrícula\n",
        "plt.show() # Muestra la gráfica"
      ],
      "execution_count": 5,
      "outputs": [
        {
          "output_type": "display_data",
          "data": {
            "image/png": "[encoded data removed]",
            "text/plain": [
              "<Figure size 432x288 with 1 Axes>"
            ]
          },
          "metadata": {
            "tags": [],
            "needs_background": "light"
          }
        }
      ]
    },
    {
      "cell_type": "markdown",
      "metadata": {
        "id": "r7hRiP4JCF-C",
        "colab_type": "text"
      },
      "source": [
        "Unidad 2: Interpolación Numérica"
      ]
    },
    {
      "cell_type": "markdown",
      "metadata": {
        "id": "0zU1pYXWOXCI",
        "colab_type": "text"
      },
      "source": [
        "\n",
        "\n",
        "*   Regresión numérica por mínimo cuadrado\n"
      ]
    },
    {
      "cell_type": "markdown",
      "metadata": {
        "id": "oafTqAzyCK1M",
        "colab_type": "text"
      },
      "source": [
        "Dada la serie de puntos $(x_1,y_1),(x_2,y_2),...,(x_n),(y_n)$\n",
        "\n",
        "La función de ajuste es una línea recta $y= a_0+a_1^x+e$\n",
        "\n",
        "Donde: $a_0$ es el cruce con el eje de las \"y\" de la recta (ordenada de orígen)\n",
        "\n",
        "a_1 es la pendiente o la inclinación de la recta\n",
        "\n",
        "\"e\" es el error o diferencia entre el modelo (ajuste) y las observaciones (datos)"
      ]
    },
    {
      "cell_type": "code",
      "metadata": {
        "id": "HQfQhcUKCPUz",
        "colab_type": "code",
        "colab": {
          "base_uri": "https://localhost:8080/",
          "height": 131
        },
        "outputId": "7aed3b80-c142-4c33-8881-85d2cd4cd163"
      },
      "source": [
        "import numpy as np\n",
        "import random\n",
        "from sklearn import linear_model\n",
        "from sklearn.metrics import mean_squared_error, r2_score\n",
        "import matplotlib.pyplot as plt\n",
        "%matplotlib inline\n",
        " \n",
        "# Generador de distribución de datos para regresión lineal simple\n",
        "def generador_datos_simple(beta, muestras, desviacion):\n",
        "# Genero n (muestras) valores de x aleatorios entre 0 y 100\n",
        "x = np.random.random(muestras)* 100\n",
        "# Genero un error aleatorio gaussiano con desviación típica (desviacion)\n",
        "e = np.random.randn(muestras) * desviacion\n",
        "# Obtengo el y real como x*beta + error\n",
        "y = x * beta + e\n",
        "return x.reshape((muestras,1)), y.reshape((muestras,1))\n",
        " \n",
        "# Parámetros de la distribución\n",
        "desviacion = 200\n",
        "beta = 10\n",
        "n = 50\n",
        "x, y = generador_datos_simple(beta, n, desviacion)\n",
        " \n",
        "# Represento los datos generados\n",
        "plt.scatter(x, y)\n",
        "plt.show()"
      ],
      "execution_count": 6,
      "outputs": [
        {
          "output_type": "error",
          "ename": "IndentationError",
          "evalue": "ignored",
          "traceback": [
            "\u001b[0;36m  File \u001b[0;32m\"<ipython-input-6-61d0cc7c1b7d>\"\u001b[0;36m, line \u001b[0;32m11\u001b[0m\n\u001b[0;31m    x = np.random.random(muestras)* 100\u001b[0m\n\u001b[0m    ^\u001b[0m\n\u001b[0;31mIndentationError\u001b[0m\u001b[0;31m:\u001b[0m expected an indented block\n"
          ]
        }
      ]
    },
    {
      "cell_type": "code",
      "metadata": {
        "id": "fcDG-BO_6hxn",
        "colab_type": "code",
        "colab": {
          "base_uri": "https://localhost:8080/",
          "height": 131
        },
        "outputId": "70883957-98fa-4414-9d6f-c949d9b1ef66"
      },
      "source": [
        "# Creo un modelo de regresión lineal\n",
        "modelo = linear_model.LinearRegression()\n",
        " \n",
        "# Entreno el modelo con los datos (X,Y)\n",
        "modelo.fit(x, y)\n",
        "# Ahora puedo obtener el coeficiente b_1\n",
        "print u'Coeficiente beta1: ', modelo.coef_[0]\n",
        " \n",
        "# Podemos predecir usando el modelo\n",
        "y_pred = modelo.predict(x)\n",
        " \n",
        "# Por último, calculamos el error cuadrático medio y el estadístico R^2\n",
        "print u'Error cuadrático medio: %.2f' % mean_squared_error(y, y_pred)\n",
        "print u'Estadístico R_2: %.2f' % r2_score(y, y_pred)\n",
        "Coeficiente beta1:  [ 9.89500401]\n",
        "Error cuadrático medio: 22140.95\n",
        "Estadístico R_2: 0.79\n",
        "ver códigoimprimir?\n",
        "# Representamos el ajuste (rojo) y la recta Y = beta*x (verde)\n",
        "plt.scatter(x, y)\n",
        "plt.plot(x, y_pred, color='red')\n",
        "x_real = np.array([0, 100])\n",
        "y_real = x_real*beta\n",
        "plt.plot(x_real, y_real, color='green')\n",
        "plt.show()"
      ],
      "execution_count": 7,
      "outputs": [
        {
          "output_type": "error",
          "ename": "SyntaxError",
          "evalue": "ignored",
          "traceback": [
            "\u001b[0;36m  File \u001b[0;32m\"<ipython-input-7-3c3828dd55cf>\"\u001b[0;36m, line \u001b[0;32m7\u001b[0m\n\u001b[0;31m    print u'Coeficiente beta1: ', modelo.coef_[0]\u001b[0m\n\u001b[0m                               ^\u001b[0m\n\u001b[0;31mSyntaxError\u001b[0m\u001b[0;31m:\u001b[0m Missing parentheses in call to 'print'. Did you mean print(u'Coeficiente beta1: ', modelo.coef_[0])?\n"
          ]
        }
      ]
    },
    {
      "cell_type": "markdown",
      "metadata": {
        "id": "CDHDL_waOoLK",
        "colab_type": "text"
      },
      "source": [
        "Unidad 3: Integración y diferenciación numérica."
      ]
    },
    {
      "cell_type": "markdown",
      "metadata": {
        "id": "FpBDazwxRoAP",
        "colab_type": "text"
      },
      "source": [
        "\n",
        "\n",
        "*   Método del trapecio simple\n",
        "\n"
      ]
    },
    {
      "cell_type": "markdown",
      "metadata": {
        "id": "vJV23xHb-UAh",
        "colab_type": "text"
      },
      "source": [
        "Se tiene cuando la función polinomios que aproxima a Newton-Cotes es un polinomio de orden 1 (lineal).\n",
        "\n",
        "Regla del trapecio:\n",
        "\n",
        "$I≈(b-a)\\frac {f(a)+f(b)} {2}$"
      ]
    },
    {
      "cell_type": "code",
      "metadata": {
        "id": "Bfnh_mfD-JXM",
        "colab_type": "code",
        "colab": {}
      },
      "source": [
        "def f(x):\n",
        "  return (x*x)\n",
        "\n",
        "  def trapecio_simple (a,b):\n",
        "    if (b>a):\n",
        "      return 0.5*(f(a)+f(b))*(b-a)\n",
        "\n",
        "    def trapecio_compuesto (a,b):\n",
        "      i=a\n",
        "      h=1E-6\n",
        "      area= 0.0\n",
        "      while (i<=b):\n",
        "        if (i+h<=b):\n",
        "          area = area+trapecio_simple(i,i+h)\n",
        "          i= i+h\n",
        "          return area\n",
        "\n",
        "          if __name__ == \"__main__\":\n",
        "            print (\"Area =\") +str(trapecio_simple(0,1))"
      ],
      "execution_count": 8,
      "outputs": []
    },
    {
      "cell_type": "markdown",
      "metadata": {
        "id": "59Xg2eh7DS1x",
        "colab_type": "text"
      },
      "source": [
        "Unidad 4: Sistema de ecuaciones lineales."
      ]
    },
    {
      "cell_type": "markdown",
      "metadata": {
        "id": "9NuZqUOIDchq",
        "colab_type": "text"
      },
      "source": [
        "\n",
        "\n",
        "*   Método de eliminación de Gauss Jordan.\n",
        "\n",
        "Demostrar que $x=1, y=1, z=2$ son las soluciones del sistema de ecuaciones lineales.\n",
        "\n",
        "$x+y-2z= -2$\n",
        "\n",
        "$y+3z = 7$\n",
        "\n",
        " $x-z = -1$\n"
      ]
    },
    {
      "cell_type": "code",
      "metadata": {
        "id": "2cELU5drFcXk",
        "colab_type": "code",
        "colab": {
          "base_uri": "https://localhost:8080/",
          "height": 363
        },
        "outputId": "5a82fed8-c6a2-490d-ad61-a660726fa08a"
      },
      "source": [
        "# Método de Gauss-Jordan\n",
        "# Solución a Sistemas de Ecuaciones\n",
        "\n",
        "import numpy as np\n",
        "\n",
        "# INGRESO DE VALORES\n",
        "A = np.array([[1,1,-2],\n",
        "              [0,1,3],\n",
        "              [1,0,-1]])\n",
        "\n",
        "B = np.array([[-2],\n",
        "              [7],\n",
        "              [-1]])\n",
        "\n",
        "# PROCEDIMIENTO\n",
        "casicero = 1e-15 # Considerar como 0\n",
        "# Evitar truncamiento en operaciones\n",
        "A = np.array(A,dtype=float) \n",
        "\n",
        "# Matriz aumentada\n",
        "AB = np.concatenate((A,B),axis=1)\n",
        "AB0 = np.copy(AB)\n",
        "\n",
        "# Pivoteo parcial por filas\n",
        "tamano = np.shape(AB)\n",
        "n = tamano[0]\n",
        "m = tamano[1]\n",
        "\n",
        "# Para cada fila en AB\n",
        "for i in range(0,n-1,1):\n",
        "    # columna desde diagonal i en adelante\n",
        "    columna = abs(AB[i:,i])\n",
        "    dondemax = np.argmax(columna)\n",
        "    \n",
        "    # dondemax no está en diagonal\n",
        "    if (dondemax !=0):\n",
        "        # intercambia filas\n",
        "        temporal = np.copy(AB[i,:])\n",
        "        AB[i,:] = AB[dondemax+i,:]\n",
        "        AB[dondemax+i,:] = temporal\n",
        "AB1 = np.copy(AB)\n",
        "\n",
        "# eliminacion hacia adelante\n",
        "for i in range(0,n-1,1):\n",
        "    pivote = AB[i,i]\n",
        "    adelante = i+1\n",
        "    for k in range(adelante,n,1):\n",
        "        factor = AB[k,i]/pivote\n",
        "        AB[k,:] = AB[k,:] - AB[i,:]*factor\n",
        "AB2 = np.copy(AB)\n",
        "\n",
        "# elimina hacia atras\n",
        "ultfila = n-1\n",
        "ultcolumna = m-1\n",
        "for i in range(ultfila,0-1,-1):\n",
        "    pivote = AB[i,i]\n",
        "    atras = i-1 \n",
        "    for k in range(atras,0-1,-1):\n",
        "        factor = AB[k,i]/pivote\n",
        "        AB[k,:] = AB[k,:] - AB[i,:]*factor\n",
        "    # diagonal a unos\n",
        "    AB[i,:] = AB[i,:]/AB[i,i]\n",
        "X = np.copy(AB[:,ultcolumna])\n",
        "X = np.transpose([X])\n",
        "\n",
        "\n",
        "# SALIDA\n",
        "print('Matriz aumentada:')\n",
        "print(AB0)\n",
        "print('Pivoteo parcial por filas')\n",
        "print(AB1)\n",
        "print('eliminacion hacia adelante')\n",
        "print(AB2)\n",
        "print('eliminación hacia atrás')\n",
        "print(AB)\n",
        "print('solución de X: ')\n",
        "print(X)"
      ],
      "execution_count": 9,
      "outputs": [
        {
          "output_type": "stream",
          "text": [
            "Matriz aumentada:\n",
            "[[ 1.  1. -2. -2.]\n",
            " [ 0.  1.  3.  7.]\n",
            " [ 1.  0. -1. -1.]]\n",
            "Pivoteo parcial por filas\n",
            "[[ 1.  1. -2. -2.]\n",
            " [ 0.  1.  3.  7.]\n",
            " [ 1.  0. -1. -1.]]\n",
            "eliminacion hacia adelante\n",
            "[[ 1.  1. -2. -2.]\n",
            " [ 0.  1.  3.  7.]\n",
            " [ 0.  0.  4.  8.]]\n",
            "eliminación hacia atrás\n",
            "[[1. 0. 0. 1.]\n",
            " [0. 1. 0. 1.]\n",
            " [0. 0. 1. 2.]]\n",
            "solución de X: \n",
            "[[1.]\n",
            " [1.]\n",
            " [2.]]\n"
          ],
          "name": "stdout"
        }
      ]
    },
    {
      "cell_type": "markdown",
      "metadata": {
        "id": "6ynUts9tG-2P",
        "colab_type": "text"
      },
      "source": [
        "Se demostró que $x=1, y=1, z=2$"
      ]
    }
  ]
}