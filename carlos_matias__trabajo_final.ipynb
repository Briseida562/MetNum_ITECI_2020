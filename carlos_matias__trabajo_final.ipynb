{
  "nbformat": 4,
  "nbformat_minor": 0,
  "metadata": {
    "colab": {
      "name": "carlos matias _trabajo final.ipynb",
      "provenance": [],
      "include_colab_link": true
    },
    "kernelspec": {
      "name": "python3",
      "display_name": "Python 3"
    }
  },
  "cells": [
    {
      "cell_type": "markdown",
      "metadata": {
        "id": "view-in-github",
        "colab_type": "text"
      },
      "source": [
        "<a href=\"https://colab.research.google.com/github/roilhi/MetNum_ITECI_2020/blob/gh-pages/carlos_matias__trabajo_final.ipynb\" target=\"_parent\"><img src=\"https://colab.research.google.com/assets/colab-badge.svg\" alt=\"Open In Colab\"/></a>"
      ]
    },
    {
      "cell_type": "code",
      "metadata": {
        "id": "kDCC_oG3o5Oo",
        "colab_type": "code",
        "colab": {}
      },
      "source": [
        ""
      ],
      "execution_count": null,
      "outputs": []
    },
    {
      "cell_type": "markdown",
      "metadata": {
        "id": "p92so-ZdptEc",
        "colab_type": "text"
      },
      "source": [
        "# Modulo de metodos numericos\n",
        "\n",
        "Carlos Matías\n"
      ]
    },
    {
      "cell_type": "markdown",
      "metadata": {
        "id": "gvuZ6XXYpzi2",
        "colab_type": "text"
      },
      "source": [
        "importar las librerias que necesitaremos"
      ]
    },
    {
      "cell_type": "code",
      "metadata": {
        "id": "ddp-tuyOp4w5",
        "colab_type": "code",
        "colab": {}
      },
      "source": [
        "import numpy as np\n",
        "import matplotlib.pyplot as plt\n",
        "import sympy as sp\n"
      ],
      "execution_count": null,
      "outputs": []
    },
    {
      "cell_type": "markdown",
      "metadata": {
        "id": "XRbWZCUnqB4V",
        "colab_type": "text"
      },
      "source": [
        "definir las primeras variables e introducimos la funcion  $𝑥^3−4x^2−6$\n"
      ]
    },
    {
      "cell_type": "code",
      "metadata": {
        "id": "RlxiqG9ip9ow",
        "colab_type": "code",
        "colab": {}
      },
      "source": [
        "a=-2\n",
        "b=-2\n",
        "x=0\n",
        "def fx(x_i):\n",
        "   return (x_i)**3-4*(x_i)**2-6\n",
        "\n",
        "def ErrorRelativo(vAn,vNum):\n",
        "  epsilon = abs((vAn-vNum)/vAn)*100\n",
        "  return epsilon "
      ],
      "execution_count": null,
      "outputs": []
    },
    {
      "cell_type": "markdown",
      "metadata": {
        "id": "ikXh8r2nqO6q",
        "colab_type": "text"
      },
      "source": [
        "para realizar la iteracion restamos a,b y dividimos sobre 2 $ x_i = \\frac {𝑎+𝑏}{2}$"
      ]
    },
    {
      "cell_type": "markdown",
      "metadata": {
        "id": "Y-tOGL6uqRPU",
        "colab_type": "text"
      },
      "source": [
        "evaluamos la funcion en a y b y si la multiplicacion $ 𝑓(𝑎)𝑓(𝑏)<0  $entonces  $𝑏=𝑥𝑖$"
      ]
    },
    {
      "cell_type": "code",
      "metadata": {
        "id": "K2k5nR3EqJ-M",
        "colab_type": "code",
        "colab": {
          "base_uri": "https://localhost:8080/",
          "height": 207
        },
        "outputId": "45b49e09-4fb3-4d3c-b193-625e549b1d95"
      },
      "source": [
        "numIter = 0\n",
        "N = int(input('Defina un numero N de iteraciones '))\n",
        "x_old = 0\n",
        "while numIter<N: \n",
        "  x_i = (a+b)/2\n",
        "  if fx(a)*fx(x_i)<0:\n",
        "    b = x_i\n",
        "  elif fx(a)*fx(x_i)==0:\n",
        "    raizAproxBisec = x_i\n",
        "  else: \n",
        "    a = x_i\n",
        "  numIter = numIter+1\n",
        "  raizAproxBisec = x_i\n",
        "  ErrorBisec = ErrorRelativo(raizAproxBisec,x_old)\n",
        "  x_old = x_i\n",
        "  print(\"La raíz estimada por el método de bisección es =\",+raizAproxBisec, \"iteración i=\",+numIter)\n",
        "  print(\"El error relativo es =\",+ErrorBisec, \"iteración i=\",+numIter)\n",
        "    "
      ],
      "execution_count": null,
      "outputs": [
        {
          "output_type": "stream",
          "text": [
            "Defina un numero N de iteraciones 5\n",
            "La raíz estimada por el método de bisección es = -2.0 iteración i= 1\n",
            "El error relativo es = 100.0 iteración i= 1\n",
            "La raíz estimada por el método de bisección es = -2.0 iteración i= 2\n",
            "El error relativo es = 0.0 iteración i= 2\n",
            "La raíz estimada por el método de bisección es = -2.0 iteración i= 3\n",
            "El error relativo es = 0.0 iteración i= 3\n",
            "La raíz estimada por el método de bisección es = -2.0 iteración i= 4\n",
            "El error relativo es = 0.0 iteración i= 4\n",
            "La raíz estimada por el método de bisección es = -2.0 iteración i= 5\n",
            "El error relativo es = 0.0 iteración i= 5\n"
          ],
          "name": "stdout"
        }
      ]
    },
    {
      "cell_type": "markdown",
      "metadata": {
        "id": "icAuWcRzq7qU",
        "colab_type": "text"
      },
      "source": [
        "# unidad 2 intepolacion y regresion"
      ]
    },
    {
      "cell_type": "markdown",
      "metadata": {
        "id": "KJQC-zT6q_Vj",
        "colab_type": "text"
      },
      "source": [
        " # regresion lineal"
      ]
    },
    {
      "cell_type": "code",
      "metadata": {
        "id": "lY5WgIquq02U",
        "colab_type": "code",
        "colab": {}
      },
      "source": [
        "import numpy as np\n",
        "import sympy as sp\n",
        "import matplotlib.pyplot as plt "
      ],
      "execution_count": null,
      "outputs": []
    },
    {
      "cell_type": "code",
      "metadata": {
        "id": "f4Rf198bpjHP",
        "colab_type": "code",
        "colab": {}
      },
      "source": [
        "x=[1,2,3,4,5,6] # ingresamos los valores iniciales para x,y\n",
        "yi= [5.4,8.12,10.64,13.18,16.20,20.04]\n"
      ],
      "execution_count": null,
      "outputs": []
    },
    {
      "cell_type": "markdown",
      "metadata": {
        "id": "mDHhn5pPrZbN",
        "colab_type": "text"
      },
      "source": [
        "para realizar la regresion necesitaremos de las $\\sum$  de los elmentos"
      ]
    },
    {
      "cell_type": "code",
      "metadata": {
        "id": "TJg_y3KOrjr4",
        "colab_type": "code",
        "colab": {}
      },
      "source": [
        "n=len(x)\n",
        "xi=np.array(x)\n",
        "yi=np.array(yi)\n",
        "smxi=sum(xi)\n",
        "smyi=sum(yi)\n",
        "smx2=sum(xi**2)\n",
        "smxy=sum(xi*yi)\n",
        "px=smxi/n\n",
        "py=smyi/n"
      ],
      "execution_count": null,
      "outputs": []
    },
    {
      "cell_type": "code",
      "metadata": {
        "id": "UKMtZp_Pro1h",
        "colab_type": "code",
        "colab": {
          "base_uri": "https://localhost:8080/",
          "height": 35
        },
        "outputId": "d26bfa9e-d562-46d2-bb04-58789669b56b"
      },
      "source": [
        "n # pequeña comprobacion del programa\n"
      ],
      "execution_count": null,
      "outputs": [
        {
          "output_type": "execute_result",
          "data": {
            "text/plain": [
              "6"
            ]
          },
          "metadata": {
            "tags": []
          },
          "execution_count": 20
        }
      ]
    },
    {
      "cell_type": "code",
      "metadata": {
        "id": "LJ52m3PSrvg6",
        "colab_type": "code",
        "colab": {
          "base_uri": "https://localhost:8080/",
          "height": 35
        },
        "outputId": "3ab79d17-2436-47ad-9ace-cfc271b55fa1"
      },
      "source": [
        "px"
      ],
      "execution_count": null,
      "outputs": [
        {
          "output_type": "execute_result",
          "data": {
            "text/plain": [
              "3.5"
            ]
          },
          "metadata": {
            "tags": []
          },
          "execution_count": 21
        }
      ]
    },
    {
      "cell_type": "code",
      "metadata": {
        "id": "b-j9iOhRsELP",
        "colab_type": "code",
        "colab": {
          "base_uri": "https://localhost:8080/",
          "height": 35
        },
        "outputId": "fe7f5814-2190-4a01-aed1-67673df0daf0"
      },
      "source": [
        "smxy"
      ],
      "execution_count": null,
      "outputs": [
        {
          "output_type": "execute_result",
          "data": {
            "text/plain": [
              "307.52"
            ]
          },
          "metadata": {
            "tags": []
          },
          "execution_count": 22
        }
      ]
    },
    {
      "cell_type": "markdown",
      "metadata": {
        "id": "pA0YpWb5sOiN",
        "colab_type": "text"
      },
      "source": [
        "la regresion numerica es del tipo $$y=a_0 + a_1 x$$"
      ]
    },
    {
      "cell_type": "markdown",
      "metadata": {
        "id": "yAAh3ntIsQI2",
        "colab_type": "text"
      },
      "source": [
        "su formula sera$ \\frac{N *\\sum xiyi-\\sum xi*\\sum yi}{( N*\\sum xi^2-(\\sum xi)^2}$)"
      ]
    },
    {
      "cell_type": "code",
      "metadata": {
        "id": "aXNSAXIRsV_n",
        "colab_type": "code",
        "colab": {
          "base_uri": "https://localhost:8080/",
          "height": 35
        },
        "outputId": "c5010997-78aa-4468-ff79-21a9f2eb2b9b"
      },
      "source": [
        "a1= ((n*smxy)-(smxi*smyi))/((n*smx2)-(smxi)**2)\n",
        "a0=(py-a1*px)\n",
        "y=(int(a0)+int(a1))\n",
        "\n",
        "print('el resultado es',a0,'+',a1,'x')"
      ],
      "execution_count": null,
      "outputs": [
        {
          "output_type": "stream",
          "text": [
            "el resultado es 2.2653333333333485 + 2.8565714285714248 x\n"
          ],
          "name": "stdout"
        }
      ]
    },
    {
      "cell_type": "code",
      "metadata": {
        "id": "c_wA52umshNr",
        "colab_type": "code",
        "colab": {
          "base_uri": "https://localhost:8080/",
          "height": 35
        },
        "outputId": "e96b06a7-6e6b-4db9-b9ba-9d6a7f123b9c"
      },
      "source": [
        "a1"
      ],
      "execution_count": null,
      "outputs": [
        {
          "output_type": "execute_result",
          "data": {
            "text/plain": [
              "2.8565714285714248"
            ]
          },
          "metadata": {
            "tags": []
          },
          "execution_count": 24
        }
      ]
    },
    {
      "cell_type": "markdown",
      "metadata": {
        "id": "BebMoNomsm_3",
        "colab_type": "text"
      },
      "source": [
        "# trapecio simple"
      ]
    },
    {
      "cell_type": "code",
      "metadata": {
        "id": "8jSI8EMXstEe",
        "colab_type": "code",
        "colab": {}
      },
      "source": [
        "import numpy as np\n",
        "import matplotlib.pyplot as plt "
      ],
      "execution_count": null,
      "outputs": []
    },
    {
      "cell_type": "code",
      "metadata": {
        "id": "4hQvuMvosuld",
        "colab_type": "code",
        "colab": {}
      },
      "source": [
        "n=([])# abrimos espacio para los datos que usaremos\n",
        "a=int()\n",
        "b=int()\n",
        "suma=0"
      ],
      "execution_count": null,
      "outputs": []
    },
    {
      "cell_type": "markdown",
      "metadata": {
        "id": "8xagR8E7so0-",
        "colab_type": "text"
      },
      "source": [
        "realizaremos un trapecio simple con la formula $(b-a)\\frac{f(a)-f(b)}{2}$"
      ]
    },
    {
      "cell_type": "code",
      "metadata": {
        "id": "2iOLwTVds7xX",
        "colab_type": "code",
        "colab": {}
      },
      "source": [
        "def trapecio(n,h,t):\n",
        "    h=b-a/n\n",
        "    fa=()\n",
        "    fb=()\n",
        "    t=(int(b-a)*int((fa+fb)/2)) # definimos la formula\n",
        "    return t\n",
        "            "
      ],
      "execution_count": null,
      "outputs": []
    },
    {
      "cell_type": "code",
      "metadata": {
        "id": "h8MJMT3MtGAc",
        "colab_type": "code",
        "colab": {
          "base_uri": "https://localhost:8080/",
          "height": 286
        },
        "outputId": "9fada3be-e824-42e4-a059-b25ac4c4aac9"
      },
      "source": [
        "n=input('introdusca n =', )\n",
        "a=input('introdusca a=', )\n",
        "b=input('introdusca b=', )\n",
        "fa=input('introdusca fa=', )\n",
        "fb=input('introdusca fb=', )\n",
        "\n",
        "print(' el resultado es ',t )"
      ],
      "execution_count": null,
      "outputs": [
        {
          "output_type": "stream",
          "text": [
            "introdusca n =5\n",
            "introdusca a=0\n",
            "introdusca b=4\n",
            "introdusca fa=3\n",
            "introdusca fb=2\n"
          ],
          "name": "stdout"
        },
        {
          "output_type": "error",
          "ename": "NameError",
          "evalue": "ignored",
          "traceback": [
            "\u001b[0;31m---------------------------------------------------------------------------\u001b[0m",
            "\u001b[0;31mNameError\u001b[0m                                 Traceback (most recent call last)",
            "\u001b[0;32m<ipython-input-28-75f7e57f6390>\u001b[0m in \u001b[0;36m<module>\u001b[0;34m()\u001b[0m\n\u001b[1;32m      5\u001b[0m \u001b[0mfb\u001b[0m\u001b[0;34m=\u001b[0m\u001b[0minput\u001b[0m\u001b[0;34m(\u001b[0m\u001b[0;34m'introdusca fb='\u001b[0m\u001b[0;34m,\u001b[0m \u001b[0;34m)\u001b[0m\u001b[0;34m\u001b[0m\u001b[0;34m\u001b[0m\u001b[0m\n\u001b[1;32m      6\u001b[0m \u001b[0;34m\u001b[0m\u001b[0m\n\u001b[0;32m----> 7\u001b[0;31m \u001b[0mprint\u001b[0m\u001b[0;34m(\u001b[0m\u001b[0;34m' el resultado es '\u001b[0m\u001b[0;34m,\u001b[0m\u001b[0mt\u001b[0m \u001b[0;34m)\u001b[0m\u001b[0;34m\u001b[0m\u001b[0;34m\u001b[0m\u001b[0m\n\u001b[0m",
            "\u001b[0;31mNameError\u001b[0m: name 't' is not defined"
          ]
        }
      ]
    },
    {
      "cell_type": "code",
      "metadata": {
        "id": "hEpBqh4xtcUI",
        "colab_type": "code",
        "colab": {
          "base_uri": "https://localhost:8080/",
          "height": 35
        },
        "outputId": "041080df-f14f-493b-e0f2-1d1a3f4cd9c6"
      },
      "source": [
        "va=2056\n",
        "vn= 6152\n",
        "\n",
        "print('el error porcentual es=',ErrorRelativo(va,vn))\n"
      ],
      "execution_count": null,
      "outputs": [
        {
          "output_type": "stream",
          "text": [
            "el error porcentual es= 199.22178988326849\n"
          ],
          "name": "stdout"
        }
      ]
    },
    {
      "cell_type": "markdown",
      "metadata": {
        "id": "ngcfNbmltsbA",
        "colab_type": "text"
      },
      "source": [
        "\n",
        "# metodo de jacobi"
      ]
    },
    {
      "cell_type": "code",
      "metadata": {
        "id": "itI32zS4tyiA",
        "colab_type": "code",
        "colab": {}
      },
      "source": [
        "import numpy as np\n",
        "import matplotlib.pyplot as plt \n",
        "import sympy as sp"
      ],
      "execution_count": null,
      "outputs": []
    },
    {
      "cell_type": "code",
      "metadata": {
        "id": "emsV1uayt5Mp",
        "colab_type": "code",
        "colab": {
          "base_uri": "https://localhost:8080/",
          "height": 183
        },
        "outputId": "90a25507-32cc-40b1-bb71-2d2211357194"
      },
      "source": [
        "l=sp.tril(A,-1)\n",
        "u=sp.triv(A,+1)"
      ],
      "execution_count": null,
      "outputs": [
        {
          "output_type": "error",
          "ename": "AttributeError",
          "evalue": "ignored",
          "traceback": [
            "\u001b[0;31m---------------------------------------------------------------------------\u001b[0m",
            "\u001b[0;31mAttributeError\u001b[0m                            Traceback (most recent call last)",
            "\u001b[0;32m<ipython-input-39-1453f05d909b>\u001b[0m in \u001b[0;36m<module>\u001b[0;34m()\u001b[0m\n\u001b[0;32m----> 1\u001b[0;31m \u001b[0ml\u001b[0m\u001b[0;34m=\u001b[0m\u001b[0msp\u001b[0m\u001b[0;34m.\u001b[0m\u001b[0mtril\u001b[0m\u001b[0;34m(\u001b[0m\u001b[0mA\u001b[0m\u001b[0;34m,\u001b[0m\u001b[0;34m-\u001b[0m\u001b[0;36m1\u001b[0m\u001b[0;34m)\u001b[0m\u001b[0;34m\u001b[0m\u001b[0;34m\u001b[0m\u001b[0m\n\u001b[0m\u001b[1;32m      2\u001b[0m \u001b[0mu\u001b[0m\u001b[0;34m=\u001b[0m\u001b[0msp\u001b[0m\u001b[0;34m.\u001b[0m\u001b[0mtriv\u001b[0m\u001b[0;34m(\u001b[0m\u001b[0mA\u001b[0m\u001b[0;34m,\u001b[0m\u001b[0;34m+\u001b[0m\u001b[0;36m1\u001b[0m\u001b[0;34m)\u001b[0m\u001b[0;34m\u001b[0m\u001b[0;34m\u001b[0m\u001b[0m\n",
            "\u001b[0;31mAttributeError\u001b[0m: module 'sympy' has no attribute 'tril'"
          ]
        }
      ]
    },
    {
      "cell_type": "code",
      "metadata": {
        "id": "wxnZgOSft4qS",
        "colab_type": "code",
        "colab": {
          "base_uri": "https://localhost:8080/",
          "height": 131
        },
        "outputId": "456da46c-76ee-458f-bca5-33b80c03fc5c"
      },
      "source": [
        "def jacobi(A,X,x0,n=500):\n",
        "    D=np.diag(np.diag(A)\n",
        "    lu=(A-D)\n",
        "    x=x0\n",
        "    return D\n",
        "for i in range(n):\n",
        "    D_inv=np.linalg.inv(D)\n",
        "    xt=X\n",
        "    X=np.dot(D_inv,np.dot(-(lu),x)+b)\n",
        "              \n",
        "    print('paso',i,'xi',x)\n",
        "    return x"
      ],
      "execution_count": null,
      "outputs": [
        {
          "output_type": "error",
          "ename": "SyntaxError",
          "evalue": "ignored",
          "traceback": [
            "\u001b[0;36m  File \u001b[0;32m\"<ipython-input-40-018a717c935d>\"\u001b[0;36m, line \u001b[0;32m3\u001b[0m\n\u001b[0;31m    lu=(A-D)\u001b[0m\n\u001b[0m     ^\u001b[0m\n\u001b[0;31mSyntaxError\u001b[0m\u001b[0;31m:\u001b[0m invalid syntax\n"
          ]
        }
      ]
    },
    {
      "cell_type": "code",
      "metadata": {
        "id": "IbSoMDkst-y0",
        "colab_type": "code",
        "colab": {
          "base_uri": "https://localhost:8080/",
          "height": 235
        },
        "outputId": "8f82e764-00f3-454d-b57a-d89b7ebd0e3b"
      },
      "source": [
        "A= np.array([[1,1,2],\n",
        "             [0,1,3],\n",
        "             [1,0,-1]\n",
        "            ])\n",
        "b= np.array([(-2),7,(-1)])\n",
        "x0=np.random.rand(3)\n",
        "X= jacobi(A,b,x0,n=5)\n",
        "print('X:',x)\n",
        "print('calcunando:',np.dot(A,X))\n",
        "print('b verdadero:',b)"
      ],
      "execution_count": null,
      "outputs": [
        {
          "output_type": "error",
          "ename": "NameError",
          "evalue": "ignored",
          "traceback": [
            "\u001b[0;31m---------------------------------------------------------------------------\u001b[0m",
            "\u001b[0;31mNameError\u001b[0m                                 Traceback (most recent call last)",
            "\u001b[0;32m<ipython-input-41-13a83aaab919>\u001b[0m in \u001b[0;36m<module>\u001b[0;34m()\u001b[0m\n\u001b[1;32m      5\u001b[0m \u001b[0mb\u001b[0m\u001b[0;34m=\u001b[0m \u001b[0mnp\u001b[0m\u001b[0;34m.\u001b[0m\u001b[0marray\u001b[0m\u001b[0;34m(\u001b[0m\u001b[0;34m[\u001b[0m\u001b[0;34m(\u001b[0m\u001b[0;34m-\u001b[0m\u001b[0;36m2\u001b[0m\u001b[0;34m)\u001b[0m\u001b[0;34m,\u001b[0m\u001b[0;36m7\u001b[0m\u001b[0;34m,\u001b[0m\u001b[0;34m(\u001b[0m\u001b[0;34m-\u001b[0m\u001b[0;36m1\u001b[0m\u001b[0;34m)\u001b[0m\u001b[0;34m]\u001b[0m\u001b[0;34m)\u001b[0m\u001b[0;34m\u001b[0m\u001b[0;34m\u001b[0m\u001b[0m\n\u001b[1;32m      6\u001b[0m \u001b[0mx0\u001b[0m\u001b[0;34m=\u001b[0m\u001b[0mnp\u001b[0m\u001b[0;34m.\u001b[0m\u001b[0mrandom\u001b[0m\u001b[0;34m.\u001b[0m\u001b[0mrand\u001b[0m\u001b[0;34m(\u001b[0m\u001b[0;36m3\u001b[0m\u001b[0;34m)\u001b[0m\u001b[0;34m\u001b[0m\u001b[0;34m\u001b[0m\u001b[0m\n\u001b[0;32m----> 7\u001b[0;31m \u001b[0mX\u001b[0m\u001b[0;34m=\u001b[0m \u001b[0mjacobi\u001b[0m\u001b[0;34m(\u001b[0m\u001b[0mA\u001b[0m\u001b[0;34m,\u001b[0m\u001b[0mb\u001b[0m\u001b[0;34m,\u001b[0m\u001b[0mx0\u001b[0m\u001b[0;34m,\u001b[0m\u001b[0mn\u001b[0m\u001b[0;34m=\u001b[0m\u001b[0;36m5\u001b[0m\u001b[0;34m)\u001b[0m\u001b[0;34m\u001b[0m\u001b[0;34m\u001b[0m\u001b[0m\n\u001b[0m\u001b[1;32m      8\u001b[0m \u001b[0mprint\u001b[0m\u001b[0;34m(\u001b[0m\u001b[0;34m'X:'\u001b[0m\u001b[0;34m,\u001b[0m\u001b[0mx\u001b[0m\u001b[0;34m)\u001b[0m\u001b[0;34m\u001b[0m\u001b[0;34m\u001b[0m\u001b[0m\n\u001b[1;32m      9\u001b[0m \u001b[0mprint\u001b[0m\u001b[0;34m(\u001b[0m\u001b[0;34m'calcunando:'\u001b[0m\u001b[0;34m,\u001b[0m\u001b[0mnp\u001b[0m\u001b[0;34m.\u001b[0m\u001b[0mdot\u001b[0m\u001b[0;34m(\u001b[0m\u001b[0mA\u001b[0m\u001b[0;34m,\u001b[0m\u001b[0mX\u001b[0m\u001b[0;34m)\u001b[0m\u001b[0;34m)\u001b[0m\u001b[0;34m\u001b[0m\u001b[0;34m\u001b[0m\u001b[0m\n",
            "\u001b[0;31mNameError\u001b[0m: name 'jacobi' is not defined"
          ]
        }
      ]
    }
  ]
}