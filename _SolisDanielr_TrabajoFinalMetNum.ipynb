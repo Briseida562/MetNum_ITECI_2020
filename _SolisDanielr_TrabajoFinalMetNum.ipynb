{
  "nbformat": 4,
  "nbformat_minor": 0,
  "metadata": {
    "colab": {
      "name": "_SolisDanielr_TrabajoFinalMetNum.ipynb",
      "provenance": [],
      "collapsed_sections": [],
      "include_colab_link": true
    },
    "kernelspec": {
      "name": "python3",
      "display_name": "Python 3"
    }
  },
  "cells": [
    {
      "cell_type": "markdown",
      "metadata": {
        "id": "view-in-github",
        "colab_type": "text"
      },
      "source": [
        "<a href=\"https://colab.research.google.com/github/roilhi/MetNum_ITECI_2020/blob/gh-pages/_SolisDanielr_TrabajoFinalMetNum.ipynb\" target=\"_parent\"><img src=\"https://colab.research.google.com/assets/colab-badge.svg\" alt=\"Open In Colab\"/></a>"
      ]
    },
    {
      "cell_type": "markdown",
      "metadata": {
        "id": "J6tBy9UBnEhD",
        "colab_type": "text"
      },
      "source": [
        ""
      ]
    },
    {
      "cell_type": "markdown",
      "metadata": {
        "id": "93fRMEaNnkcS",
        "colab_type": "text"
      },
      "source": [
        ""
      ]
    },
    {
      "cell_type": "markdown",
      "metadata": {
        "id": "EsbsOkd9nlg3",
        "colab_type": "text"
      },
      "source": [
        "ITECI Universidad de Ensenada Plantel San Quintin\n",
        "\n",
        "Metodos Numericos\n",
        "\n",
        "proyecto final cuatrimestre\n",
        "\n"
      ]
    },
    {
      "cell_type": "markdown",
      "metadata": {
        "id": "DogvmNsRpCsQ",
        "colab_type": "text"
      },
      "source": [
        "\n",
        "\n",
        "Unidad 1 Raices Ecuaciones\n",
        "\n",
        "\n",
        "\n",
        "\n",
        "\n",
        "\n",
        "\n",
        "\n"
      ]
    },
    {
      "cell_type": "code",
      "metadata": {
        "id": "UkuuVGNcytoh",
        "colab_type": "code",
        "colab": {}
      },
      "source": [
        ""
      ],
      "execution_count": 10,
      "outputs": []
    },
    {
      "cell_type": "code",
      "metadata": {
        "id": "itt6OsWjyt6N",
        "colab_type": "code",
        "colab": {}
      },
      "source": [
        ""
      ],
      "execution_count": 10,
      "outputs": []
    },
    {
      "cell_type": "markdown",
      "metadata": {
        "id": "w7l4JTqKq6U6",
        "colab_type": "text"
      },
      "source": [
        "**METODO DE BISECCION**"
      ]
    },
    {
      "cell_type": "markdown",
      "metadata": {
        "id": "cdMx3sSAr1QJ",
        "colab_type": "text"
      },
      "source": [
        "es un algoritmo de busqueda de raices en lenguaje matematico"
      ]
    },
    {
      "cell_type": "markdown",
      "metadata": {
        "id": "E-yQLmw6sN4-",
        "colab_type": "text"
      },
      "source": [
        ""
      ]
    },
    {
      "cell_type": "markdown",
      "metadata": {
        "id": "S1XLIgqPsQN3",
        "colab_type": "text"
      },
      "source": [
        "**EJEMPLO:**"
      ]
    },
    {
      "cell_type": "markdown",
      "metadata": {
        "id": "EOdgMRrHub3k",
        "colab_type": "text"
      },
      "source": [
        "calcular una aproximacion a la raiz de la funcion f(x) mediante el metodo biseccion"
      ]
    },
    {
      "cell_type": "markdown",
      "metadata": {
        "id": "64TaPsXLw9ex",
        "colab_type": "text"
      },
      "source": [
        "** *texto en cursiva*$f(x)=x^3+4x^2-6$**"
      ]
    },
    {
      "cell_type": "markdown",
      "metadata": {
        "id": "qHfbenC3uyTA",
        "colab_type": "text"
      },
      "source": [
        "**intervalo (-2,-1)**"
      ]
    },
    {
      "cell_type": "code",
      "metadata": {
        "id": "VtKz6-PIsBLB",
        "colab_type": "code",
        "colab": {}
      },
      "source": [
        "#importando carpetas\n",
        "import numpy as np \n",
        "#libreria numerica\n",
        "import matplotlib.pyplot as plt\n",
        "# es una libreria para graficas\n"
      ],
      "execution_count": 11,
      "outputs": []
    },
    {
      "cell_type": "code",
      "metadata": {
        "id": "04Fh43W2GNC2",
        "colab_type": "code",
        "colab": {}
      },
      "source": [
        "a=-2\n",
        "#se define el valor del intervalo inferior\n",
        "b=-1\n",
        "#se define el valor del ingervalo superior\n",
        "Vanalitico=-1.5720\n",
        "\n",
        "def fx(x_in):\n",
        "  fx = (x_in)**3+4*(x_in)**2-6\n",
        "  return fx"
      ],
      "execution_count": 12,
      "outputs": []
    },
    {
      "cell_type": "code",
      "metadata": {
        "id": "gKYfgigdfPBu",
        "colab_type": "code",
        "colab": {
          "base_uri": "https://localhost:8080/",
          "height": 35
        },
        "outputId": "65777a83-e997-4bbc-e6d6-d4fe3067a9da"
      },
      "source": [
        "fx(a)"
      ],
      "execution_count": 13,
      "outputs": [
        {
          "output_type": "execute_result",
          "data": {
            "text/plain": [
              "2"
            ]
          },
          "metadata": {
            "tags": []
          },
          "execution_count": 13
        }
      ]
    },
    {
      "cell_type": "code",
      "metadata": {
        "id": "CY1oJTYO9waE",
        "colab_type": "code",
        "colab": {}
      },
      "source": [
        "# Función que calcule el error relativo porcentual\n",
        "def errRel(vreal,vnum):\n",
        "  epsilon = abs((vreal-vnum)/vreal)*100\n",
        "  return epsilon\n"
      ],
      "execution_count": 14,
      "outputs": []
    },
    {
      "cell_type": "code",
      "metadata": {
        "id": "wYldvR0oLbOV",
        "colab_type": "code",
        "colab": {
          "base_uri": "https://localhost:8080/",
          "height": 380
        },
        "outputId": "72244b9e-27ad-40ec-cc47-d88da4c2499d"
      },
      "source": [
        "numiteraciones=0\n",
        "N=int(input('defina las iteraciones deseadas'))\n",
        "x_0=-2\n",
        "while numiteraciones<N:\n",
        "  x_i=(a+b)/2\n",
        "  if fx(a)*fx(x_i)<0:\n",
        "    b=x_i\n",
        "  elif fx(a)*fx(x_i)==0:\n",
        "    raizapbiseccion=x_i\n",
        "  else:\n",
        "    a=x_i\n",
        "  numiteraciones=numiteraciones+1\n",
        "  raizapbiseccion=x_i\n",
        "  errBis=errRel(raizapbiseccion,x_0)\n",
        "  x_0=x_i\n",
        "  print(\"raiz aprox=\",+raizapbiseccion)\n",
        "  print(\"iteraciones i=\",+numiteraciones)\n",
        "  print(\"error relaivo =\",+errBis)\n",
        "  print(\"iteracion i=\",numiteraciones)\n",
        "\n",
        "\n"
      ],
      "execution_count": 15,
      "outputs": [
        {
          "output_type": "stream",
          "text": [
            "defina las iteraciones deseadas5\n",
            "raiz aprox= -1.5\n",
            "iteraciones i= 1\n",
            "error relaivo = 33.33333333333333\n",
            "iteracion i= 1\n",
            "raiz aprox= -1.75\n",
            "iteraciones i= 2\n",
            "error relaivo = 14.285714285714285\n",
            "iteracion i= 2\n",
            "raiz aprox= -1.625\n",
            "iteraciones i= 3\n",
            "error relaivo = 7.6923076923076925\n",
            "iteracion i= 3\n",
            "raiz aprox= -1.5625\n",
            "iteraciones i= 4\n",
            "error relaivo = 4.0\n",
            "iteracion i= 4\n",
            "raiz aprox= -1.59375\n",
            "iteraciones i= 5\n",
            "error relaivo = 1.9607843137254901\n",
            "iteracion i= 5\n"
          ],
          "name": "stdout"
        }
      ]
    },
    {
      "cell_type": "code",
      "metadata": {
        "colab_type": "code",
        "id": "O9KA4d1hdWq7",
        "colab": {
          "base_uri": "https://localhost:8080/",
          "height": 380
        },
        "outputId": "5e7721af-0317-472d-80ef-1c699422c65f"
      },
      "source": [
        "numiteraciones=0\n",
        "N=int(input('defina las iteraciones deseadas'))\n",
        "x_0=-2\n",
        "while numiteraciones<N:\n",
        "  x_i=(a+b)/2\n",
        "  if fx(a)*fx(x_i)<0:\n",
        "    b=x_i\n",
        "  elif fx(a)*fx(x_i)==0:\n",
        "    raizapbiseccion=x_i\n",
        "  else:\n",
        "    a=x_i\n",
        "  numiteraciones=numiteraciones+1\n",
        "  raizapbiseccion=x_i\n",
        "  errBis=errRel(raizapbiseccion,x_0)\n",
        "  x_0=x_i\n",
        "  print(\"raiz aprox=\",+raizapbiseccion)\n",
        "  print(\"iteraciones i=\",+numiteraciones)\n",
        "  print(\"error relaivo =\",+errBis)\n",
        "  print(\"iteracion i=\",numiteraciones)\n",
        "\n"
      ],
      "execution_count": 16,
      "outputs": [
        {
          "output_type": "stream",
          "text": [
            "defina las iteraciones deseadas5\n",
            "raiz aprox= -1.578125\n",
            "iteraciones i= 1\n",
            "error relaivo = 26.732673267326735\n",
            "iteracion i= 1\n",
            "raiz aprox= -1.5703125\n",
            "iteraciones i= 2\n",
            "error relaivo = 0.4975124378109453\n",
            "iteracion i= 2\n",
            "raiz aprox= -1.57421875\n",
            "iteraciones i= 3\n",
            "error relaivo = 0.24813895781637718\n",
            "iteracion i= 3\n",
            "raiz aprox= -1.572265625\n",
            "iteraciones i= 4\n",
            "error relaivo = 0.12422360248447205\n",
            "iteracion i= 4\n",
            "raiz aprox= -1.5712890625\n",
            "iteraciones i= 5\n",
            "error relaivo = 0.06215040397762585\n",
            "iteracion i= 5\n"
          ],
          "name": "stdout"
        }
      ]
    },
    {
      "cell_type": "code",
      "metadata": {
        "id": "VBNuAcC5CZT0",
        "colab_type": "code",
        "colab": {
          "base_uri": "https://localhost:8080/",
          "height": 299
        },
        "outputId": "de3c30ae-f7cd-4fef-99a9-f1d02d712143"
      },
      "source": [
        "# Datos para la graficación \n",
        "ejeX = np.linspace(0,2*np.pi,101)\n",
        "# Graficando la función\n",
        "plt.plot(ejeX,fx(ejeX), label='$f(x)$')\n",
        "# Graficar la raíz encontrada en el método\n",
        "plt.plot(raizapbiseccion,fx(raizapbiseccion),'o',label='raíz encontrada $x_i$')\n",
        "plt.xlabel('$x$')\n",
        "plt.ylabel('$f(x)$')\n",
        "plt.title('Raíz de la función $f(x)=x3+4x^2-6$ método de bisección')\n",
        "plt.legend() #muestra la leyenda\n",
        "plt.grid() #muestra la cuadrícula\n",
        "plt.show() #Muestra la gráfica"
      ],
      "execution_count": 19,
      "outputs": [
        {
          "output_type": "display_data",
          "data": {
            "image/png": "[encoded data removed]",
            "text/plain": [
              "<Figure size 432x288 with 1 Axes>"
            ]
          },
          "metadata": {
            "tags": [],
            "needs_background": "light"
          }
        }
      ]
    }
  ]
}