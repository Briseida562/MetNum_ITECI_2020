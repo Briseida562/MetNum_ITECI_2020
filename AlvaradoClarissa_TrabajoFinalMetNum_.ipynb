{
  "nbformat": 4,
  "nbformat_minor": 0,
  "metadata": {
    "kernelspec": {
      "display_name": "Python 3",
      "language": "python",
      "name": "python3"
    },
    "language_info": {
      "codemirror_mode": {
        "name": "ipython",
        "version": 3
      },
      "file_extension": ".py",
      "mimetype": "text/x-python",
      "name": "python",
      "nbconvert_exporter": "python",
      "pygments_lexer": "ipython3",
      "version": "3.7.6"
    },
    "colab": {
      "name": "AlvaradoClarissa_TrabajoFinalMetNum..ipynb",
      "provenance": [],
      "include_colab_link": true
    }
  },
  "cells": [
    {
      "cell_type": "markdown",
      "metadata": {
        "id": "view-in-github",
        "colab_type": "text"
      },
      "source": [
        "<a href=\"https://colab.research.google.com/github/roilhi/MetNum_ITECI_2020/blob/gh-pages/AlvaradoClarissa_TrabajoFinalMetNum_.ipynb\" target=\"_parent\"><img src=\"https://colab.research.google.com/assets/colab-badge.svg\" alt=\"Open In Colab\"/></a>"
      ]
    },
    {
      "cell_type": "markdown",
      "metadata": {
        "id": "cYzRL3ygJ0Fc",
        "colab_type": "text"
      },
      "source": [
        "# Universidad de Ensenada"
      ]
    },
    {
      "cell_type": "markdown",
      "metadata": {
        "id": "hh4TMEJIJ0Fl",
        "colab_type": "text"
      },
      "source": [
        "Materia: Métodos Numericos\n",
        "\n",
        "Trabajo final de la materia\n",
        "\n",
        "Clarissa Alvarado Damián"
      ]
    },
    {
      "cell_type": "markdown",
      "metadata": {
        "id": "J5mEqgPNJ0Fn",
        "colab_type": "text"
      },
      "source": [
        " # Unidad 1: Método de Newton-Raphson. "
      ]
    },
    {
      "cell_type": "markdown",
      "metadata": {
        "id": "a6CJSsYdJ0Fo",
        "colab_type": "text"
      },
      "source": [
        "Es un algoritmo para encontrar aproximaciones de los ceros o raíces de una función real. También puede ser usado para encontrar el máximo o mínimo de una función, encontrando los ceros de su primera derivada."
      ]
    },
    {
      "cell_type": "markdown",
      "metadata": {
        "id": "X1L9M57uJ0Fp",
        "colab_type": "text"
      },
      "source": [
        "$$x_{n+1}=x_n-\\frac{f(x_n)}{f'(x_n)}$$"
      ]
    },
    {
      "cell_type": "markdown",
      "metadata": {
        "id": "k5WCQLr7J0Fq",
        "colab_type": "text"
      },
      "source": [
        "para $n\\geq1$"
      ]
    },
    {
      "cell_type": "markdown",
      "metadata": {
        "id": "nEPH6RU8J0Fq",
        "colab_type": "text"
      },
      "source": [
        "hallar la función $f(x)=2*\\sin(x+5)-\\cos(x-3)$"
      ]
    },
    {
      "cell_type": "code",
      "metadata": {
        "id": "IJBbEZRZJ0Fr",
        "colab_type": "code",
        "colab": {}
      },
      "source": [
        "import numpy as np\n",
        "import math\n",
        "import matplotlib.pyplot as plt"
      ],
      "execution_count": null,
      "outputs": []
    },
    {
      "cell_type": "code",
      "metadata": {
        "id": "nRp8cgC-J0F7",
        "colab_type": "code",
        "colab": {}
      },
      "source": [
        "% matplotlib inline\n",
        "% config InlineBackend.figure_format =\"svg\""
      ],
      "execution_count": null,
      "outputs": []
    },
    {
      "cell_type": "code",
      "metadata": {
        "id": "5b70beAFJ0GL",
        "colab_type": "code",
        "colab": {}
      },
      "source": [
        "# implementación del método "
      ],
      "execution_count": null,
      "outputs": []
    },
    {
      "cell_type": "code",
      "metadata": {
        "scrolled": true,
        "id": "U5TREuaCJ0GQ",
        "colab_type": "code",
        "colab": {},
        "outputId": "0cc3f551-2ef3-49b5-afa8-cee4657aad11"
      },
      "source": [
        "def f(x):\n",
        "    return 2*np.sin(x+5)-np.cos(x-3)\n",
        "\n",
        "def Df(x):\n",
        "    return 2*np.cos(x+5)+np.sin(x-3)\n",
        "\n",
        "x0 = 0.5\n",
        "i = 1 \n",
        "for iteración in range(1,4):\n",
        "    x1 = x0 - f(x0) / Df (x0)\n",
        "    x0 = x1\n",
        "    print(\"iteración\",i,\",raiz aproximada:\",x0)\n",
        "    i = i+1\n",
        "     \n",
        "      "
      ],
      "execution_count": null,
      "outputs": [
        {
          "output_type": "stream",
          "text": [
            "iteración 1 ,raiz aproximada: 1.2448544566042954\n",
            "iteración 2 ,raiz aproximada: 1.139816058010826\n",
            "iteración 3 ,raiz aproximada: 1.14019981927664\n"
          ],
          "name": "stdout"
        }
      ]
    },
    {
      "cell_type": "markdown",
      "metadata": {
        "id": "qvZWB1LGJ0HC",
        "colab_type": "text"
      },
      "source": [
        "Por medio de las iteraciones resolveremos el error porcentual."
      ]
    },
    {
      "cell_type": "code",
      "metadata": {
        "id": "JvfnbAYdJ0HR",
        "colab_type": "code",
        "colab": {},
        "outputId": "a35547f3-f32c-4a16-8e28-36f46d2a54d1"
      },
      "source": [
        "print(iteración)\n",
        "x1 = x0 - f(x0) / Df (x0)\n",
        "errorporcent= abs((x1-x0)/x1)*100\n",
        "print('Error % =',errorporcent)\n",
        "    "
      ],
      "execution_count": null,
      "outputs": [
        {
          "output_type": "stream",
          "text": [
            "3\n",
            "Error % = 1.652306572170185e-09\n"
          ],
          "name": "stdout"
        }
      ]
    },
    {
      "cell_type": "code",
      "metadata": {
        "id": "3--zyMMtJ0HU",
        "colab_type": "code",
        "colab": {}
      },
      "source": [
        ""
      ],
      "execution_count": null,
      "outputs": []
    },
    {
      "cell_type": "markdown",
      "metadata": {
        "id": "jH2KJnyYJ0HZ",
        "colab_type": "text"
      },
      "source": [
        "# Unidad 2. Regresión lineal"
      ]
    },
    {
      "cell_type": "markdown",
      "metadata": {
        "id": "2wkmVMEMJ0Ha",
        "colab_type": "text"
      },
      "source": [
        "La regresión lineal o ajuste lineal es usado para aproximar la relación de dependencia entre una variable dependiente Y, las variables independientes Xi y un término aleatorio ε. Este modelo puede ser expresado como:"
      ]
    },
    {
      "cell_type": "markdown",
      "metadata": {
        "id": "JLrz0AmQJ0Hb",
        "colab_type": "text"
      },
      "source": [
        "$$a_1=\\frac{n\\sum x_iy_i-\\sum x_i \\sum y_i}{n\\sum x_i^2- \\left (\\sum x_i \\right)^2}$$"
      ]
    },
    {
      "cell_type": "markdown",
      "metadata": {
        "id": "4q_tiAGWJ0Hu",
        "colab_type": "text"
      },
      "source": [
        "$y= a_0 + a_1 x$"
      ]
    },
    {
      "cell_type": "code",
      "metadata": {
        "id": "IKYmYcyDJ0Hv",
        "colab_type": "code",
        "colab": {}
      },
      "source": [
        "#implementacion del método "
      ],
      "execution_count": null,
      "outputs": []
    },
    {
      "cell_type": "markdown",
      "metadata": {
        "id": "mjtUHuAgJ0H0",
        "colab_type": "text"
      },
      "source": [
        "Le agregamos valores tanto para x como para y."
      ]
    },
    {
      "cell_type": "code",
      "metadata": {
        "id": "Rzt5_ar1J0H0",
        "colab_type": "code",
        "colab": {}
      },
      "source": [
        "#Datos:\n",
        "x = [1,2,3,4,5,6]\n",
        "y = [5.04,8.12,10.64,13.18,16.20,20.04]\n"
      ],
      "execution_count": null,
      "outputs": []
    },
    {
      "cell_type": "markdown",
      "metadata": {
        "id": "YVWK4ZLgJ0H8",
        "colab_type": "text"
      },
      "source": [
        "Tomamos como referencia los datos que agrupamos y ahora en base a la formúla de la regresión lineal, necesitamos obtener la sumatoria de x, de y, y la sumatoria de la multiplicación de ambas y también de la suma de x^2 con las cuales podemos sustituir en la formula y obtendremos el valor para a1.\n",
        "Para proseguir con la obtención de los datos ahora requerimos de los promedios de la sumas de x, de y entre n que es la cantidad de datos para el valor de x."
      ]
    },
    {
      "cell_type": "code",
      "metadata": {
        "id": "D6NjTHZpJ0H-",
        "colab_type": "code",
        "colab": {}
      },
      "source": [
        "n= len(x)\n",
        "x = np. array (x)\n",
        "y = np. array (y)\n",
        "sumax= sum (x)\n",
        "sumay= sum (y)\n",
        "sumaxy= sum (x*y) \n",
        "sumax2= sum (x*x) \n",
        "promx= sumax/n\n",
        "promy= sumay/n\n",
        "\n"
      ],
      "execution_count": null,
      "outputs": []
    },
    {
      "cell_type": "markdown",
      "metadata": {
        "id": "K0_TZeyNJ0IE",
        "colab_type": "text"
      },
      "source": [
        "Ahora sustituiremos los datos de la formúla para obtener el primer valor que sera $a_1$."
      ]
    },
    {
      "cell_type": "code",
      "metadata": {
        "id": "UAlJJ2N7J0IE",
        "colab_type": "code",
        "colab": {}
      },
      "source": [
        "a1=(n*sumaxy-sumax*sumay)/(n*sumax2-sumax**2)"
      ],
      "execution_count": null,
      "outputs": []
    },
    {
      "cell_type": "code",
      "metadata": {
        "id": "WDioFcAkJ0IH",
        "colab_type": "code",
        "colab": {},
        "outputId": "68ccbcb6-b007-4612-bc61-483508c003f9"
      },
      "source": [
        "a1"
      ],
      "execution_count": null,
      "outputs": [
        {
          "output_type": "execute_result",
          "data": {
            "text/plain": [
              "2.9080000000000013"
            ]
          },
          "metadata": {
            "tags": []
          },
          "execution_count": 81
        }
      ]
    },
    {
      "cell_type": "markdown",
      "metadata": {
        "id": "NMC3xA-bJ0IK",
        "colab_type": "text"
      },
      "source": [
        "Para el valor $a_0$ y vamos a imprimir el resultado."
      ]
    },
    {
      "cell_type": "code",
      "metadata": {
        "id": "Xdc2GA30J0IL",
        "colab_type": "code",
        "colab": {}
      },
      "source": [
        "a0= promy-a1*promx"
      ],
      "execution_count": null,
      "outputs": []
    },
    {
      "cell_type": "code",
      "metadata": {
        "id": "JitrZcZMJ0IQ",
        "colab_type": "code",
        "colab": {},
        "outputId": "dd2d8eb7-aba4-4d8c-fc57-0bdccb1171b5"
      },
      "source": [
        "a0"
      ],
      "execution_count": null,
      "outputs": [
        {
          "output_type": "execute_result",
          "data": {
            "text/plain": [
              "2.0253333333333288"
            ]
          },
          "metadata": {
            "tags": []
          },
          "execution_count": 83
        }
      ]
    },
    {
      "cell_type": "markdown",
      "metadata": {
        "id": "1VZSLJzkJ0Ib",
        "colab_type": "text"
      },
      "source": [
        "Con los datos obtenidos anteriormente ya podemos mostrar la grafica en donde nos muestra como se comporta dicha función. "
      ]
    },
    {
      "cell_type": "code",
      "metadata": {
        "id": "esXP0fwsJ0Ic",
        "colab_type": "code",
        "colab": {},
        "outputId": "ce9dd9e1-27d3-40a9-f1ec-7627bab4c89b"
      },
      "source": [
        "plt.plot(x, y, \"o\", label='Datos')\n",
        "plt.plot(x, a0 + a1*x, label='Ajustes')\n",
        "plt.xlabel('x')\n",
        "plt.ylabel('y')\n",
        "plt.title('regresión lineal')\n",
        "plt.grid()\n",
        "plt.legend()\n",
        "plt.show()"
      ],
      "execution_count": null,
      "outputs": [
        {
          "output_type": "display_data",
          "data": {
            "image/png": "[encoded data removed]",
            "text/plain": [
              "<Figure size 432x288 with 1 Axes>"
            ]
          },
          "metadata": {
            "tags": [],
            "needs_background": "light"
          }
        }
      ]
    },
    {
      "cell_type": "code",
      "metadata": {
        "id": "kzbCQhL2J0In",
        "colab_type": "code",
        "colab": {}
      },
      "source": [
        ""
      ],
      "execution_count": null,
      "outputs": []
    },
    {
      "cell_type": "markdown",
      "metadata": {
        "id": "tQSkCGscJ0Iy",
        "colab_type": "text"
      },
      "source": [
        "# Unidad 3. Método de Simpson 1/3."
      ]
    },
    {
      "cell_type": "markdown",
      "metadata": {
        "id": "OVRAqtZBJ0Iy",
        "colab_type": "text"
      },
      "source": [
        "Nombrado así en honor de Thomas Simpson y a veces llamada regla de Kepler es un método de integración numérica que se utiliza para obtener la aproximación de la integral."
      ]
    },
    {
      "cell_type": "markdown",
      "metadata": {
        "id": "rrhaZNTTJ0Iz",
        "colab_type": "text"
      },
      "source": [
        "Formúla del método: $I=(b-a)\\frac{(f(x_0)+4f(x_1)+f(x_2))}{6}$"
      ]
    },
    {
      "cell_type": "markdown",
      "metadata": {
        "id": "Tj9naicZJ0Iz",
        "colab_type": "text"
      },
      "source": [
        "Donde h = (a + b)/2"
      ]
    },
    {
      "cell_type": "markdown",
      "metadata": {
        "id": "SvWftxWNJ0Iz",
        "colab_type": "text"
      },
      "source": [
        "Hallar el área bajo la curva de $$f(x)=\\int_{-3}^{5}(4x-3)^3 dx$$"
      ]
    },
    {
      "cell_type": "code",
      "metadata": {
        "id": "HZ7VjqOyJ0I0",
        "colab_type": "code",
        "colab": {}
      },
      "source": [
        "def f(x):\n",
        "    return (4*x-3)**3\n"
      ],
      "execution_count": null,
      "outputs": []
    },
    {
      "cell_type": "markdown",
      "metadata": {
        "id": "uokaB_HIJ0I2",
        "colab_type": "text"
      },
      "source": [
        "Anteriormente definimos la función y procedimos a dar valores para cada una de las constantes que vamos a necesitar para la solución.\n",
        "A continuación se muestra la forma que toma la grafica para la integral de la $$f(x)=\\int_{-3}^{5}(4x-3)^3 dx$$."
      ]
    },
    {
      "cell_type": "code",
      "metadata": {
        "id": "fozrLHUkJ0I2",
        "colab_type": "code",
        "colab": {},
        "outputId": "f87acdd8-3dcb-47f1-e1a2-5a16fc641ad9"
      },
      "source": [
        "x = np. linspace (-3, 5, 3)\n",
        "plt.plot(x,f(x))\n",
        "plt.grid()\n",
        "plt.show()"
      ],
      "execution_count": null,
      "outputs": [
        {
          "output_type": "display_data",
          "data": {
            "image/png": "[encoded data removed]",
            "text/plain": [
              "<Figure size 432x288 with 1 Axes>"
            ]
          },
          "metadata": {
            "tags": [],
            "needs_background": "light"
          }
        }
      ]
    },
    {
      "cell_type": "markdown",
      "metadata": {
        "id": "o41pwCC4J0I4",
        "colab_type": "text"
      },
      "source": [
        "Empezaremos a definir más la función para poder llegar a la solucón utilizan el método de simpson con el cual nos mostrara un resultado final.   "
      ]
    },
    {
      "cell_type": "code",
      "metadata": {
        "id": "kmaPU0-MJ0I5",
        "colab_type": "code",
        "colab": {}
      },
      "source": [
        "def simpson13(f, x0, x1, x2) :\n",
        "    integral= (b - a)/6 * (f(x0) + 4 * f(x1) + f(x2))\n",
        "    return integral\n",
        "    \n"
      ],
      "execution_count": null,
      "outputs": []
    },
    {
      "cell_type": "markdown",
      "metadata": {
        "id": "HuYQBZ7RMwmY",
        "colab_type": "text"
      },
      "source": [
        "Con el resultado que obtuvimos sacaremos el error porcentual para el método de Simpson."
      ]
    },
    {
      "cell_type": "code",
      "metadata": {
        "id": "NUBaz7ohJ0Jj",
        "colab_type": "code",
        "colab": {},
        "outputId": "c067f0f9-fdfc-4cf3-e5c6-d239f8e522d2"
      },
      "source": [
        "a = -3\n",
        "b = 5\n",
        "h = (b - a)/2\n",
        "x0 = a\n",
        "x1 = h\n",
        "x2 = b\n",
        "n = 2\n",
        "h = (b - a)/n  \n",
        "for i in range(n):\n",
        "    area = simpson13(f, x0, x1, x2)\n",
        "    suma = area \n",
        "    \n",
        "print(suma)\n",
        "vt = 2056 \n",
        "errorporcent= abs((vt-suma)/vt)*100\n",
        "print('Error % =',errorporcent)"
      ],
      "execution_count": null,
      "outputs": [
        {
          "output_type": "stream",
          "text": [
            "13768.0\n",
            "Error % = 569.6498054474708\n"
          ],
          "name": "stdout"
        }
      ]
    },
    {
      "cell_type": "code",
      "metadata": {
        "id": "kea5j4I-J0Jl",
        "colab_type": "code",
        "colab": {}
      },
      "source": [
        ""
      ],
      "execution_count": null,
      "outputs": []
    },
    {
      "cell_type": "markdown",
      "metadata": {
        "id": "hepaq97tJ0Jo",
        "colab_type": "text"
      },
      "source": [
        "# Unidad 4. Matriz Inversa."
      ]
    },
    {
      "cell_type": "markdown",
      "metadata": {
        "id": "k3fV197gJ0Jp",
        "colab_type": "text"
      },
      "source": [
        "Algoritmo de la matriz inversa, este algoritmo se utiliza cuando la matriz tiene una alta densidad numérica."
      ]
    },
    {
      "cell_type": "markdown",
      "metadata": {
        "id": "HzaPsEGlJ0Jp",
        "colab_type": "text"
      },
      "source": [
        "$Ax=b$"
      ]
    },
    {
      "cell_type": "markdown",
      "metadata": {
        "id": "W_epxn08J0Jr",
        "colab_type": "text"
      },
      "source": [
        "$x=A^{-1} {b}$"
      ]
    },
    {
      "cell_type": "markdown",
      "metadata": {
        "id": "uC2CJem-J0Jt",
        "colab_type": "text"
      },
      "source": [
        "Empezamos importando numpy pero como al principio de la libreta ya lo realizamos ya no lo necesitamos ingresar de nuevo, entonces procedemos a ingresar los datos de la matriz para obtener las soluciones para cada variable. "
      ]
    },
    {
      "cell_type": "markdown",
      "metadata": {
        "id": "oAXQN0XYJ0Ju",
        "colab_type": "text"
      },
      "source": [
        "utilizaremos el ejemplo 1 de la unidad 4."
      ]
    },
    {
      "cell_type": "markdown",
      "metadata": {
        "id": "6BynhF3VJ0Jv",
        "colab_type": "text"
      },
      "source": [
        "$x+2y+z=2$"
      ]
    },
    {
      "cell_type": "markdown",
      "metadata": {
        "id": "HHF-nga4J0Jv",
        "colab_type": "text"
      },
      "source": [
        "$3x+8y+z=12$"
      ]
    },
    {
      "cell_type": "markdown",
      "metadata": {
        "id": "WkhaWU9hJ0Jw",
        "colab_type": "text"
      },
      "source": [
        "$4y+z=2$"
      ]
    },
    {
      "cell_type": "code",
      "metadata": {
        "id": "dHEXBrqpJ0Jw",
        "colab_type": "code",
        "colab": {}
      },
      "source": [
        "A = np.array([[[1,2,1],\n",
        "               [3,8,1],\n",
        "               [0,4,1]]])"
      ],
      "execution_count": null,
      "outputs": []
    },
    {
      "cell_type": "code",
      "metadata": {
        "id": "3zqpV35iJ0Jz",
        "colab_type": "code",
        "colab": {}
      },
      "source": [
        "b = np.array([2,12,2])"
      ],
      "execution_count": null,
      "outputs": []
    },
    {
      "cell_type": "code",
      "metadata": {
        "id": "wADb8ni0J0KK",
        "colab_type": "code",
        "colab": {}
      },
      "source": [
        "Ainv = np.linalg.inv(A)"
      ],
      "execution_count": null,
      "outputs": []
    },
    {
      "cell_type": "code",
      "metadata": {
        "id": "Wwu8-OMDJ0Kc",
        "colab_type": "code",
        "colab": {}
      },
      "source": [
        "x = np.dot(Ainv,b)"
      ],
      "execution_count": null,
      "outputs": []
    },
    {
      "cell_type": "code",
      "metadata": {
        "id": "TsdMwJOsJ0Kj",
        "colab_type": "code",
        "colab": {},
        "outputId": "c0780aa5-029f-4b53-e705-00a091d55e93"
      },
      "source": [
        "print(x)   #imprimimos el resultado y lo corroboramos con los resultados ya obtenidos"
      ],
      "execution_count": null,
      "outputs": [
        {
          "output_type": "stream",
          "text": [
            "[[ 2.  1. -2.]]\n"
          ],
          "name": "stdout"
        }
      ]
    },
    {
      "cell_type": "code",
      "metadata": {
        "id": "Zc3loQoEJ0Kl",
        "colab_type": "code",
        "colab": {}
      },
      "source": [
        ""
      ],
      "execution_count": null,
      "outputs": []
    },
    {
      "cell_type": "markdown",
      "metadata": {
        "id": "ajuJItAPJ0Kp",
        "colab_type": "text"
      },
      "source": [
        "# Fin de la libreta....... "
      ]
    }
  ]
}