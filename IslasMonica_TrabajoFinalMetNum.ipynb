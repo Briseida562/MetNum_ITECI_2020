{
  "nbformat": 4,
  "nbformat_minor": 0,
  "metadata": {
    "kernelspec": {
      "display_name": "Python 3",
      "language": "python",
      "name": "python3"
    },
    "language_info": {
      "codemirror_mode": {
        "name": "ipython",
        "version": 3
      },
      "file_extension": ".py",
      "mimetype": "text/x-python",
      "name": "python",
      "nbconvert_exporter": "python",
      "pygments_lexer": "ipython3",
      "version": "3.8.3"
    },
    "colab": {
      "name": "IslasMonica_TrabajoFinalMetNum.ipynb",
      "provenance": [],
      "include_colab_link": true
    }
  },
  "cells": [
    {
      "cell_type": "markdown",
      "metadata": {
        "id": "view-in-github",
        "colab_type": "text"
      },
      "source": [
        "<a href=\"https://colab.research.google.com/github/roilhi/MetNum_ITECI_2020/blob/gh-pages/IslasMonica_TrabajoFinalMetNum.ipynb\" target=\"_parent\"><img src=\"https://colab.research.google.com/assets/colab-badge.svg\" alt=\"Open In Colab\"/></a>"
      ]
    },
    {
      "cell_type": "markdown",
      "metadata": {
        "id": "rMCw9PfH3dFu",
        "colab_type": "text"
      },
      "source": [
        "ITECI Universidad de Ensenada"
      ]
    },
    {
      "cell_type": "markdown",
      "metadata": {
        "id": "mTG-0tHR3dF1",
        "colab_type": "text"
      },
      "source": [
        "Métodos númericos"
      ]
    },
    {
      "cell_type": "markdown",
      "metadata": {
        "id": "c5QDf-2M3dF5",
        "colab_type": "text"
      },
      "source": [
        "Proyecto Final"
      ]
    },
    {
      "cell_type": "markdown",
      "metadata": {
        "id": "cx2au0PE3dGB",
        "colab_type": "text"
      },
      "source": [
        "Mónica Islas Saenz"
      ]
    },
    {
      "cell_type": "code",
      "metadata": {
        "id": "Pbqhfdx43dGG",
        "colab_type": "code",
        "colab": {}
      },
      "source": [
        "#Modulos necesarios\n",
        "import math\n",
        "import numpy as np\n",
        "import matplotlib.pyplot as plt\n",
        "import sympy as sp\n",
        "from sympy import Eq, solve_linear_system, Matrix\n",
        "from sympy.interactive import printing\n",
        "printing.init_printing(use_latex=True)"
      ],
      "execution_count": null,
      "outputs": []
    },
    {
      "cell_type": "markdown",
      "metadata": {
        "id": "Ynk4odWY3dGr",
        "colab_type": "text"
      },
      "source": [
        "Calculo de Error Relativo Procentual $$\\epsilon_r = \\left \\lvert \\frac{V_r-Vn}{Vr}\\right\\rvert \\times 100 $$"
      ]
    },
    {
      "cell_type": "markdown",
      "metadata": {
        "id": "x5lt46ga3dGz",
        "colab_type": "text"
      },
      "source": [
        " U1 Raices de ecuaciones"
      ]
    },
    {
      "cell_type": "markdown",
      "metadata": {
        "id": "UYM4OG_13dG2",
        "colab_type": "text"
      },
      "source": [
        "Método de Bisección"
      ]
    },
    {
      "cell_type": "markdown",
      "metadata": {
        "id": "66bX9mAO3dG4",
        "colab_type": "text"
      },
      "source": [
        "Después de que una raíz de $𝑓(𝑥)=0$ se ha puesto entre corchetes en el intervalo $(𝑥_1, 𝑥_2)$, se pueden usar varios métodos para cerrarlo. El método de bisección logra esto dividiendo sucesivamente a la mitad el intervalo hasta que se vuelve lo suficientemente pequeño. Esta técnica también se conoce como método de reducción a la mitad del intervalo. La bisección no es el método más rápido disponible para calcular raíces, pero es el más confiable. Una vez que se ha puesto entre corchetes una raíz, la bisección siempre se cerrará en ella.\n",
        "\n",
        "El método de bisección utiliza el mismo principio que la búsqueda incremental: si hay una raíz en el intervalo $(𝑥_1, 𝑥_2)$, entonces $𝑓(𝑥_1) y 𝑓(𝑥_2)$ tienen signos opuestos. Para dividir a la mitad el intervalo, calculamos $𝑓(𝑥_3)$, donde $x_3 = \\frac{1}{2}(x_1 + x_2)$ es el punto medio del intervalo. Si $f(x_2)$ y $f(x_3)$ tienen signos opuestos, entonces la raíz debe estar en $(𝑥_2, 𝑥_2)$, y lo registramos reemplazando el límite original $𝑥_1$ por $𝑥_3$. De lo contrario, la raíz se encuentra en $(𝑥_1, 𝑥_3)$, en cuyo caso $𝑥_2$ se reemplaza por $𝑥_3$. En cualquier caso, el nuevo intervalo $(𝑥_1, 𝑥_2)$ es la mitad del tamaño del intervalo original. La bisección se repite hasta que el intervalo se ha reducido a un valor pequeño ε, de modo que:\n",
        "$$\\left | x_2-x_1 \\right |\\leq \\varepsilon $$"
      ]
    },
    {
      "cell_type": "markdown",
      "metadata": {
        "id": "BE97hKhu3dG8",
        "colab_type": "text"
      },
      "source": [
        "Ejercicio 1 Calcular la aproximacion de la raíz usando el método de bisección en un intervalo de [-2,-1]"
      ]
    },
    {
      "cell_type": "markdown",
      "metadata": {
        "id": "hbtN8hZL3dHE",
        "colab_type": "text"
      },
      "source": [
        "Función: $f(x)=x^3+4x^2-6$"
      ]
    },
    {
      "cell_type": "code",
      "metadata": {
        "id": "HXuH-hDS3dHH",
        "colab_type": "code",
        "colab": {}
      },
      "source": [
        "def f(x): \n",
        "    return x**3+4*x**2-6"
      ],
      "execution_count": null,
      "outputs": []
    },
    {
      "cell_type": "markdown",
      "metadata": {
        "id": "GPmL6Mbi3dHz",
        "colab_type": "text"
      },
      "source": [
        "Valor teórico"
      ]
    },
    {
      "cell_type": "code",
      "metadata": {
        "id": "zgt0AI453dH3",
        "colab_type": "code",
        "colab": {}
      },
      "source": [
        "Tv=-1.5720"
      ],
      "execution_count": null,
      "outputs": []
    },
    {
      "cell_type": "markdown",
      "metadata": {
        "id": "sGSp2v4p3dIL",
        "colab_type": "text"
      },
      "source": [
        "Programa "
      ]
    },
    {
      "cell_type": "code",
      "metadata": {
        "id": "ohXvujA23dIR",
        "colab_type": "code",
        "colab": {},
        "outputId": "339f6b10-16ae-465e-8283-4acd7f7e618c"
      },
      "source": [
        "def bisection (a,b,tol):\n",
        "    xl=a\n",
        "    xr=b\n",
        "    while (np.abs(xl-xr)>tol):\n",
        "        c=(xl+xr)/2.0\n",
        "        prod=f(xl)*f(c)\n",
        "        if prod > tol:\n",
        "            xl=c\n",
        "        else:\n",
        "            if prod < tol:\n",
        "                xr=c\n",
        "    return c\n",
        "answer1= bisection (-2,-1,1.0e-4)\n",
        "print (\"Raíz aproximada = \", answer1)"
      ],
      "execution_count": null,
      "outputs": [
        {
          "output_type": "stream",
          "text": [
            "Raíz aproximada =  -1.57366943359375\n"
          ],
          "name": "stdout"
        }
      ]
    },
    {
      "cell_type": "code",
      "metadata": {
        "id": "udC6VXZu3dI8",
        "colab_type": "code",
        "colab": {}
      },
      "source": [
        "def PercentRelativeError(Tv,answer1):\n",
        "    epsilon= abs((Tv-answer1)/Tv)*100\n",
        "    return epsilon"
      ],
      "execution_count": null,
      "outputs": []
    },
    {
      "cell_type": "code",
      "metadata": {
        "id": "b7Q2f9sp3dJp",
        "colab_type": "code",
        "colab": {},
        "outputId": "18dbded0-32a8-41df-8d1b-a26a725dff35"
      },
      "source": [
        "PercentRelativeError(Tv,answer1)"
      ],
      "execution_count": null,
      "outputs": [
        {
          "output_type": "execute_result",
          "data": {
            "image/png": "[encoded data removed]",
            "text/latex": "$\\displaystyle 0.10619806576017406$",
            "text/plain": [
              "0.10619806576017406"
            ]
          },
          "metadata": {
            "tags": []
          },
          "execution_count": 7
        }
      ]
    },
    {
      "cell_type": "markdown",
      "metadata": {
        "id": "-N1NGtXn3dJ-",
        "colab_type": "text"
      },
      "source": [
        "Gráfico"
      ]
    },
    {
      "cell_type": "code",
      "metadata": {
        "id": "eVUtAIvp3dKB",
        "colab_type": "code",
        "colab": {},
        "outputId": "4b29a58d-9c70-4ae0-b646-a77d50384bbf"
      },
      "source": [
        "x=np.linspace(-2,5,100)\n",
        "plt.plot(x,f(x))\n",
        "plt.plot(answer1,0,'o',label='Raíz')\n",
        "plt.grid()\n",
        "plt.legend()\n",
        "plt.show()"
      ],
      "execution_count": null,
      "outputs": [
        {
          "output_type": "display_data",
          "data": {
            "image/png": "[encoded data removed]",
            "text/plain": [
              "<Figure size 432x288 with 1 Axes>"
            ]
          },
          "metadata": {
            "tags": [],
            "needs_background": "light"
          }
        }
      ]
    },
    {
      "cell_type": "markdown",
      "metadata": {
        "id": "yrFyunV53dK0",
        "colab_type": "text"
      },
      "source": [
        "U2 Interpolación y regresión lineal"
      ]
    },
    {
      "cell_type": "markdown",
      "metadata": {
        "id": "R3cvChWX3dK3",
        "colab_type": "text"
      },
      "source": [
        "Métodos de mínimos cuadrados"
      ]
    },
    {
      "cell_type": "markdown",
      "metadata": {
        "id": "3nSC1zh23dK9",
        "colab_type": "text"
      },
      "source": [
        "Si los datos se obtienen de experimentos, por lo general contienen una cantidad significativa de ruido aleatorio causado por errores de medición. La tarea del ajuste de curvas es encontrar una curva suave que se ajuste a los puntos de datos \"en promedio\". Esta curva debe tener una forma simple (por ejemplo, un polinomio de bajo orden), para no reproducir el ruido.\n",
        ". \n",
        "$$f(x) = f(x;a_0, a_1, ... , a_)$$\n",
        "\n",
        "\n",
        "Los coeficientes de la función de regresión lineal se obtienen mediante: \n",
        "$$a_1=\\frac{n\\sum x_iy_i-\\sum x_i\\sum y_i}{n\\sum x_{i}^{2}-(\\sum x_i)^{2}}$$ \n",
        "\n",
        "$$a_0=\\bar y-a_1\\bar x$$"
      ]
    },
    {
      "cell_type": "markdown",
      "metadata": {
        "id": "o0dLtC463dLA",
        "colab_type": "text"
      },
      "source": [
        "Ejercicio 2 Calcular la regresión lineal de la función $f (x) = a_0 + a_1x$ por el método de los mínimos cuadrados.\n"
      ]
    },
    {
      "cell_type": "markdown",
      "metadata": {
        "id": "L19axMxu3dLD",
        "colab_type": "text"
      },
      "source": [
        "Datos"
      ]
    },
    {
      "cell_type": "code",
      "metadata": {
        "id": "Wi_f5Rqj3dLH",
        "colab_type": "code",
        "colab": {}
      },
      "source": [
        "x= [1,2,3,4,5,6]\n",
        "y= [5.04,8.12,10.64,13.18,16.20,20.04]"
      ],
      "execution_count": null,
      "outputs": []
    },
    {
      "cell_type": "markdown",
      "metadata": {
        "id": "oX2qlMBx3dLi",
        "colab_type": "text"
      },
      "source": [
        "Programa"
      ]
    },
    {
      "cell_type": "code",
      "metadata": {
        "id": "XKmkFtPC3dLk",
        "colab_type": "code",
        "colab": {}
      },
      "source": [
        "n=len(x)\n",
        "x= np.array(x)\n",
        "y= np.array(y)\n",
        "sumx=sum(x)\n",
        "sumy=sum(y)\n",
        "sumx2=sum(x*x)\n",
        "sumy2=sum(y*y)\n",
        "sumxy=sum(x*y)\n",
        "promx=sumx/n\n",
        "promy=sumy/n\n",
        "m=((sumx*sumy)-(n*sumxy))/(sumx**2-(n*sumx2))\n",
        "b=promy-(m*promx)"
      ],
      "execution_count": null,
      "outputs": []
    },
    {
      "cell_type": "markdown",
      "metadata": {
        "id": "8qKb2ZHn3dL1",
        "colab_type": "text"
      },
      "source": [
        "Ecuación de la recta"
      ]
    },
    {
      "cell_type": "markdown",
      "metadata": {
        "id": "AmqIP2s53dL4",
        "colab_type": "text"
      },
      "source": [
        "$$y=2.02+2.90x$$"
      ]
    },
    {
      "cell_type": "markdown",
      "metadata": {
        "id": "7xFSsy0m3dL7",
        "colab_type": "text"
      },
      "source": [
        "Gráfico"
      ]
    },
    {
      "cell_type": "code",
      "metadata": {
        "id": "LapOpW3M3dMB",
        "colab_type": "code",
        "colab": {},
        "outputId": "584c257f-bd0e-4773-e3e5-22519a9ac43d"
      },
      "source": [
        "plt.plot(x,y,'o',label='Data')\n",
        "plt.plot(x,(m*x)+b,label='Fit')\n",
        "plt.xlabel('x')\n",
        "plt.ylabel('y')\n",
        "plt.grid()\n",
        "plt.legend()\n",
        "plt.show()"
      ],
      "execution_count": null,
      "outputs": [
        {
          "output_type": "display_data",
          "data": {
            "image/png": "[encoded data removed]",
            "text/plain": [
              "<Figure size 432x288 with 1 Axes>"
            ]
          },
          "metadata": {
            "tags": [],
            "needs_background": "light"
          }
        }
      ]
    },
    {
      "cell_type": "markdown",
      "metadata": {
        "id": "H05SmRTR3dMc",
        "colab_type": "text"
      },
      "source": [
        "U3 Integtación y diferenciación númerica"
      ]
    },
    {
      "cell_type": "markdown",
      "metadata": {
        "id": "CQyu0mQn3dMh",
        "colab_type": "text"
      },
      "source": [
        "Simpson's 1/3"
      ]
    },
    {
      "cell_type": "markdown",
      "metadata": {
        "id": "T5lKRMaW3dMk",
        "colab_type": "text"
      },
      "source": [
        "La regla 1/3 de Simpson se puede obtener de las fórmulas de Newton-Cotes con $𝑛 = 2$; es decir, pasando un interpolante parabólico a través de tres nodos adyacentes.\n",
        "\n",
        "$$I= \\left [ f(a)+4f(\\frac{a+b}{2})+f(b) \\right ]\\frac{h}{3}$$\n",
        "\n",
        "TPara obtener la regla compuesta de Simpson 1/3, el rango de integración $ (a, b) $ se divide en $ n $ paneles ($ n $ par) de ancho $ h = (b - a) / n $ cada uno."
      ]
    },
    {
      "cell_type": "markdown",
      "metadata": {
        "id": "FRj0r0BM3dMn",
        "colab_type": "text"
      },
      "source": [
        "Ejercicio 4 Calcular la siguiente integración"
      ]
    },
    {
      "cell_type": "markdown",
      "metadata": {
        "id": "_G7dWR9J3dMq",
        "colab_type": "text"
      },
      "source": [
        "Función $$f(x)=(4x-3)^3$$"
      ]
    },
    {
      "cell_type": "code",
      "metadata": {
        "id": "jGDr94Cr3dMy",
        "colab_type": "code",
        "colab": {}
      },
      "source": [
        "def f(x):\n",
        "    return ((4*x)-3)**3"
      ],
      "execution_count": null,
      "outputs": []
    },
    {
      "cell_type": "markdown",
      "metadata": {
        "id": "2ko5EBXh3dNH",
        "colab_type": "text"
      },
      "source": [
        "Gráfico"
      ]
    },
    {
      "cell_type": "code",
      "metadata": {
        "id": "GBhY_RYd3dNK",
        "colab_type": "code",
        "colab": {},
        "outputId": "92f8b8dc-8950-455c-b697-5e358cdb56fd"
      },
      "source": [
        "x= np.linspace(-3,5,50)\n",
        "plt.plot(x,f(x))\n",
        "plt.grid()\n",
        "plt.show()"
      ],
      "execution_count": null,
      "outputs": [
        {
          "output_type": "display_data",
          "data": {
            "image/png": "[encoded data removed]",
            "text/plain": [
              "<Figure size 432x288 with 1 Axes>"
            ]
          },
          "metadata": {
            "tags": [],
            "needs_background": "light"
          }
        }
      ]
    },
    {
      "cell_type": "markdown",
      "metadata": {
        "id": "bhQiHJDL3dNo",
        "colab_type": "text"
      },
      "source": [
        "Programa"
      ]
    },
    {
      "cell_type": "code",
      "metadata": {
        "id": "_pbb_Pth3dNz",
        "colab_type": "code",
        "colab": {},
        "outputId": "79167204-1e0d-4b6e-f64c-07d4ea6a69f0"
      },
      "source": [
        "def simpson13(f,a,b):\n",
        "    m=(b-a)/2\n",
        "    integral=(b-a)/6*(f(a)+4*f(m)+f(b))\n",
        "    return integral\n",
        "a=-3\n",
        "b=5\n",
        "simpson13(f,a,b)"
      ],
      "execution_count": null,
      "outputs": [
        {
          "output_type": "execute_result",
          "data": {
            "image/png": "[encoded data removed]",
            "text/latex": "$\\displaystyle 13768.0$",
            "text/plain": [
              "13768.0"
            ]
          },
          "metadata": {
            "tags": []
          },
          "execution_count": 82
        }
      ]
    },
    {
      "cell_type": "code",
      "metadata": {
        "id": "6s0QCah23dOI",
        "colab_type": "code",
        "colab": {}
      },
      "source": [
        "def PercentRelativeError(vreal,vnum):\n",
        "    epsilon= abs((vreal-vnum)/vreal)*100\n",
        "    return epsilon"
      ],
      "execution_count": null,
      "outputs": []
    },
    {
      "cell_type": "code",
      "metadata": {
        "id": "LLiHN_x63dOa",
        "colab_type": "code",
        "colab": {},
        "outputId": "57513860-5cfe-41ff-eee8-a1ccbc5ed638"
      },
      "source": [
        "PercentRelativeError(vreal,vnum)"
      ],
      "execution_count": null,
      "outputs": [
        {
          "output_type": "execute_result",
          "data": {
            "image/png": "[encoded data removed]",
            "text/latex": "$\\displaystyle 569.6498054474708$",
            "text/plain": [
              "569.6498054474708"
            ]
          },
          "metadata": {
            "tags": []
          },
          "execution_count": 130
        }
      ]
    },
    {
      "cell_type": "markdown",
      "metadata": {
        "id": "FDRS8cqb3dO5",
        "colab_type": "text"
      },
      "source": [
        "U4 Sistemas de ecuaciones lineales "
      ]
    },
    {
      "cell_type": "markdown",
      "metadata": {
        "id": "T01s4WIQ3dO9",
        "colab_type": "text"
      },
      "source": [
        "Método de Gauss-Jordan"
      ]
    },
    {
      "cell_type": "markdown",
      "metadata": {
        "id": "lpWHrXfm3dPA",
        "colab_type": "text"
      },
      "source": [
        "La eliminación de Gauss es el método más familiar para resolver ecuaciones simultáneas. Consta de dos partes: la fase de eliminación y la fase de sustitución hacia atrás.\n",
        "\n",
        "Forma inicial\n",
        "$$Ax=b$$\n",
        "\n",
        "Sistema de ecuaciones\n",
        "\n",
        "$$a_{11}x+a_{12}y+a_{13}z=b_1$$\n",
        "$$a_{21}x+a_{22}y+a_{23}z=b_2$$\n",
        "$$a_{31}x+a_{32}y+a_{33}z=b_3$$\n",
        "\n",
        "$$A=\\begin{bmatrix}\n",
        " a_{11}\\, a_{12} \\, a_{13}\\\\ \n",
        "a_{21} \\,  a_{22}\\,  a_{23}\\\\ \n",
        "a_{31} \\,  a_{32} \\, a_{33}\n",
        "\\end{bmatrix}$$ \n",
        "\n",
        "$$x=\\begin{bmatrix}\n",
        " x\\\\ \n",
        "y\\\\ \n",
        "z \n",
        "\\end{bmatrix}$$\n",
        "\n",
        "$$b=\\begin{bmatrix}\n",
        " b_1\\\\ \n",
        "b_2\\\\ \n",
        "b_3 \n",
        "\\end{bmatrix}$$\n",
        "\n",
        "La función de la fase de eliminación es transformar las ecuaciones en la forma:\n",
        "$$Ux = c$$"
      ]
    },
    {
      "cell_type": "markdown",
      "metadata": {
        "id": "uPQ9Tb5O3dPG",
        "colab_type": "text"
      },
      "source": [
        "Ejercicio 4 Comprobar que $𝑥 = 2, 𝑦 = 1, 𝑧 = −2$ son las soluciones de las ecuaciones lineales."
      ]
    },
    {
      "cell_type": "markdown",
      "metadata": {
        "id": "R5qRU19i3dPJ",
        "colab_type": "text"
      },
      "source": [
        "Ecuaciones $$𝑥+2𝑦+𝑧=2$$ $$3𝑥+8𝑦+𝑧=12$$ $$4𝑦+𝑧=2$$"
      ]
    },
    {
      "cell_type": "markdown",
      "metadata": {
        "id": "RP15JITK3dPN",
        "colab_type": "text"
      },
      "source": [
        "Programa"
      ]
    },
    {
      "cell_type": "code",
      "metadata": {
        "id": "Gk42e5ES3dPS",
        "colab_type": "code",
        "colab": {},
        "outputId": "3af71b8b-ea70-41df-c5a5-08accbc9b910"
      },
      "source": [
        "eq1=sp.Function('eq1')\n",
        "eq2=sp.Function('eq2')\n",
        "eq3=sp.Function('eq3')\n",
        "x,y,z= sp.symbols('x y z')\n",
        "eq1= Eq(1*x+2*y+1*z,2)\n",
        "eq2= Eq(3*x+8*y+1*z,12)\n",
        "eq3= Eq(0*x+4*y+1*z,2)\n",
        "row1=[1,2,1,2]\n",
        "row2=[3,8,1,12]\n",
        "row3=[0,4,1,2]\n",
        "system= Matrix((row1,row2,row3))\n",
        "display (system)\n"
      ],
      "execution_count": null,
      "outputs": [
        {
          "output_type": "display_data",
          "data": {
            "text/latex": "$\\displaystyle \\left[\\begin{matrix}1 & 2 & 1 & 2\\\\3 & 8 & 1 & 12\\\\0 & 4 & 1 & 2\\end{matrix}\\right]$",
            "text/plain": [
              "⎡1  2  1  2 ⎤\n",
              "⎢           ⎥\n",
              "⎢3  8  1  12⎥\n",
              "⎢           ⎥\n",
              "⎣0  4  1  2 ⎦"
            ]
          },
          "metadata": {
            "tags": []
          }
        }
      ]
    },
    {
      "cell_type": "markdown",
      "metadata": {
        "id": "VWb2y0Yi3dP6",
        "colab_type": "text"
      },
      "source": [
        "Solución"
      ]
    },
    {
      "cell_type": "code",
      "metadata": {
        "id": "8mNKJsZC3dP9",
        "colab_type": "code",
        "colab": {},
        "outputId": "63d7759c-ac44-4031-9602-59495fb13f24"
      },
      "source": [
        "solve_linear_system(system,x,y,z)"
      ],
      "execution_count": null,
      "outputs": [
        {
          "output_type": "execute_result",
          "data": {
            "image/png": "[encoded data removed]",
            "text/latex": "$\\displaystyle \\left\\{ x : 2, \\  y : 1, \\  z : -2\\right\\}$",
            "text/plain": [
              "{x: 2, y: 1, z: -2}"
            ]
          },
          "metadata": {
            "tags": []
          },
          "execution_count": 90
        }
      ]
    }
  ]
}