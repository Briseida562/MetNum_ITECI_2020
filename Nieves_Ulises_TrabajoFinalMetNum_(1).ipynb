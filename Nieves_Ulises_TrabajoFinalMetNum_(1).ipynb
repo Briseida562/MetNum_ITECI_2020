{
  "nbformat": 4,
  "nbformat_minor": 0,
  "metadata": {
    "kernelspec": {
      "display_name": "Python 3",
      "language": "python",
      "name": "python3"
    },
    "language_info": {
      "codemirror_mode": {
        "name": "ipython",
        "version": 3
      },
      "file_extension": ".py",
      "mimetype": "text/x-python",
      "name": "python",
      "nbconvert_exporter": "python",
      "pygments_lexer": "ipython3",
      "version": "3.7.6"
    },
    "colab": {
      "name": "Nieves Ulises_TrabajoFinalMetNum. (1).ipynb",
      "provenance": [],
      "include_colab_link": true
    }
  },
  "cells": [
    {
      "cell_type": "markdown",
      "metadata": {
        "id": "view-in-github",
        "colab_type": "text"
      },
      "source": [
        "<a href=\"https://colab.research.google.com/github/roilhi/MetNum_ITECI_2020/blob/gh-pages/Nieves_Ulises_TrabajoFinalMetNum_(1).ipynb\" target=\"_parent\"><img src=\"https://colab.research.google.com/assets/colab-badge.svg\" alt=\"Open In Colab\"/></a>"
      ]
    },
    {
      "cell_type": "markdown",
      "metadata": {
        "id": "iwAo8XFPqJUV",
        "colab_type": "text"
      },
      "source": [
        "# Métodos Numéricos"
      ]
    },
    {
      "cell_type": "markdown",
      "metadata": {
        "id": "xydAeZ3qqJUZ",
        "colab_type": "text"
      },
      "source": [
        "**Unidad 1. Redondeo de cifras significativas**"
      ]
    },
    {
      "cell_type": "code",
      "metadata": {
        "id": "bQpzAGMdqJUZ",
        "colab_type": "code",
        "colab": {}
      },
      "source": [
        "import math #estas son las librerias que realizan los diferentes calculos"
      ],
      "execution_count": null,
      "outputs": []
    },
    {
      "cell_type": "code",
      "metadata": {
        "id": "8RMqQe32qJUd",
        "colab_type": "code",
        "colab": {}
      },
      "source": [
        "import numpy as op"
      ],
      "execution_count": null,
      "outputs": []
    },
    {
      "cell_type": "markdown",
      "metadata": {
        "id": "4Yp5MAVxqJUi",
        "colab_type": "text"
      },
      "source": [
        "Para empezar tenemos que elegir una de las siguientes operaciones y resolverla. Una vez obtenidos los resultados tendremos que hacer un redondeo hacia arriba de 4, 3 y 2 cifras significativas."
      ]
    },
    {
      "cell_type": "markdown",
      "metadata": {
        "id": "kE0gKThFqJUi",
        "colab_type": "text"
      },
      "source": [
        "### a) $\\frac{\\sqrt{2}}{2} $"
      ]
    },
    {
      "cell_type": "markdown",
      "metadata": {
        "id": "uLql7WE0qJUj",
        "colab_type": "text"
      },
      "source": [
        "### b) $24\\pi-12$"
      ]
    },
    {
      "cell_type": "markdown",
      "metadata": {
        "id": "FwITbdVaqJUk",
        "colab_type": "text"
      },
      "source": [
        "### c) $-\\frac{3\\sqrt{5}}{5}$"
      ]
    },
    {
      "cell_type": "markdown",
      "metadata": {
        "id": "eb5bUP7XqJUl",
        "colab_type": "text"
      },
      "source": [
        "### d) $\\cos\\left(1-\\frac{\\pi}{6}\\right)$"
      ]
    },
    {
      "cell_type": "markdown",
      "metadata": {
        "id": "fNZs-phsqJUr",
        "colab_type": "text"
      },
      "source": [
        "En nuestro caso elegimos la opción “a” $\\frac{\\sqrt{2}}{2} $  y resolvimos la operación dándonos los siguientes resultados:  "
      ]
    },
    {
      "cell_type": "code",
      "metadata": {
        "id": "R5X1YdHQqJUw",
        "colab_type": "code",
        "colab": {},
        "outputId": "b3b0fa16-b2e5-48f7-b4bc-656fa0f44898"
      },
      "source": [
        "round(op.sqrt(2)/2,4) # A 4 dígitos"
      ],
      "execution_count": null,
      "outputs": [
        {
          "output_type": "execute_result",
          "data": {
            "text/plain": [
              "0.7071"
            ]
          },
          "metadata": {
            "tags": []
          },
          "execution_count": 297
        }
      ]
    },
    {
      "cell_type": "code",
      "metadata": {
        "id": "IU8ArmJzqJU3",
        "colab_type": "code",
        "colab": {},
        "outputId": "f81e0272-d614-47be-e243-2f2dad0a4c01"
      },
      "source": [
        "round(op.sqrt(2)/2,3) # A 3 dígitos"
      ],
      "execution_count": null,
      "outputs": [
        {
          "output_type": "execute_result",
          "data": {
            "text/plain": [
              "0.707"
            ]
          },
          "metadata": {
            "tags": []
          },
          "execution_count": 298
        }
      ]
    },
    {
      "cell_type": "code",
      "metadata": {
        "id": "ICBRoannqJU7",
        "colab_type": "code",
        "colab": {},
        "outputId": "9d0e8c5f-7843-4d29-db8b-3b5ee1b91eb0"
      },
      "source": [
        "round(op.sqrt(2)/2,2) # A 2 dígitos"
      ],
      "execution_count": null,
      "outputs": [
        {
          "output_type": "execute_result",
          "data": {
            "text/plain": [
              "0.71"
            ]
          },
          "metadata": {
            "tags": []
          },
          "execution_count": 299
        }
      ]
    },
    {
      "cell_type": "markdown",
      "metadata": {
        "id": "ps3ISutoqJU_",
        "colab_type": "text"
      },
      "source": [
        "2. ALGORITMO DE SERIES DE TAYLOR"
      ]
    },
    {
      "cell_type": "markdown",
      "metadata": {
        "id": "ju8LfNznqJVA",
        "colab_type": "text"
      },
      "source": [
        "En nuestro segundo problema se nos pide realizar un algoritmo que calcule la aproximacion en series de Taylor de la funcion $ f(x)=sin x$ Lo que se nos pide es que el algoritmo resuelva cualquiera de los problemas siguentes:"
      ]
    },
    {
      "cell_type": "markdown",
      "metadata": {
        "id": "QrjnjwQGqJVE",
        "colab_type": "text"
      },
      "source": [
        "### 1) $ sen x = x $"
      ]
    },
    {
      "cell_type": "markdown",
      "metadata": {
        "id": "qzcIcwqEqJVE",
        "colab_type": "text"
      },
      "source": [
        "### 2) $ sen x = x-\\frac{x^3}{3!} $"
      ]
    },
    {
      "cell_type": "markdown",
      "metadata": {
        "id": "m4S9o_hHqJVQ",
        "colab_type": "text"
      },
      "source": [
        "### 3) $ sen x = x-\\frac{x^3}{3!}+\\frac{x^5}{5!} $"
      ]
    },
    {
      "cell_type": "markdown",
      "metadata": {
        "id": "S0wP2isoqJVQ",
        "colab_type": "text"
      },
      "source": [
        "Lo siguiente es definir nuestra \"X\" es decir darle un valor. En nuestro caso le daremos un valor de $2$"
      ]
    },
    {
      "cell_type": "markdown",
      "metadata": {
        "id": "UUvVFvk1qJVR",
        "colab_type": "text"
      },
      "source": [
        "Ahora elegiremos la opcion $2$ para nuestro ejemplo y le daremos un valor"
      ]
    },
    {
      "cell_type": "code",
      "metadata": {
        "id": "CCITqFPMqJVS",
        "colab_type": "code",
        "colab": {},
        "outputId": "1999608a-ac2f-4128-9ba6-d9907efb2899"
      },
      "source": [
        "x=int(input(\"ingresa el valor\"))# para usar el algoritmo que realiza las operaciones"
      ],
      "execution_count": null,
      "outputs": [
        {
          "output_type": "stream",
          "text": [
            "ingresa el valor2\n"
          ],
          "name": "stdout"
        }
      ]
    },
    {
      "cell_type": "code",
      "metadata": {
        "id": "Xk08oinpqJVV",
        "colab_type": "code",
        "colab": {},
        "outputId": "b470e43e-a685-4849-85e1-92ec668ec009"
      },
      "source": [
        "x-(x^3)/math.factorial(3)"
      ],
      "execution_count": null,
      "outputs": [
        {
          "output_type": "execute_result",
          "data": {
            "text/plain": [
              "1.8333333333333333"
            ]
          },
          "metadata": {
            "tags": []
          },
          "execution_count": 302
        }
      ]
    },
    {
      "cell_type": "markdown",
      "metadata": {
        "id": "VQgMXWAjqJVY",
        "colab_type": "text"
      },
      "source": [
        "Para un valor de $x=\\frac{3pi}{2} $ y un Valor analitico de $sen\\left(\\frac{3pi}{2}\\right)=-1$ compararemos el error relativo para las series $ 1, 2, 3, 10, 50,$"
      ]
    },
    {
      "cell_type": "code",
      "metadata": {
        "id": "8wgKufxwqJVZ",
        "colab_type": "code",
        "colab": {}
      },
      "source": [
        "import math #volvi a meter las librerias por que aveces no me queria correr por que me pedia que la llamara"
      ],
      "execution_count": null,
      "outputs": []
    },
    {
      "cell_type": "code",
      "metadata": {
        "id": "I4syBHP8qJVb",
        "colab_type": "code",
        "colab": {}
      },
      "source": [
        "import numpy as op #le puse op de operacion en lugar de np para facilitar mas las cosas"
      ],
      "execution_count": null,
      "outputs": []
    },
    {
      "cell_type": "code",
      "metadata": {
        "id": "GSWxNjXFqJVo",
        "colab_type": "code",
        "colab": {}
      },
      "source": [
        "x = (3*op.pi)/2"
      ],
      "execution_count": null,
      "outputs": []
    },
    {
      "cell_type": "code",
      "metadata": {
        "id": "g0VnvlGYqJVu",
        "colab_type": "code",
        "colab": {}
      },
      "source": [
        "va = op.sin(3*op.pi/2)"
      ],
      "execution_count": null,
      "outputs": []
    },
    {
      "cell_type": "code",
      "metadata": {
        "id": "q98TsaVlqJVw",
        "colab_type": "code",
        "colab": {},
        "outputId": "4ae675b0-6ee8-4757-aa2f-5a3bec941d98"
      },
      "source": [
        "va"
      ],
      "execution_count": null,
      "outputs": [
        {
          "output_type": "execute_result",
          "data": {
            "text/plain": [
              "-1.0"
            ]
          },
          "metadata": {
            "tags": []
          },
          "execution_count": 307
        }
      ]
    },
    {
      "cell_type": "code",
      "metadata": {
        "id": "uJ8Jdc2oqJWU",
        "colab_type": "code",
        "colab": {}
      },
      "source": [
        "def ErrorRelativo(vAn,vNum):\n",
        "  epsilon = abs((vAn-vNum)/vAn)*100\n",
        "  return epsilon "
      ],
      "execution_count": null,
      "outputs": []
    },
    {
      "cell_type": "code",
      "metadata": {
        "id": "PI4jKPFIqJWY",
        "colab_type": "code",
        "colab": {}
      },
      "source": [
        "def TaylorSeno(x,Nterm):\n",
        "  senoAprox = 0  \n",
        "  for i in range(Nterm):\n",
        "    coef = (-1)**(i)\n",
        "    numerador = x**((2*i)+1) \n",
        "    denominador = math.factorial((2*i)+1)\n",
        "    senoAprox = senoAprox+coef*(numerador/denominador)\n",
        "  return senoAprox"
      ],
      "execution_count": null,
      "outputs": []
    },
    {
      "cell_type": "code",
      "metadata": {
        "id": "EdsEtlTyqJWd",
        "colab_type": "code",
        "colab": {}
      },
      "source": [
        "vn1 = TaylorSeno(x,1)"
      ],
      "execution_count": null,
      "outputs": []
    },
    {
      "cell_type": "code",
      "metadata": {
        "id": "i6wUQexJqJWh",
        "colab_type": "code",
        "colab": {},
        "outputId": "7ed5aaf3-55e7-43cf-860b-8d2fc154b878"
      },
      "source": [
        "print(vn1)"
      ],
      "execution_count": null,
      "outputs": [
        {
          "output_type": "stream",
          "text": [
            "4.71238898038469\n"
          ],
          "name": "stdout"
        }
      ]
    },
    {
      "cell_type": "code",
      "metadata": {
        "id": "p4j97ktkqJWj",
        "colab_type": "code",
        "colab": {}
      },
      "source": [
        "ErrorRelativo_N1 = ErrorRelativo(va,vn1) "
      ],
      "execution_count": null,
      "outputs": []
    },
    {
      "cell_type": "code",
      "metadata": {
        "id": "GIr3NRpyqJWl",
        "colab_type": "code",
        "colab": {},
        "outputId": "15cec133-4e9b-4cb7-e086-06804a5b6034"
      },
      "source": [
        "print(ErrorRelativo_N1)"
      ],
      "execution_count": null,
      "outputs": [
        {
          "output_type": "stream",
          "text": [
            "571.238898038469\n"
          ],
          "name": "stdout"
        }
      ]
    },
    {
      "cell_type": "code",
      "metadata": {
        "id": "W3UfEAwcqJWn",
        "colab_type": "code",
        "colab": {},
        "outputId": "75923baa-6778-4526-dea1-6512fc4bf238"
      },
      "source": [
        "print(ErrorRelativo_N1)"
      ],
      "execution_count": null,
      "outputs": [
        {
          "output_type": "stream",
          "text": [
            "571.238898038469\n"
          ],
          "name": "stdout"
        }
      ]
    },
    {
      "cell_type": "code",
      "metadata": {
        "id": "Lrk1qV26qJWp",
        "colab_type": "code",
        "colab": {}
      },
      "source": [
        "vn2 = TaylorSeno(x,2)"
      ],
      "execution_count": null,
      "outputs": []
    },
    {
      "cell_type": "code",
      "metadata": {
        "id": "hyzZwL7qqJWr",
        "colab_type": "code",
        "colab": {},
        "outputId": "c93ce323-5916-47fc-df3d-bf12a2a17aba"
      },
      "source": [
        "print(vn2)"
      ],
      "execution_count": null,
      "outputs": [
        {
          "output_type": "stream",
          "text": [
            "-12.728641652283956\n"
          ],
          "name": "stdout"
        }
      ]
    },
    {
      "cell_type": "code",
      "metadata": {
        "id": "R3xuVt4aqJWt",
        "colab_type": "code",
        "colab": {}
      },
      "source": [
        "ErrorRelativo_N2 = ErrorRelativo(va,vn2)"
      ],
      "execution_count": null,
      "outputs": []
    },
    {
      "cell_type": "code",
      "metadata": {
        "id": "3HTHrknPqJXC",
        "colab_type": "code",
        "colab": {},
        "outputId": "8d5d2ab1-da48-44dd-de9f-95fa0940de89"
      },
      "source": [
        "print(ErrorRelativo_N2)"
      ],
      "execution_count": null,
      "outputs": [
        {
          "output_type": "stream",
          "text": [
            "1172.8641652283957\n"
          ],
          "name": "stdout"
        }
      ]
    },
    {
      "cell_type": "code",
      "metadata": {
        "id": "WHMFT_-QqJXG",
        "colab_type": "code",
        "colab": {}
      },
      "source": [
        "vn3 = TaylorSeno(x,3)"
      ],
      "execution_count": null,
      "outputs": []
    },
    {
      "cell_type": "code",
      "metadata": {
        "id": "8nuPLTm7qJXI",
        "colab_type": "code",
        "colab": {},
        "outputId": "68e31c06-8a65-451b-a51b-5f9c02a623b5"
      },
      "source": [
        "print(vn3)"
      ],
      "execution_count": null,
      "outputs": [
        {
          "output_type": "stream",
          "text": [
            "6.636666525534631\n"
          ],
          "name": "stdout"
        }
      ]
    },
    {
      "cell_type": "code",
      "metadata": {
        "id": "oTyzuLNVqJXO",
        "colab_type": "code",
        "colab": {}
      },
      "source": [
        "ErrorRelativo_N3 = ErrorRelativo(va,vn3)"
      ],
      "execution_count": null,
      "outputs": []
    },
    {
      "cell_type": "code",
      "metadata": {
        "id": "2woLdwTiqJXQ",
        "colab_type": "code",
        "colab": {},
        "outputId": "f44483b3-50a9-4140-89eb-a1cd9123e78a"
      },
      "source": [
        "print(ErrorRelativo_N3)"
      ],
      "execution_count": null,
      "outputs": [
        {
          "output_type": "stream",
          "text": [
            "763.6666525534631\n"
          ],
          "name": "stdout"
        }
      ]
    },
    {
      "cell_type": "code",
      "metadata": {
        "id": "j_J320QLqJXS",
        "colab_type": "code",
        "colab": {}
      },
      "source": [
        "vn10 = TaylorSeno(x,10)"
      ],
      "execution_count": null,
      "outputs": []
    },
    {
      "cell_type": "code",
      "metadata": {
        "id": "VtYdcee5qJXV",
        "colab_type": "code",
        "colab": {},
        "outputId": "92726bdb-5ac5-4581-8ab1-47f2834fb51a"
      },
      "source": [
        "print(vn10)"
      ],
      "execution_count": null,
      "outputs": [
        {
          "output_type": "stream",
          "text": [
            "-1.000002575987572\n"
          ],
          "name": "stdout"
        }
      ]
    },
    {
      "cell_type": "code",
      "metadata": {
        "id": "vjV2RLt5qJXX",
        "colab_type": "code",
        "colab": {}
      },
      "source": [
        "ErrorRelativo_N10 = ErrorRelativo(va,vn10)"
      ],
      "execution_count": null,
      "outputs": []
    },
    {
      "cell_type": "code",
      "metadata": {
        "id": "_d5Xdd5jqJXa",
        "colab_type": "code",
        "colab": {},
        "outputId": "325744e0-c25e-42da-b95f-6eaba9c4ffbb"
      },
      "source": [
        "print(ErrorRelativo_N10)"
      ],
      "execution_count": null,
      "outputs": [
        {
          "output_type": "stream",
          "text": [
            "0.00025759875719177927\n"
          ],
          "name": "stdout"
        }
      ]
    },
    {
      "cell_type": "code",
      "metadata": {
        "id": "DdWQjns2qJXc",
        "colab_type": "code",
        "colab": {}
      },
      "source": [
        "vn50 = TaylorSeno(x,50)"
      ],
      "execution_count": null,
      "outputs": []
    },
    {
      "cell_type": "code",
      "metadata": {
        "id": "RTkygMrOqJXe",
        "colab_type": "code",
        "colab": {},
        "outputId": "bb3fa5e8-3fa3-4638-b0f8-aa4532089c54"
      },
      "source": [
        "print(vn50)"
      ],
      "execution_count": null,
      "outputs": [
        {
          "output_type": "stream",
          "text": [
            "-1.0000000000000002\n"
          ],
          "name": "stdout"
        }
      ]
    },
    {
      "cell_type": "code",
      "metadata": {
        "id": "S1hVulTbqJXg",
        "colab_type": "code",
        "colab": {}
      },
      "source": [
        "ErrorRelativo_N50 = ErrorRelativo(va,vn50)"
      ],
      "execution_count": null,
      "outputs": []
    },
    {
      "cell_type": "code",
      "metadata": {
        "id": "xrToAoz-qJXi",
        "colab_type": "code",
        "colab": {},
        "outputId": "d20f9997-2787-4a91-ba1f-78a925972cc4"
      },
      "source": [
        "print(ErrorRelativo_N50)"
      ],
      "execution_count": null,
      "outputs": [
        {
          "output_type": "stream",
          "text": [
            "2.220446049250313e-14\n"
          ],
          "name": "stdout"
        }
      ]
    },
    {
      "cell_type": "markdown",
      "metadata": {
        "id": "ZW4fxsvkqJXl",
        "colab_type": "text"
      },
      "source": [
        "**Unidad 2 INTERPOLACION Y REGRESION NUMÉRICA**"
      ]
    },
    {
      "cell_type": "code",
      "metadata": {
        "id": "9t9tuo5xqJXl",
        "colab_type": "code",
        "colab": {}
      },
      "source": [
        "import pandas as pd #esta es la que carga las tablas que le agregue "
      ],
      "execution_count": null,
      "outputs": []
    },
    {
      "cell_type": "code",
      "metadata": {
        "id": "mUoo_ZAWqJXn",
        "colab_type": "code",
        "colab": {}
      },
      "source": [
        "lista= [\"Xi\", \"f(Xi)\"] #estos son los margenes de mi tabla"
      ],
      "execution_count": null,
      "outputs": []
    },
    {
      "cell_type": "code",
      "metadata": {
        "id": "MqSpOa-zqJXq",
        "colab_type": "code",
        "colab": {},
        "outputId": "2876cc85-ddd4-4101-f266-790f503f1de0"
      },
      "source": [
        "reg99e= pd.read_csv(\"reg99e.csv\") #aqui llamo a mi tabla ya que esta se encontraba en otro archivo.\n",
        "reg99e #este es el nombre de mi tabla\n",
        "    "
      ],
      "execution_count": null,
      "outputs": [
        {
          "output_type": "execute_result",
          "data": {
            "text/html": [
              "<div>\n",
              "<style scoped>\n",
              "    .dataframe tbody tr th:only-of-type {\n",
              "        vertical-align: middle;\n",
              "    }\n",
              "\n",
              "    .dataframe tbody tr th {\n",
              "        vertical-align: top;\n",
              "    }\n",
              "\n",
              "    .dataframe thead th {\n",
              "        text-align: right;\n",
              "    }\n",
              "</style>\n",
              "<table border=\"1\" class=\"dataframe\">\n",
              "  <thead>\n",
              "    <tr style=\"text-align: right;\">\n",
              "      <th></th>\n",
              "      <th>Xi</th>\n",
              "      <th>F(Xi)</th>\n",
              "    </tr>\n",
              "  </thead>\n",
              "  <tbody>\n",
              "    <tr>\n",
              "      <th>0</th>\n",
              "      <td>1.6</td>\n",
              "      <td>2</td>\n",
              "    </tr>\n",
              "    <tr>\n",
              "      <th>1</th>\n",
              "      <td>2.0</td>\n",
              "      <td>8</td>\n",
              "    </tr>\n",
              "    <tr>\n",
              "      <th>2</th>\n",
              "      <td>2.5</td>\n",
              "      <td>14</td>\n",
              "    </tr>\n",
              "    <tr>\n",
              "      <th>3</th>\n",
              "      <td>3.2</td>\n",
              "      <td>15</td>\n",
              "    </tr>\n",
              "    <tr>\n",
              "      <th>4</th>\n",
              "      <td>4.0</td>\n",
              "      <td>8</td>\n",
              "    </tr>\n",
              "    <tr>\n",
              "      <th>5</th>\n",
              "      <td>4.5</td>\n",
              "      <td>2</td>\n",
              "    </tr>\n",
              "  </tbody>\n",
              "</table>\n",
              "</div>"
            ],
            "text/plain": [
              "    Xi   F(Xi)\n",
              "0  1.6       2\n",
              "1  2.0       8\n",
              "2  2.5      14\n",
              "3  3.2      15\n",
              "4  4.0       8\n",
              "5  4.5       2"
            ]
          },
          "metadata": {
            "tags": []
          },
          "execution_count": 333
        }
      ]
    },
    {
      "cell_type": "markdown",
      "metadata": {
        "id": "Ir2rlCH2qJXw",
        "colab_type": "text"
      },
      "source": [
        "Vamos a calcular las funciones de interpolacion polinomiales usando el metodo de Newton.Estas funciones estaran evaluadas del 1 a 3: $f_1(x) f_2(x) f_3(x)$ Evaluando en cada función $f$(2.8). Para esto nos apollaremos con el registro de datos discretos de la tabla de arriba\n"
      ]
    },
    {
      "cell_type": "markdown",
      "metadata": {
        "id": "A3yDAIHdqJXw",
        "colab_type": "text"
      },
      "source": [
        "Para $n=1$ usaremos la funcion $f(x_1,x_0)=\\displaystyle\\frac{f(x_1)-f(x_0)}{x_1-x_0}$ los valores que corresponden a las (x) viene determinado en la tabla pot lo que nos quedaria hacer el calculo.\n"
      ]
    },
    {
      "cell_type": "markdown",
      "metadata": {
        "id": "fxKv1vGdqJXx",
        "colab_type": "text"
      },
      "source": [
        "Le damos valor a cada termino que utilizaremos y realizamos la operacion."
      ]
    },
    {
      "cell_type": "code",
      "metadata": {
        "id": "u4iRYByiqJXx",
        "colab_type": "code",
        "colab": {}
      },
      "source": [
        "fx0 =2 #son los valores de las funciones por separado\n",
        "fx1=8\n",
        "fx2=14\n",
        "fx3=15\n",
        "x0=1.6\n",
        "x1=2.0\n",
        "x2=2.5\n",
        "x3=3.2"
      ],
      "execution_count": null,
      "outputs": []
    },
    {
      "cell_type": "markdown",
      "metadata": {
        "id": "dqn0koXXqJX0",
        "colab_type": "text"
      },
      "source": [
        "Para: $f(x_1,x_0)=\\displaystyle\\frac{f(x_1)-f(x_0)}{x_1-x_0}$"
      ]
    },
    {
      "cell_type": "code",
      "metadata": {
        "scrolled": true,
        "id": "XcgkZoIPqJX0",
        "colab_type": "code",
        "colab": {},
        "outputId": "a453ccaf-5780-4a41-8621-c942e5081ddf"
      },
      "source": [
        "(fx1-fx0)/(x1-x0)"
      ],
      "execution_count": null,
      "outputs": [
        {
          "output_type": "execute_result",
          "data": {
            "text/plain": [
              "15.000000000000004"
            ]
          },
          "metadata": {
            "tags": []
          },
          "execution_count": 335
        }
      ]
    },
    {
      "cell_type": "markdown",
      "metadata": {
        "id": "CLZ0sHoSqJX5",
        "colab_type": "text"
      },
      "source": [
        "Para: $f(x_2,x_1)=\\displaystyle\\frac{f(x_2)-f(x_1)}{x_2-x_1}$\n"
      ]
    },
    {
      "cell_type": "code",
      "metadata": {
        "id": "EJoQUZYrqJX6",
        "colab_type": "code",
        "colab": {},
        "outputId": "1c7992e1-6dfc-4154-ccb6-34c8f4264085"
      },
      "source": [
        "(fx2-fx1)/(x2-x1)"
      ],
      "execution_count": null,
      "outputs": [
        {
          "output_type": "execute_result",
          "data": {
            "text/plain": [
              "12.0"
            ]
          },
          "metadata": {
            "tags": []
          },
          "execution_count": 336
        }
      ]
    },
    {
      "cell_type": "markdown",
      "metadata": {
        "id": "WM7esLVWqJX9",
        "colab_type": "text"
      },
      "source": [
        "Para:$(x_3,x_2)=\\displaystyle\\frac{f(x_3)-f(x_2)}{x_3-x_2}$"
      ]
    },
    {
      "cell_type": "code",
      "metadata": {
        "id": "xfypMG17qJX-",
        "colab_type": "code",
        "colab": {},
        "outputId": "96b13132-8cf5-470a-e286-3847497985fb"
      },
      "source": [
        "(fx3-fx2)/(x3-x2)"
      ],
      "execution_count": null,
      "outputs": [
        {
          "output_type": "execute_result",
          "data": {
            "text/plain": [
              "1.4285714285714282"
            ]
          },
          "metadata": {
            "tags": []
          },
          "execution_count": 337
        }
      ]
    },
    {
      "cell_type": "markdown",
      "metadata": {
        "id": "ZLb0ZN_FqJYA",
        "colab_type": "text"
      },
      "source": [
        "**Unidad 2 INTERPOLACION DE LAGRANGE**"
      ]
    },
    {
      "cell_type": "code",
      "metadata": {
        "id": "16osSKilqJYB",
        "colab_type": "code",
        "colab": {}
      },
      "source": [
        "import pandas as pd #no se si era necesario volver a llamarlo pero no podia cargar mi segunda tabla"
      ],
      "execution_count": null,
      "outputs": []
    },
    {
      "cell_type": "code",
      "metadata": {
        "id": "Cj4FIdWmqJYD",
        "colab_type": "code",
        "colab": {}
      },
      "source": [
        "lista= [\"Xi\", \"yi\",\"Xiyi\",\"Xi^2\"]"
      ],
      "execution_count": null,
      "outputs": []
    },
    {
      "cell_type": "code",
      "metadata": {
        "id": "RzX6c02DqJYF",
        "colab_type": "code",
        "colab": {},
        "outputId": "90ea3be0-c774-4c31-eb28-db87504a7190"
      },
      "source": [
        "lagrange= pd.read_csv(\"lagrange.csv\")\n",
        "lagrange  #misma historia este es para llamar a mis datos para aparecerlos en la tabla"
      ],
      "execution_count": null,
      "outputs": [
        {
          "output_type": "execute_result",
          "data": {
            "text/html": [
              "<div>\n",
              "<style scoped>\n",
              "    .dataframe tbody tr th:only-of-type {\n",
              "        vertical-align: middle;\n",
              "    }\n",
              "\n",
              "    .dataframe tbody tr th {\n",
              "        vertical-align: top;\n",
              "    }\n",
              "\n",
              "    .dataframe thead th {\n",
              "        text-align: right;\n",
              "    }\n",
              "</style>\n",
              "<table border=\"1\" class=\"dataframe\">\n",
              "  <thead>\n",
              "    <tr style=\"text-align: right;\">\n",
              "      <th></th>\n",
              "      <th>/</th>\n",
              "      <th>Xi</th>\n",
              "      <th>yi</th>\n",
              "      <th>Xiyi</th>\n",
              "      <th>Xi^2</th>\n",
              "    </tr>\n",
              "  </thead>\n",
              "  <tbody>\n",
              "    <tr>\n",
              "      <th>0</th>\n",
              "      <td>/</td>\n",
              "      <td>1</td>\n",
              "      <td>5.04</td>\n",
              "      <td>5.04</td>\n",
              "      <td>1</td>\n",
              "    </tr>\n",
              "    <tr>\n",
              "      <th>1</th>\n",
              "      <td>/</td>\n",
              "      <td>2</td>\n",
              "      <td>8.12</td>\n",
              "      <td>16.24</td>\n",
              "      <td>4</td>\n",
              "    </tr>\n",
              "    <tr>\n",
              "      <th>2</th>\n",
              "      <td>/</td>\n",
              "      <td>3</td>\n",
              "      <td>10.64</td>\n",
              "      <td>31.92</td>\n",
              "      <td>9</td>\n",
              "    </tr>\n",
              "    <tr>\n",
              "      <th>3</th>\n",
              "      <td>/</td>\n",
              "      <td>4</td>\n",
              "      <td>13.18</td>\n",
              "      <td>52.72</td>\n",
              "      <td>16</td>\n",
              "    </tr>\n",
              "    <tr>\n",
              "      <th>4</th>\n",
              "      <td>/</td>\n",
              "      <td>6</td>\n",
              "      <td>20.04</td>\n",
              "      <td>120.24</td>\n",
              "      <td>36</td>\n",
              "    </tr>\n",
              "    <tr>\n",
              "      <th>5</th>\n",
              "      <td>Σ</td>\n",
              "      <td>21</td>\n",
              "      <td>73.22</td>\n",
              "      <td>307.16</td>\n",
              "      <td>91</td>\n",
              "    </tr>\n",
              "  </tbody>\n",
              "</table>\n",
              "</div>"
            ],
            "text/plain": [
              "   /  Xi     yi    Xiyi  Xi^2\n",
              "0  /   1   5.04    5.04     1\n",
              "1  /   2   8.12   16.24     4\n",
              "2  /   3  10.64   31.92     9\n",
              "3  /   4  13.18   52.72    16\n",
              "4  /   6  20.04  120.24    36\n",
              "5  Σ  21  73.22  307.16    91"
            ]
          },
          "metadata": {
            "tags": []
          },
          "execution_count": 340
        }
      ]
    },
    {
      "cell_type": "markdown",
      "metadata": {
        "id": "VJ7iiMSzqJYN",
        "colab_type": "text"
      },
      "source": [
        "Para esta operacion tambien nos ayudaremos con la tabla. sabiendo cuales son los valores y que dependen de su posicion en la tabla, podemos realizar la operaciones de cada valor individualmente para resolver la interpolacion completa"
      ]
    },
    {
      "cell_type": "markdown",
      "metadata": {
        "id": "w_Vvu1XTqJYN",
        "colab_type": "text"
      },
      "source": [
        "$f_n (x)=\\displaystyle \\sum_{i=0}^N L_i(X)f(x_i)$"
      ]
    },
    {
      "cell_type": "code",
      "metadata": {
        "id": "X8pt9xjdqJYO",
        "colab_type": "code",
        "colab": {}
      },
      "source": [
        "n=6\n",
        "Σxi=21\n",
        "Σyi=73.22\n",
        "Σxi2=91\n",
        "Σxiyi=307.16\n",
        "xpro=3\n",
        "yprom=10.46"
      ],
      "execution_count": null,
      "outputs": []
    },
    {
      "cell_type": "markdown",
      "metadata": {
        "id": "VwMK24xOqJYQ",
        "colab_type": "text"
      },
      "source": [
        "Para: $a_1=\\displaystyle\\frac{nΣxiyi-ΣxiΣyi)}{(nΣxi^2)-(Σxi)}$"
      ]
    },
    {
      "cell_type": "code",
      "metadata": {
        "id": "7ZkI-A_4qJYR",
        "colab_type": "code",
        "colab": {},
        "outputId": "0af653ff-4883-49e3-aeb5-356344f237be"
      },
      "source": [
        "((n*Σxiyi)-(Σxi*Σyi))/((n*Σxi2)-(Σxi*Σxi)) # es la sumatoria total "
      ],
      "execution_count": null,
      "outputs": [
        {
          "output_type": "execute_result",
          "data": {
            "text/plain": [
              "2.9080000000000013"
            ]
          },
          "metadata": {
            "tags": []
          },
          "execution_count": 342
        }
      ]
    },
    {
      "cell_type": "code",
      "metadata": {
        "id": "iVJ583z_qJYU",
        "colab_type": "code",
        "colab": {}
      },
      "source": [
        "a1=2.91\n",
        "Yn=12.203\n",
        "Xn=3.5\n",
        "a0=2.01"
      ],
      "execution_count": null,
      "outputs": []
    },
    {
      "cell_type": "markdown",
      "metadata": {
        "id": "T10nR13TqJYd",
        "colab_type": "text"
      },
      "source": [
        "$a0=Yn-a1Xn$"
      ]
    },
    {
      "cell_type": "code",
      "metadata": {
        "id": "XVL3Y7AJqJYd",
        "colab_type": "code",
        "colab": {},
        "outputId": "68441c82-bfbd-40f5-c4c6-dbb55ed342dc"
      },
      "source": [
        "Yn-a1*Xn"
      ],
      "execution_count": null,
      "outputs": [
        {
          "output_type": "execute_result",
          "data": {
            "text/plain": [
              "2.017999999999999"
            ]
          },
          "metadata": {
            "tags": []
          },
          "execution_count": 344
        }
      ]
    },
    {
      "cell_type": "markdown",
      "metadata": {
        "id": "NCOOplO0qJYf",
        "colab_type": "text"
      },
      "source": [
        "$y=a0+a1$"
      ]
    },
    {
      "cell_type": "code",
      "metadata": {
        "id": "dQPbl4VfqJYf",
        "colab_type": "code",
        "colab": {},
        "outputId": "9e3f9efd-afef-46e0-8b95-d6a9d59142dc"
      },
      "source": [
        "a0+a1"
      ],
      "execution_count": null,
      "outputs": [
        {
          "output_type": "execute_result",
          "data": {
            "text/plain": [
              "4.92"
            ]
          },
          "metadata": {
            "tags": []
          },
          "execution_count": 345
        }
      ]
    },
    {
      "cell_type": "markdown",
      "metadata": {
        "id": "5nEgCpcNqJYi",
        "colab_type": "text"
      },
      "source": [
        "**Unidad 3. INTEGRACION Y DIFERENCIACION NUMERICA**"
      ]
    },
    {
      "cell_type": "markdown",
      "metadata": {
        "id": "q43Xn7LrqJYi",
        "colab_type": "text"
      },
      "source": [
        "Realizaremos la siguiente integral definida $\\displaystyle \\int_{-3}^5 (4x-3)^3dx $ "
      ]
    },
    {
      "cell_type": "markdown",
      "metadata": {
        "id": "OneHpzcZqJYi",
        "colab_type": "text"
      },
      "source": [
        "definimos los valores de $t=4$"
      ]
    },
    {
      "cell_type": "markdown",
      "metadata": {
        "id": "GejnL4AWqJYk",
        "colab_type": "text"
      },
      "source": [
        "de igual manera los valores de $tx=4x-3$"
      ]
    },
    {
      "cell_type": "markdown",
      "metadata": {
        "id": "e5tJ-hJRqJYm",
        "colab_type": "text"
      },
      "source": [
        "agregamos una fraccion para poder dividir la ecuacion y pasamos el 3 como exponente $\\displaystyle \\int (4x-3)^3\\frac{1}{4}dx )$"
      ]
    },
    {
      "cell_type": "markdown",
      "metadata": {
        "id": "psmqaUqUqJYo",
        "colab_type": "text"
      },
      "source": [
        "de esta manera podemos multiplicar la fraccion y ahora pasara a dividir la ecuacion $\\displaystyle \\int \\frac{(4x-3)^3}{4}dx )$"
      ]
    },
    {
      "cell_type": "markdown",
      "metadata": {
        "id": "eaKoCUKEqJYp",
        "colab_type": "text"
      },
      "source": [
        "ahora reemplazamos la ecuacion por nuestro $tx$ $\\displaystyle \\int \\frac{tx^3}{4}dx )$ de esta manera podemos sacar la fraccion y esto nos permitiria sumarle 1 a nuestro exponente "
      ]
    },
    {
      "cell_type": "markdown",
      "metadata": {
        "id": "8N08Zgl-qJYp",
        "colab_type": "text"
      },
      "source": [
        "$\\frac{1}{4}\\displaystyle \\int tx^3dx )$ ahora podemos multiplicar la fraccion no sin antes devolver sus valores originales $\\displaystyle\\frac{1}{4}\\frac{(4x-3)^4}{4}|_{-3}^5$"
      ]
    },
    {
      "cell_type": "markdown",
      "metadata": {
        "id": "dPo7f7fvqJYp",
        "colab_type": "text"
      },
      "source": [
        "solo resta reemplazar los valores en la intregral y resolvemos "
      ]
    },
    {
      "cell_type": "code",
      "metadata": {
        "id": "WwEDoBv6qJYq",
        "colab_type": "code",
        "colab": {},
        "outputId": "bb7ffc65-4e6b-4986-a768-817b3884b341"
      },
      "source": [
        "(4*5-(3))**4/16-((4*-3)-(3))**4/16"
      ],
      "execution_count": null,
      "outputs": [
        {
          "output_type": "execute_result",
          "data": {
            "text/plain": [
              "2056.0"
            ]
          },
          "metadata": {
            "tags": []
          },
          "execution_count": 346
        }
      ]
    },
    {
      "cell_type": "markdown",
      "metadata": {
        "id": "LAaYnh1EqJYr",
        "colab_type": "text"
      },
      "source": [
        "$V.a=2056$"
      ]
    },
    {
      "cell_type": "code",
      "metadata": {
        "id": "UCLtC3wTqJYs",
        "colab_type": "code",
        "colab": {}
      },
      "source": [
        "#no se si era necesario pero se me fue la pinza resolviendo la integral para que se mirara mas presentable y hacer uso de las diferentes herramientas"
      ],
      "execution_count": null,
      "outputs": []
    },
    {
      "cell_type": "markdown",
      "metadata": {
        "id": "JIkeideHqJYt",
        "colab_type": "text"
      },
      "source": [
        "**Metodo simpson** $\\displaystyle\\frac{1}{3}$"
      ]
    },
    {
      "cell_type": "markdown",
      "metadata": {
        "id": "JNcNIW_xqJYt",
        "colab_type": "text"
      },
      "source": [
        "Para este metodo tomamos prestada la ecuación de Newton-Cotes pero ahora la aproximación es\n",
        "con un polinomio. Para realizar este metodo usaremos la funcion:"
      ]
    },
    {
      "cell_type": "markdown",
      "metadata": {
        "id": "60H6dvqZqJYu",
        "colab_type": "text"
      },
      "source": [
        "$\\displaystyle I=(b-a)\\frac{fx_0+4f(x_1)+f(x_2)}{6}$\n"
      ]
    },
    {
      "cell_type": "markdown",
      "metadata": {
        "id": "5wBNMX6lqJYu",
        "colab_type": "text"
      },
      "source": [
        "Como ya mencionamos, este metodo usa la ecuacion de Newton asi como sus resultados para completar el metodo."
      ]
    },
    {
      "cell_type": "markdown",
      "metadata": {
        "id": "a61ouJbVqJYu",
        "colab_type": "text"
      },
      "source": [
        "$\\displaystyle x_0=-3$"
      ]
    },
    {
      "cell_type": "markdown",
      "metadata": {
        "id": "a-nytrQQqJYv",
        "colab_type": "text"
      },
      "source": [
        "$\\displaystyle x_1=\\frac{5-(-2)}{3}=4$"
      ]
    },
    {
      "cell_type": "markdown",
      "metadata": {
        "id": "LhKWFmnrqJYv",
        "colab_type": "text"
      },
      "source": [
        "$\\displaystyle x_2=5$"
      ]
    },
    {
      "cell_type": "markdown",
      "metadata": {
        "id": "ElmT4agCqJYw",
        "colab_type": "text"
      },
      "source": [
        "$\\displaystyle f(x_0)=-3375 $"
      ]
    },
    {
      "cell_type": "markdown",
      "metadata": {
        "id": "UDcs8oLfqJYw",
        "colab_type": "text"
      },
      "source": [
        "$\\displaystyle f(x_1)=2197 $"
      ]
    },
    {
      "cell_type": "markdown",
      "metadata": {
        "id": "xWQX0upYqJYw",
        "colab_type": "text"
      },
      "source": [
        "$\\displaystyle f(x_2)=4913 $"
      ]
    },
    {
      "cell_type": "code",
      "metadata": {
        "id": "YA21LzOaqJYw",
        "colab_type": "code",
        "colab": {}
      },
      "source": [
        "a=-3\n",
        "b=5\n",
        "𝑥0=-3\n",
        "𝑥1=4\n",
        "𝑥2=5\n",
        "𝑓𝑥0=-3375\n",
        "𝑓𝑥1=2197\n",
        "𝑓𝑥2=4913 #valores por separado de cada elemento"
      ],
      "execution_count": null,
      "outputs": []
    },
    {
      "cell_type": "code",
      "metadata": {
        "id": "DHZOb5xDqJY3",
        "colab_type": "code",
        "colab": {},
        "outputId": "eb971793-c0e8-4219-df6b-f05415a46c3b"
      },
      "source": [
        "((b-a)*((𝑓𝑥0+4*𝑓𝑥1)+𝑓𝑥2)/6)"
      ],
      "execution_count": null,
      "outputs": [
        {
          "output_type": "execute_result",
          "data": {
            "text/plain": [
              "13768.0"
            ]
          },
          "metadata": {
            "tags": []
          },
          "execution_count": 348
        }
      ]
    },
    {
      "cell_type": "markdown",
      "metadata": {
        "id": "dQRYNRsBqJY8",
        "colab_type": "text"
      },
      "source": [
        "$I=13768$"
      ]
    },
    {
      "cell_type": "markdown",
      "metadata": {
        "id": "fF2wGdyFqJY8",
        "colab_type": "text"
      },
      "source": [
        "$\\displaystyle Er=\\frac{V.a-I}{V.a}$"
      ]
    },
    {
      "cell_type": "code",
      "metadata": {
        "id": "px_QSKH0qJY9",
        "colab_type": "code",
        "colab": {},
        "outputId": "30622e27-24b4-4f8e-db2c-fe3de40213ed"
      },
      "source": [
        "(2056-13768)/2056*100"
      ],
      "execution_count": null,
      "outputs": [
        {
          "output_type": "execute_result",
          "data": {
            "text/plain": [
              "-569.6498054474708"
            ]
          },
          "metadata": {
            "tags": []
          },
          "execution_count": 349
        }
      ]
    },
    {
      "cell_type": "markdown",
      "metadata": {
        "id": "CdY2K0k0qJY_",
        "colab_type": "text"
      },
      "source": [
        "**Unidad 4. SOLUCION DE SISTEMAS DE ECUACUIONES LINEALES**"
      ]
    },
    {
      "cell_type": "markdown",
      "metadata": {
        "id": "mKaQyj47qJY_",
        "colab_type": "text"
      },
      "source": [
        "**Metodo Jacobi**"
      ]
    },
    {
      "cell_type": "markdown",
      "metadata": {
        "id": "2qScwbuZqJY_",
        "colab_type": "text"
      },
      "source": [
        "Es un método iterativo en la solución de sistemas de ecuaciones lineales propuesto\n",
        "por Carl Gustav Jakob Jacobi. Generalmente se utiliza para sistemas de dimensiones grandes, ya que es iterativo.\n"
      ]
    },
    {
      "cell_type": "markdown",
      "metadata": {
        "id": "zlngJLpEqJZA",
        "colab_type": "text"
      },
      "source": [
        "Se generan iteraciones de las componentes del vector “x” a partir de las\n",
        "soluciones ya calculadas. En un sistema de 3x3, como los que hemos analizado las soluciones se\n",
        "resuelven mediante:"
      ]
    },
    {
      "cell_type": "markdown",
      "metadata": {
        "id": "56ySUPALqJZA",
        "colab_type": "text"
      },
      "source": [
        "$\\displaystyle x_1^1=\\frac {-(a_12)(x_2^0)-(a_13)(x_3^0)+(b_1)}{a_11}$"
      ]
    },
    {
      "cell_type": "markdown",
      "metadata": {
        "id": "DUFZC9qFqJZA",
        "colab_type": "text"
      },
      "source": [
        "$\\displaystyle x_2^1=\\frac {-(a_21)(x_1^0)-(a_23)(x_3^0)+(b_2)}{a_22}$"
      ]
    },
    {
      "cell_type": "markdown",
      "metadata": {
        "id": "NrQ_HusTqJZA",
        "colab_type": "text"
      },
      "source": [
        "$\\displaystyle x_3^1=\\frac {-(a_31)(x_1^0)-(a_32)(x_3^0)+(b_3)}{a_33}$"
      ]
    },
    {
      "cell_type": "markdown",
      "metadata": {
        "id": "qlMpiUEqqJZB",
        "colab_type": "text"
      },
      "source": [
        "Para el siguiente conjunto de ecuaciones se pueden realizar con el metodo de Jacobi, pero primero se tienen que acomodar"
      ]
    },
    {
      "cell_type": "markdown",
      "metadata": {
        "id": "KaBwVyLHqJZB",
        "colab_type": "text"
      },
      "source": [
        "$ \\displaystyle x+y-2z=-2 $"
      ]
    },
    {
      "cell_type": "markdown",
      "metadata": {
        "id": "OR7n5ZYXqJZB",
        "colab_type": "text"
      },
      "source": [
        "$ \\displaystyle y+3z=7 $"
      ]
    },
    {
      "cell_type": "markdown",
      "metadata": {
        "id": "qiYFB5yuqJZC",
        "colab_type": "text"
      },
      "source": [
        "$ \\displaystyle x-z=-1 $"
      ]
    },
    {
      "cell_type": "markdown",
      "metadata": {
        "id": "CZ8Ob4XoqJZC",
        "colab_type": "text"
      },
      "source": [
        "$A=\\begin{bmatrix} \n",
        "1,1,-2\\\\  \n",
        "0,1,.3\\\\\n",
        "1,0,-1\n",
        "\\end{bmatrix}$\n"
      ]
    },
    {
      "cell_type": "markdown",
      "metadata": {
        "id": "Y022ngBVqJZC",
        "colab_type": "text"
      },
      "source": [
        "$X=\\begin{bmatrix}\n",
        "x_1\\\\\n",
        "x_2\\\\\n",
        "x_3\n",
        "\\end{bmatrix}$"
      ]
    },
    {
      "cell_type": "markdown",
      "metadata": {
        "id": "j8EEiPpvqJZD",
        "colab_type": "text"
      },
      "source": [
        "$b=\\begin{bmatrix}\n",
        "-2\\\\\n",
        "7\\\\-1\n",
        "\\end{bmatrix}$"
      ]
    },
    {
      "cell_type": "markdown",
      "metadata": {
        "id": "GUiYQawXqJZD",
        "colab_type": "text"
      },
      "source": [
        "Una vez acomodadas las ecuaciones es cuando se empieza a sustituir las \"a^\" las \"x\" y las \"b\" en nuestro sistema de ecuaciones "
      ]
    },
    {
      "cell_type": "markdown",
      "metadata": {
        "id": "vZR4eOJdqJZD",
        "colab_type": "text"
      },
      "source": [
        "$\\displaystyle x_1^1=\\frac {-(a_12)(x_2^0)-(a_13)(x_3^0)+(b_1)}{a_11}=$"
      ]
    },
    {
      "cell_type": "code",
      "metadata": {
        "id": "Pq06OSCGqJZD",
        "colab_type": "code",
        "colab": {},
        "outputId": "b01304cb-057d-48f0-c4ad-595a456323a8"
      },
      "source": [
        "(-(1)*(0)-(-2)*(0)+(-2))/1"
      ],
      "execution_count": null,
      "outputs": [
        {
          "output_type": "execute_result",
          "data": {
            "text/plain": [
              "-2.0"
            ]
          },
          "metadata": {
            "tags": []
          },
          "execution_count": 406
        }
      ]
    },
    {
      "cell_type": "markdown",
      "metadata": {
        "id": "SFCdtH8AqJZL",
        "colab_type": "text"
      },
      "source": [
        "$\\displaystyle x_2^1=\\frac {-(a_21)(x_1^0)-(a_23)(x_3^0)+(b_2)}{a_22}=$"
      ]
    },
    {
      "cell_type": "code",
      "metadata": {
        "id": "f6v-FA8-qJZL",
        "colab_type": "code",
        "colab": {},
        "outputId": "ec3f96e8-78ef-490f-a75f-f20e3faa8943"
      },
      "source": [
        "(-(0)*(0)-(-3)*(0)+(7))/1"
      ],
      "execution_count": null,
      "outputs": [
        {
          "output_type": "execute_result",
          "data": {
            "text/plain": [
              "7.0"
            ]
          },
          "metadata": {
            "tags": []
          },
          "execution_count": 407
        }
      ]
    },
    {
      "cell_type": "markdown",
      "metadata": {
        "id": "mFwN5WMTqJZN",
        "colab_type": "text"
      },
      "source": [
        "$\\displaystyle x_3^1=\\frac {-(a_31)(x_1^0)-(a_32)(x_2^0)+(b_3)}{a_33}=$"
      ]
    },
    {
      "cell_type": "code",
      "metadata": {
        "id": "kF8DR7w4qJZN",
        "colab_type": "code",
        "colab": {},
        "outputId": "e5ffa62a-a5bd-4d82-aa4a-905f5c789d17"
      },
      "source": [
        "(-(1)*(0)-(-0)*(0)+(-1))/-1"
      ],
      "execution_count": null,
      "outputs": [
        {
          "output_type": "execute_result",
          "data": {
            "text/plain": [
              "1.0"
            ]
          },
          "metadata": {
            "tags": []
          },
          "execution_count": 408
        }
      ]
    },
    {
      "cell_type": "markdown",
      "metadata": {
        "id": "vFvxb4JOqJZP",
        "colab_type": "text"
      },
      "source": [
        "$\\displaystyle X_1^1=-2 $ "
      ]
    },
    {
      "cell_type": "markdown",
      "metadata": {
        "id": "0bsAGyqmqJZP",
        "colab_type": "text"
      },
      "source": [
        "$\\displaystyle X_2^1=7 $"
      ]
    },
    {
      "cell_type": "markdown",
      "metadata": {
        "id": "L_22Zo8jqJZR",
        "colab_type": "text"
      },
      "source": [
        "$\\displaystyle X_3^1=1$"
      ]
    },
    {
      "cell_type": "markdown",
      "metadata": {
        "id": "TVgH0YfuqJZS",
        "colab_type": "text"
      },
      "source": [
        "una vez obtenidos los resultados, estos se usaran en la proxima interaccion "
      ]
    },
    {
      "cell_type": "markdown",
      "metadata": {
        "id": "JjGUsiRKqJZT",
        "colab_type": "text"
      },
      "source": [
        "$\\displaystyle x_1^2=\\frac {-(a_12)(x_2^1)-(a_13)(x_3^1)+(b_1)}{a_11}=$"
      ]
    },
    {
      "cell_type": "code",
      "metadata": {
        "id": "m-F3lLIsqJZT",
        "colab_type": "code",
        "colab": {},
        "outputId": "617b7596-b4a8-416a-a554-5b95ac6565a7"
      },
      "source": [
        "(-(1)*(7)-(-2)*(1)+(-2))/1"
      ],
      "execution_count": null,
      "outputs": [
        {
          "output_type": "execute_result",
          "data": {
            "text/plain": [
              "-7.0"
            ]
          },
          "metadata": {
            "tags": []
          },
          "execution_count": 409
        }
      ]
    },
    {
      "cell_type": "markdown",
      "metadata": {
        "id": "0bSMXzkgqJZV",
        "colab_type": "text"
      },
      "source": [
        "$\\displaystyle x_2^2\\frac {-(a_21)(x_1^1)-(a_23)(x_3^1)+(b_2)}{a_22}=$"
      ]
    },
    {
      "cell_type": "code",
      "metadata": {
        "id": "7EdItiMpqJZV",
        "colab_type": "code",
        "colab": {},
        "outputId": "27eb90c8-a420-469e-ad51-808ffc85a410"
      },
      "source": [
        "(-(0)*(-2)-(3)*(1)+(7))/1"
      ],
      "execution_count": null,
      "outputs": [
        {
          "output_type": "execute_result",
          "data": {
            "text/plain": [
              "4.0"
            ]
          },
          "metadata": {
            "tags": []
          },
          "execution_count": 410
        }
      ]
    },
    {
      "cell_type": "markdown",
      "metadata": {
        "id": "dGbkRwq_qJZW",
        "colab_type": "text"
      },
      "source": [
        "$\\displaystyle x_3^2=\\frac {-(a_31)(x_1^1)-(a_32)(x_2^1)+(b_3)}{a_33}=$"
      ]
    },
    {
      "cell_type": "code",
      "metadata": {
        "id": "vR9EDZWGqJZX",
        "colab_type": "code",
        "colab": {},
        "outputId": "48407345-b12c-4372-ffa9-11a601271885"
      },
      "source": [
        "(-(1)*(-2)-(0)*(7)+(-1))/(-1)"
      ],
      "execution_count": null,
      "outputs": [
        {
          "output_type": "execute_result",
          "data": {
            "text/plain": [
              "-1.0"
            ]
          },
          "metadata": {
            "tags": []
          },
          "execution_count": 411
        }
      ]
    },
    {
      "cell_type": "markdown",
      "metadata": {
        "id": "pHJjOhhKqJZZ",
        "colab_type": "text"
      },
      "source": [
        "$\\displaystyle X_1^2=-7 $ "
      ]
    },
    {
      "cell_type": "markdown",
      "metadata": {
        "id": "3LFlWf5wqJZZ",
        "colab_type": "text"
      },
      "source": [
        "$\\displaystyle X_2^2=4 $"
      ]
    },
    {
      "cell_type": "markdown",
      "metadata": {
        "id": "ZiQWUfFaqJZZ",
        "colab_type": "text"
      },
      "source": [
        "$\\displaystyle X_3^2=-1$"
      ]
    },
    {
      "cell_type": "markdown",
      "metadata": {
        "id": "n9_ulaBuqJZZ",
        "colab_type": "text"
      },
      "source": [
        "$\\displaystyle x_1^3=\\frac {-(a_12)(x_2^2)-(a_13)(x_3^2)+(b_1)}{a_11}=$"
      ]
    },
    {
      "cell_type": "code",
      "metadata": {
        "id": "lYKgZVFCqJZa",
        "colab_type": "code",
        "colab": {},
        "outputId": "416a0f41-1759-4235-8aa3-f62e310ac121"
      },
      "source": [
        "(-(1)*(4)-(-2)*(-1)+(-2))/1"
      ],
      "execution_count": null,
      "outputs": [
        {
          "output_type": "execute_result",
          "data": {
            "text/plain": [
              "-8.0"
            ]
          },
          "metadata": {
            "tags": []
          },
          "execution_count": 412
        }
      ]
    },
    {
      "cell_type": "markdown",
      "metadata": {
        "id": "-PdSMDSBqJZo",
        "colab_type": "text"
      },
      "source": [
        "$\\displaystyle x_2^3\\frac {-(a_21)(x_1^3)-(a_23)(x_3^2)+(b_2)}{a_22}=$"
      ]
    },
    {
      "cell_type": "code",
      "metadata": {
        "id": "VKlB0rMZqJZp",
        "colab_type": "code",
        "colab": {},
        "outputId": "1fa4ac94-08d2-4f29-885e-5c0feea6e3d8"
      },
      "source": [
        "(-(0)*(7)-(3)*(-1)+(7))/1"
      ],
      "execution_count": null,
      "outputs": [
        {
          "output_type": "execute_result",
          "data": {
            "text/plain": [
              "10.0"
            ]
          },
          "metadata": {
            "tags": []
          },
          "execution_count": 413
        }
      ]
    },
    {
      "cell_type": "markdown",
      "metadata": {
        "id": "KW95q1kMqJZq",
        "colab_type": "text"
      },
      "source": [
        "$\\displaystyle x_3^3=\\frac {-(a_31)(x_1^2)-(a_32)(x_2^2)+(b_3)}{a_33}=$"
      ]
    },
    {
      "cell_type": "code",
      "metadata": {
        "id": "bqFvAR8pqJZq",
        "colab_type": "code",
        "colab": {},
        "outputId": "3e75ae26-7e93-43d3-c1d0-c88907c048b4"
      },
      "source": [
        "(-(1)*(-7)-(0)*(4)+(-1))/(-1)"
      ],
      "execution_count": null,
      "outputs": [
        {
          "output_type": "execute_result",
          "data": {
            "text/plain": [
              "-6.0"
            ]
          },
          "metadata": {
            "tags": []
          },
          "execution_count": 414
        }
      ]
    },
    {
      "cell_type": "markdown",
      "metadata": {
        "id": "xKl5n8IvqJZu",
        "colab_type": "text"
      },
      "source": [
        "$\\displaystyle X_1^3=-8 $ "
      ]
    },
    {
      "cell_type": "markdown",
      "metadata": {
        "id": "5UbRKDHhqJZv",
        "colab_type": "text"
      },
      "source": [
        "$\\displaystyle X_2^3=10 $"
      ]
    },
    {
      "cell_type": "markdown",
      "metadata": {
        "id": "sPsBP3jAqJZv",
        "colab_type": "text"
      },
      "source": [
        "$\\displaystyle X_3^3=-6$"
      ]
    },
    {
      "cell_type": "markdown",
      "metadata": {
        "id": "AZCH6-WaqJZv",
        "colab_type": "text"
      },
      "source": [
        "$\\displaystyle x_1^4=\\frac {-(a_12)(x_2^3)-(a_13)(x_3^3)+(b_1)}{a_11}=$"
      ]
    },
    {
      "cell_type": "code",
      "metadata": {
        "id": "TqCkswmnqJZv",
        "colab_type": "code",
        "colab": {},
        "outputId": "6007cbf5-2c62-4888-9148-ddbb29383c1b"
      },
      "source": [
        "(-(1)*(10)-(-2)*(-6)+(-2))/1"
      ],
      "execution_count": null,
      "outputs": [
        {
          "output_type": "execute_result",
          "data": {
            "text/plain": [
              "-24.0"
            ]
          },
          "metadata": {
            "tags": []
          },
          "execution_count": 415
        }
      ]
    },
    {
      "cell_type": "markdown",
      "metadata": {
        "id": "GZH67OeVqJZy",
        "colab_type": "text"
      },
      "source": [
        "$\\displaystyle x_2^4\\frac {-(a_21)(x_1^3)-(a_23)(x_3^3)+(b_2)}{a_22}=$"
      ]
    },
    {
      "cell_type": "code",
      "metadata": {
        "id": "TcFX1k8pqJZz",
        "colab_type": "code",
        "colab": {},
        "outputId": "ecf99db8-fe2b-4f40-d2c9-ae3364545e36"
      },
      "source": [
        "(-(0)*(-8)-(3)*(-6)+(7))/1"
      ],
      "execution_count": null,
      "outputs": [
        {
          "output_type": "execute_result",
          "data": {
            "text/plain": [
              "25.0"
            ]
          },
          "metadata": {
            "tags": []
          },
          "execution_count": 416
        }
      ]
    },
    {
      "cell_type": "markdown",
      "metadata": {
        "id": "cDcdoStfqJZ0",
        "colab_type": "text"
      },
      "source": [
        "$\\displaystyle x_3^4=\\frac {-(a_31)(x_1^3)-(a_32)(x_2^3)+(b_3)}{a_33}=$"
      ]
    },
    {
      "cell_type": "code",
      "metadata": {
        "id": "0QGr94MjqJZ0",
        "colab_type": "code",
        "colab": {},
        "outputId": "e998cbb4-e56b-47fe-848f-aa382d12df00"
      },
      "source": [
        "(-(1)*(-8)-(0)*(10)+(-1))/(-1)"
      ],
      "execution_count": null,
      "outputs": [
        {
          "output_type": "execute_result",
          "data": {
            "text/plain": [
              "-7.0"
            ]
          },
          "metadata": {
            "tags": []
          },
          "execution_count": 417
        }
      ]
    },
    {
      "cell_type": "markdown",
      "metadata": {
        "id": "_yYAcxU6qJZ2",
        "colab_type": "text"
      },
      "source": [
        "$\\displaystyle X_1^4=-24 $ "
      ]
    },
    {
      "cell_type": "markdown",
      "metadata": {
        "id": "nYNuZpTTqJZ2",
        "colab_type": "text"
      },
      "source": [
        "$\\displaystyle X_2^4=25 $"
      ]
    },
    {
      "cell_type": "markdown",
      "metadata": {
        "id": "mWpjJCIDqJZ3",
        "colab_type": "text"
      },
      "source": [
        "$\\displaystyle X_3^4=-7$"
      ]
    },
    {
      "cell_type": "markdown",
      "metadata": {
        "id": "T-T3uBhyqJZ3",
        "colab_type": "text"
      },
      "source": [
        "$\\displaystyle x_1^5=\\frac {-(a_12)(x_2^4)-(a_13)(x_3^4)+(b_1)}{a_11}=$"
      ]
    },
    {
      "cell_type": "code",
      "metadata": {
        "id": "dlBW4butqJZ4",
        "colab_type": "code",
        "colab": {},
        "outputId": "68434620-d051-47e6-ba02-0cb1b0f27974"
      },
      "source": [
        "(-(1)*(25)-(-2)*(-7)+(-2))/1"
      ],
      "execution_count": null,
      "outputs": [
        {
          "output_type": "execute_result",
          "data": {
            "text/plain": [
              "-41.0"
            ]
          },
          "metadata": {
            "tags": []
          },
          "execution_count": 418
        }
      ]
    },
    {
      "cell_type": "markdown",
      "metadata": {
        "id": "fLpM1zWeqJZ5",
        "colab_type": "text"
      },
      "source": [
        "$\\displaystyle x_2^5\\frac {-(a_21)(x_1^4)-(a_23)(x_3^4)+(b_2)}{a_22}=$"
      ]
    },
    {
      "cell_type": "code",
      "metadata": {
        "id": "ZDOnhnU3qJZ5",
        "colab_type": "code",
        "colab": {},
        "outputId": "b1825c4a-5687-448f-8651-6f31d003daa7"
      },
      "source": [
        "(-(0)*(-24)-(3)*(-7)+(7))/1"
      ],
      "execution_count": null,
      "outputs": [
        {
          "output_type": "execute_result",
          "data": {
            "text/plain": [
              "28.0"
            ]
          },
          "metadata": {
            "tags": []
          },
          "execution_count": 419
        }
      ]
    },
    {
      "cell_type": "markdown",
      "metadata": {
        "id": "UjHAfltuqJZ8",
        "colab_type": "text"
      },
      "source": [
        "$\\displaystyle x_3^5=\\frac {-(a_31)(x_1^4)-(a_32)(x_2^4)+(b_3)}{a_33}=$"
      ]
    },
    {
      "cell_type": "code",
      "metadata": {
        "id": "lYhL0MOTqJZ9",
        "colab_type": "code",
        "colab": {},
        "outputId": "ae005258-174d-4935-9788-96cd4353e8d2"
      },
      "source": [
        "(-(1)*(-24)-(0)*(25)+(-1))/(-1)"
      ],
      "execution_count": null,
      "outputs": [
        {
          "output_type": "execute_result",
          "data": {
            "text/plain": [
              "-23.0"
            ]
          },
          "metadata": {
            "tags": []
          },
          "execution_count": 420
        }
      ]
    },
    {
      "cell_type": "markdown",
      "metadata": {
        "id": "u7_-0WHwqJZ_",
        "colab_type": "text"
      },
      "source": [
        "Como punto final solo nos queda sacar el porcentaje del error relativo"
      ]
    },
    {
      "cell_type": "markdown",
      "metadata": {
        "id": "lmLyajy2qJZ_",
        "colab_type": "text"
      },
      "source": [
        "$ \\displaystyle x_1^2= \\frac{-7-(2)}{-7}$"
      ]
    },
    {
      "cell_type": "code",
      "metadata": {
        "id": "sVePWaHvqJaA",
        "colab_type": "code",
        "colab": {},
        "outputId": "066dc5bf-c158-4c04-cb1d-bf9d6c47e53b"
      },
      "source": [
        "((-7-(-2))/-7)*100"
      ],
      "execution_count": null,
      "outputs": [
        {
          "output_type": "execute_result",
          "data": {
            "text/plain": [
              "71.42857142857143"
            ]
          },
          "metadata": {
            "tags": []
          },
          "execution_count": 421
        }
      ]
    },
    {
      "cell_type": "markdown",
      "metadata": {
        "id": "nOFtwVF9qJaB",
        "colab_type": "text"
      },
      "source": [
        "$ \\displaystyle x_2^2= \\frac {4-7}{4} $"
      ]
    },
    {
      "cell_type": "code",
      "metadata": {
        "id": "kzcFltQ-qJaB",
        "colab_type": "code",
        "colab": {},
        "outputId": "6387de86-dacc-4b26-b253-123b93ced0e9"
      },
      "source": [
        "((4-7)/4)*100"
      ],
      "execution_count": null,
      "outputs": [
        {
          "output_type": "execute_result",
          "data": {
            "text/plain": [
              "-75.0"
            ]
          },
          "metadata": {
            "tags": []
          },
          "execution_count": 422
        }
      ]
    },
    {
      "cell_type": "markdown",
      "metadata": {
        "id": "QlqLEZaRqJaD",
        "colab_type": "text"
      },
      "source": [
        "$ \\displaystyle x_3^2= \\frac{-1-(1)}{-1}$"
      ]
    },
    {
      "cell_type": "code",
      "metadata": {
        "id": "uI8XgIDRqJaD",
        "colab_type": "code",
        "colab": {},
        "outputId": "0fdda826-1a65-4296-d06b-7bac104523e7"
      },
      "source": [
        "(-1-(1)/-1)*100"
      ],
      "execution_count": null,
      "outputs": [
        {
          "output_type": "execute_result",
          "data": {
            "text/plain": [
              "0.0"
            ]
          },
          "metadata": {
            "tags": []
          },
          "execution_count": 423
        }
      ]
    },
    {
      "cell_type": "code",
      "metadata": {
        "id": "_A1m7K30qJaE",
        "colab_type": "code",
        "colab": {}
      },
      "source": [
        "#creo que hubiera sido mas facil haber creado un ciclo para todo esto ultimo :("
      ],
      "execution_count": null,
      "outputs": []
    }
  ]
}